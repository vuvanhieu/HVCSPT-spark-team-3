{
 "cells": [
  {
   "cell_type": "code",
   "execution_count": 3,
   "id": "ad92dabf",
   "metadata": {},
   "outputs": [],
   "source": [
    "#Tạo một đối tượng SparkSession mới để sử dụng Spark\n",
    "import findspark\n",
    "findspark.init()\n",
    "\n",
    "from pyspark.sql import SparkSession\n",
    "spark=SparkSession.builder.appName('Linear Regression').getOrCreate()"
   ]
  },
  {
   "cell_type": "code",
   "execution_count": 4,
   "id": "8d76f218",
   "metadata": {},
   "outputs": [],
   "source": [
    "#Tải thư viện\n",
    "from pyspark.ml.regression import LinearRegression"
   ]
  },
  {
   "cell_type": "code",
   "execution_count": 14,
   "id": "0a7c19c2",
   "metadata": {},
   "outputs": [],
   "source": [
    "#Tải dữ liệu\n",
    "df=spark.read.csv('C:\\house_data.csv',inferSchema=True,header=True)"
   ]
  },
  {
   "cell_type": "code",
   "execution_count": 15,
   "id": "42ee451d",
   "metadata": {},
   "outputs": [
    {
     "name": "stdout",
     "output_type": "stream",
     "text": [
      "(21613, 21)\n"
     ]
    }
   ],
   "source": [
    "#Khai thác và phân tích dữ liệu\n",
    "#Kiểm tra kích thước dữ liệu\n",
    "print((df.count(), len(df.columns)))"
   ]
  },
  {
   "cell_type": "code",
   "execution_count": 16,
   "id": "f19cb850",
   "metadata": {},
   "outputs": [
    {
     "name": "stdout",
     "output_type": "stream",
     "text": [
      "root\n",
      " |-- id: long (nullable = true)\n",
      " |-- date: string (nullable = true)\n",
      " |-- price: double (nullable = true)\n",
      " |-- bedrooms: integer (nullable = true)\n",
      " |-- bathrooms: double (nullable = true)\n",
      " |-- sqft_living: integer (nullable = true)\n",
      " |-- sqft_lot: integer (nullable = true)\n",
      " |-- floors: double (nullable = true)\n",
      " |-- waterfront: integer (nullable = true)\n",
      " |-- view: integer (nullable = true)\n",
      " |-- condition: integer (nullable = true)\n",
      " |-- grade: integer (nullable = true)\n",
      " |-- sqft_above: integer (nullable = true)\n",
      " |-- sqft_basement: integer (nullable = true)\n",
      " |-- yr_built: integer (nullable = true)\n",
      " |-- yr_renovated: integer (nullable = true)\n",
      " |-- zipcode: integer (nullable = true)\n",
      " |-- lat: double (nullable = true)\n",
      " |-- long: double (nullable = true)\n",
      " |-- sqft_living15: integer (nullable = true)\n",
      " |-- sqft_lot15: integer (nullable = true)\n",
      "\n"
     ]
    }
   ],
   "source": [
    "#Xem kiểu dữ liệu\n",
    "df.printSchema()"
   ]
  },
  {
   "cell_type": "code",
   "execution_count": 17,
   "id": "1abaecfd",
   "metadata": {},
   "outputs": [
    {
     "name": "stdout",
     "output_type": "stream",
     "text": [
      "+-------+--------------------+---------------+------------------+-----------------+------------------+------------------+------------------+------------------+--------------------+-------------------+------------------+------------------+------------------+------------------+------------------+------------------+------------------+-------------------+-------------------+-----------------+------------------+\n",
      "|summary|id                  |date           |price             |bedrooms         |bathrooms         |sqft_living       |sqft_lot          |floors            |waterfront          |view               |condition         |grade             |sqft_above        |sqft_basement     |yr_built          |yr_renovated      |zipcode           |lat                |long               |sqft_living15    |sqft_lot15        |\n",
      "+-------+--------------------+---------------+------------------+-----------------+------------------+------------------+------------------+------------------+--------------------+-------------------+------------------+------------------+------------------+------------------+------------------+------------------+------------------+-------------------+-------------------+-----------------+------------------+\n",
      "|count  |21613               |21613          |21613             |21613            |21613             |21613             |21613             |21613             |21613               |21613              |21613             |21613             |21613             |21613             |21613             |21613             |21613             |21613              |21613              |21613            |21613             |\n",
      "|mean   |4.580301520864988E9 |null           |540088.1417665294 |3.37084162309721 |2.1147573219821405|2079.8997362698374|15106.967565816869|1.4943089807060566|0.007541757275713691|0.23430342849211122|3.4094295100171195|7.656873178179799 |1788.3906907879516|291.5090454818859 |1971.0051357978994|84.40225790033776 |98077.93980474715 |47.56005251931704  |-122.21389640494083|1986.552491556008|12768.455651691113|\n",
      "|stddev |2.8765655713120522E9|null           |367127.19648270035|0.930061831147451|0.770163157217741 |918.4408970468096 |41420.51151513551 |0.5399888951423489|0.08651719772788748 |0.7663175692736114 |0.6507430463662044|1.1754587569743344|828.0909776519175 |442.57504267746685|29.373410802386243|401.67924001917504|53.505026257472466|0.13856371024192368|0.14082834238139288|685.3913042527788|27304.179631338524|\n",
      "|min    |1000102             |20140502T000000|75000.0           |0                |0.0               |290               |520               |1.0               |0                   |0                  |1                 |1                 |290               |0                 |1900              |0                 |98001             |47.1559            |-122.519           |399              |651               |\n",
      "|max    |9900000190          |20150527T000000|7700000.0         |33               |8.0               |13540             |1651359           |3.5               |1                   |4                  |5                 |13                |9410              |4820              |2015              |2015              |98199             |47.7776            |-121.315           |6210             |871200            |\n",
      "+-------+--------------------+---------------+------------------+-----------------+------------------+------------------+------------------+------------------+--------------------+-------------------+------------------+------------------+------------------+------------------+------------------+------------------+------------------+-------------------+-------------------+-----------------+------------------+\n",
      "\n"
     ]
    },
    {
     "data": {
      "text/plain": [
       "[Row(id=7129300520, date='20141013T000000', price=221900.0, bedrooms=3, bathrooms=1.0, sqft_living=1180, sqft_lot=5650, floors=1.0, waterfront=0, view=0, condition=3, grade=7, sqft_above=1180, sqft_basement=0, yr_built=1955, yr_renovated=0, zipcode=98178, lat=47.5112, long=-122.257, sqft_living15=1340, sqft_lot15=5650),\n",
       " Row(id=6414100192, date='20141209T000000', price=538000.0, bedrooms=3, bathrooms=2.25, sqft_living=2570, sqft_lot=7242, floors=2.0, waterfront=0, view=0, condition=3, grade=7, sqft_above=2170, sqft_basement=400, yr_built=1951, yr_renovated=1991, zipcode=98125, lat=47.721, long=-122.319, sqft_living15=1690, sqft_lot15=7639),\n",
       " Row(id=5631500400, date='20150225T000000', price=180000.0, bedrooms=2, bathrooms=1.0, sqft_living=770, sqft_lot=10000, floors=1.0, waterfront=0, view=0, condition=3, grade=6, sqft_above=770, sqft_basement=0, yr_built=1933, yr_renovated=0, zipcode=98028, lat=47.7379, long=-122.233, sqft_living15=2720, sqft_lot15=8062),\n",
       " Row(id=2487200875, date='20141209T000000', price=604000.0, bedrooms=4, bathrooms=3.0, sqft_living=1960, sqft_lot=5000, floors=1.0, waterfront=0, view=0, condition=5, grade=7, sqft_above=1050, sqft_basement=910, yr_built=1965, yr_renovated=0, zipcode=98136, lat=47.5208, long=-122.393, sqft_living15=1360, sqft_lot15=5000),\n",
       " Row(id=1954400510, date='20150218T000000', price=510000.0, bedrooms=3, bathrooms=2.0, sqft_living=1680, sqft_lot=8080, floors=1.0, waterfront=0, view=0, condition=3, grade=8, sqft_above=1680, sqft_basement=0, yr_built=1987, yr_renovated=0, zipcode=98074, lat=47.6168, long=-122.045, sqft_living15=1800, sqft_lot15=7503)]"
      ]
     },
     "execution_count": 17,
     "metadata": {},
     "output_type": "execute_result"
    }
   ],
   "source": [
    "#Xem thống kê dữ liệu\n",
    "df.describe().show(5,False)\n",
    "\n",
    "df.head(5)"
   ]
  },
  {
   "cell_type": "markdown",
   "id": "6295681e",
   "metadata": {},
   "source": []
  },
  {
   "cell_type": "code",
   "execution_count": 22,
   "id": "b4f5c83e",
   "metadata": {},
   "outputs": [
    {
     "name": "stdout",
     "output_type": "stream",
     "text": [
      "+--------------------+\n",
      "|corr(id, sqft_lot15)|\n",
      "+--------------------+\n",
      "|-0.13879786589346885|\n",
      "+--------------------+\n",
      "\n"
     ]
    }
   ],
   "source": [
    "#Xem mối tương quan giữa các biến đầu vào và đầu ra\n",
    "from pyspark.sql.functions import corr\n",
    "\n",
    "df.select(corr('id','sqft_lot15')).show()"
   ]
  },
  {
   "cell_type": "code",
   "execution_count": 23,
   "id": "d4c3ae7d",
   "metadata": {},
   "outputs": [],
   "source": [
    "from pyspark.ml.linalg import Vector\n",
    "from pyspark.ml.feature import VectorAssembler"
   ]
  },
  {
   "cell_type": "code",
   "execution_count": 24,
   "id": "432f9f1e",
   "metadata": {},
   "outputs": [
    {
     "data": {
      "text/plain": [
       "['id',\n",
       " 'date',\n",
       " 'price',\n",
       " 'bedrooms',\n",
       " 'bathrooms',\n",
       " 'sqft_living',\n",
       " 'sqft_lot',\n",
       " 'floors',\n",
       " 'waterfront',\n",
       " 'view',\n",
       " 'condition',\n",
       " 'grade',\n",
       " 'sqft_above',\n",
       " 'sqft_basement',\n",
       " 'yr_built',\n",
       " 'yr_renovated',\n",
       " 'zipcode',\n",
       " 'lat',\n",
       " 'long',\n",
       " 'sqft_living15',\n",
       " 'sqft_lot15']"
      ]
     },
     "execution_count": 24,
     "metadata": {},
     "output_type": "execute_result"
    }
   ],
   "source": [
    "#Xem các biến đầu vào và đầu ra\n",
    "df.columns"
   ]
  },
  {
   "cell_type": "code",
   "execution_count": 81,
   "id": "62d989c2",
   "metadata": {},
   "outputs": [],
   "source": [
    "#Tạo véc tơ assembler kết hợp 5 biến đầu vào gọi là feature\n",
    "vec_assmebler = VectorAssembler(inputCols=['id', 'grade', 'sqft_above', 'sqft_basement', \n",
    "'yr_built'], outputCol='features')"
   ]
  },
  {
   "cell_type": "code",
   "execution_count": 82,
   "id": "84964e7c",
   "metadata": {},
   "outputs": [],
   "source": [
    "# biến đổi giá trị trong vector\n",
    "features_df = vec_assmebler.transform(df)"
   ]
  },
  {
   "cell_type": "code",
   "execution_count": 83,
   "id": "c1fd5c08",
   "metadata": {},
   "outputs": [
    {
     "name": "stdout",
     "output_type": "stream",
     "text": [
      "root\n",
      " |-- id: long (nullable = true)\n",
      " |-- date: string (nullable = true)\n",
      " |-- price: double (nullable = true)\n",
      " |-- bedrooms: integer (nullable = true)\n",
      " |-- bathrooms: double (nullable = true)\n",
      " |-- sqft_living: integer (nullable = true)\n",
      " |-- sqft_lot: integer (nullable = true)\n",
      " |-- floors: double (nullable = true)\n",
      " |-- waterfront: integer (nullable = true)\n",
      " |-- view: integer (nullable = true)\n",
      " |-- condition: integer (nullable = true)\n",
      " |-- grade: integer (nullable = true)\n",
      " |-- sqft_above: integer (nullable = true)\n",
      " |-- sqft_basement: integer (nullable = true)\n",
      " |-- yr_built: integer (nullable = true)\n",
      " |-- yr_renovated: integer (nullable = true)\n",
      " |-- zipcode: integer (nullable = true)\n",
      " |-- lat: double (nullable = true)\n",
      " |-- long: double (nullable = true)\n",
      " |-- sqft_living15: integer (nullable = true)\n",
      " |-- sqft_lot15: integer (nullable = true)\n",
      " |-- features: vector (nullable = true)\n",
      "\n"
     ]
    }
   ],
   "source": [
    "#Xem lại véc tơ đặc trưng\n",
    "features_df.printSchema()"
   ]
  },
  {
   "cell_type": "code",
   "execution_count": 98,
   "id": "711af1df",
   "metadata": {},
   "outputs": [
    {
     "name": "stdout",
     "output_type": "stream",
     "text": [
      "+---------------------------------------+\n",
      "|features                               |\n",
      "+---------------------------------------+\n",
      "|[7.12930052E9,7.0,1180.0,0.0,1955.0]   |\n",
      "|[6.414100192E9,7.0,2170.0,400.0,1951.0]|\n",
      "|[5.6315004E9,6.0,770.0,0.0,1933.0]     |\n",
      "|[2.487200875E9,7.0,1050.0,910.0,1965.0]|\n",
      "|[1.95440051E9,8.0,1680.0,0.0,1987.0]   |\n",
      "+---------------------------------------+\n",
      "only showing top 5 rows\n",
      "\n"
     ]
    }
   ],
   "source": [
    "#Bổ sung thêm cột đặc trưng\n",
    "# xem véc tơ đặc trưng\n",
    "features_df.select('features').show(5,False)"
   ]
  },
  {
   "cell_type": "code",
   "execution_count": 85,
   "id": "9e4b578d",
   "metadata": {},
   "outputs": [],
   "source": [
    "#Tạo dữ liệu huấn luyện: gồm cột đặc trưng (features) và đầu ra (ouput)\n",
    "data_model = features_df.select('features', 'long')"
   ]
  },
  {
   "cell_type": "code",
   "execution_count": 86,
   "id": "2634b89f",
   "metadata": {},
   "outputs": [
    {
     "name": "stdout",
     "output_type": "stream",
     "text": [
      "+---------------------------------------+--------+\n",
      "|features                               |long    |\n",
      "+---------------------------------------+--------+\n",
      "|[7.12930052E9,7.0,1180.0,0.0,1955.0]   |-122.257|\n",
      "|[6.414100192E9,7.0,2170.0,400.0,1951.0]|-122.319|\n",
      "|[5.6315004E9,6.0,770.0,0.0,1933.0]     |-122.233|\n",
      "|[2.487200875E9,7.0,1050.0,910.0,1965.0]|-122.393|\n",
      "|[1.95440051E9,8.0,1680.0,0.0,1987.0]   |-122.045|\n",
      "+---------------------------------------+--------+\n",
      "only showing top 5 rows\n",
      "\n"
     ]
    }
   ],
   "source": [
    "#Xem dữ liệu huấn luyện\n",
    "data_model.show(5,False)"
   ]
  },
  {
   "cell_type": "code",
   "execution_count": 87,
   "id": "27fcd8f7",
   "metadata": {},
   "outputs": [
    {
     "name": "stdout",
     "output_type": "stream",
     "text": [
      "(21613, 2)\n"
     ]
    }
   ],
   "source": [
    "#Xem kích cỡ dữ liệu huấn luyện\n",
    "print((data_model.count(), len(data_model.columns)))"
   ]
  },
  {
   "cell_type": "code",
   "execution_count": 88,
   "id": "5ac2ff56",
   "metadata": {},
   "outputs": [],
   "source": [
    "#Bước 5: Chia tập dữ liệu huấn luyện và kiểm tra\n",
    "#Thông thường chia theo tỉ lệ 70-30 hoặc 20-80\n",
    "train_df, test_df = data_model.randomSplit([0.7,0.3])\n"
   ]
  },
  {
   "cell_type": "code",
   "execution_count": 89,
   "id": "b24fb764",
   "metadata": {},
   "outputs": [
    {
     "name": "stdout",
     "output_type": "stream",
     "text": [
      "(15185, 2)\n"
     ]
    }
   ],
   "source": [
    "#xem kích cỡ của tập huấn luyện\n",
    "print((train_df.count(), len(train_df.columns)))"
   ]
  },
  {
   "cell_type": "code",
   "execution_count": 90,
   "id": "992518eb",
   "metadata": {},
   "outputs": [
    {
     "name": "stdout",
     "output_type": "stream",
     "text": [
      "(6428, 2)\n"
     ]
    }
   ],
   "source": [
    "#xem kích cỡ của tập kiểm tra\n",
    "print((test_df.count(), len(test_df.columns)))"
   ]
  },
  {
   "cell_type": "code",
   "execution_count": 91,
   "id": "84e69893",
   "metadata": {},
   "outputs": [],
   "source": [
    "#Bước 6: Xây dựng mô hình hồi quy tuyến tính\n",
    "#6.1 Tải thư viện học máy\n",
    "from pyspark.ml.regression import LinearRegression"
   ]
  },
  {
   "cell_type": "code",
   "execution_count": 96,
   "id": "51602d26",
   "metadata": {},
   "outputs": [],
   "source": [
    "#6.2 Khởi tạo mô hình\n",
    "model = LinearRegression(labelCol='long')"
   ]
  },
  {
   "cell_type": "code",
   "execution_count": 97,
   "id": "e4d7e8c2",
   "metadata": {},
   "outputs": [],
   "source": [
    "#6.3 Huấn luyện mô hình\n",
    "model_lr =  model.fit(train_df)"
   ]
  },
  {
   "cell_type": "code",
   "execution_count": 99,
   "id": "69d07a93",
   "metadata": {},
   "outputs": [],
   "source": [
    "#6.4 lỖI bình phương tối thiểu trên dữ liệu huấn luyện\n",
    "train_predict = model_lr.evaluate(train_df)"
   ]
  },
  {
   "cell_type": "code",
   "execution_count": 108,
   "id": "f55f0d6a",
   "metadata": {},
   "outputs": [
    {
     "data": {
      "text/plain": [
       "0.015323775961366169"
      ]
     },
     "execution_count": 108,
     "metadata": {},
     "output_type": "execute_result"
    }
   ],
   "source": [
    "#Lỗi bình phương tối thiểu\n",
    "train_predict.meanSquaredError"
   ]
  },
  {
   "cell_type": "code",
   "execution_count": 102,
   "id": "29f8f7b8",
   "metadata": {},
   "outputs": [
    {
     "name": "stdout",
     "output_type": "stream",
     "text": [
      "0.2304687492066818\n"
     ]
    }
   ],
   "source": [
    "#Lỗi R2 trên dữ liệu huấn luyện\n",
    "print(train_predict.r2)"
   ]
  },
  {
   "cell_type": "code",
   "execution_count": 104,
   "id": "8d8fdd92",
   "metadata": {},
   "outputs": [],
   "source": [
    "# Bước 7: Đánh giá mô hình trên dữ liệu kiểm tra\n",
    "# 7.1 Đánh giá dữ liệu kiểm tra\n",
    "test_results = model_lr.evaluate(train_df)"
   ]
  },
  {
   "cell_type": "code",
   "execution_count": 106,
   "id": "0b81e624",
   "metadata": {},
   "outputs": [
    {
     "name": "stdout",
     "output_type": "stream",
     "text": [
      "0.2304687492066818\n"
     ]
    }
   ],
   "source": [
    "#7.2 In kết quả đánh giá\n",
    "print(test_results.r2)"
   ]
  },
  {
   "cell_type": "code",
   "execution_count": 109,
   "id": "8aa50ff1",
   "metadata": {},
   "outputs": [
    {
     "data": {
      "text/plain": [
       "0.015323775961366169"
      ]
     },
     "execution_count": 109,
     "metadata": {},
     "output_type": "execute_result"
    }
   ],
   "source": [
    "# lỗi bình phương tối thiểu\n",
    "test_results.meanSquaredError"
   ]
  },
  {
   "cell_type": "code",
   "execution_count": null,
   "id": "53ed3343",
   "metadata": {},
   "outputs": [],
   "source": []
  }
 ],
 "metadata": {
  "kernelspec": {
   "display_name": "Python 3 (ipykernel)",
   "language": "python",
   "name": "python3"
  },
  "language_info": {
   "codemirror_mode": {
    "name": "ipython",
    "version": 3
   },
   "file_extension": ".py",
   "mimetype": "text/x-python",
   "name": "python",
   "nbconvert_exporter": "python",
   "pygments_lexer": "ipython3",
   "version": "3.9.7"
  }
 },
 "nbformat": 4,
 "nbformat_minor": 5
}
