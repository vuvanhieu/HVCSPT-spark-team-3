{
 "cells": [
  {
   "cell_type": "code",
   "execution_count": 10,
   "id": "13853a1f",
   "metadata": {},
   "outputs": [],
   "source": [
    "#import SparkSession\n",
    "import findspark\n",
    "\n",
    "findspark.init()\n",
    "\n",
    "from pyspark.sql import SparkSession"
   ]
  },
  {
   "cell_type": "code",
   "execution_count": 7,
   "id": "ce42462e",
   "metadata": {},
   "outputs": [],
   "source": [
    "spark=SparkSession.builder.appName('data_processing').getOrCreate()"
   ]
  },
  {
   "cell_type": "code",
   "execution_count": 12,
   "id": "8ccb967b",
   "metadata": {},
   "outputs": [],
   "source": [
    "# Load csv Dataset \n",
    "df=spark.read.csv('D:\\sample_data.csv',inferSchema=True,header=True)"
   ]
  },
  {
   "cell_type": "code",
   "execution_count": 14,
   "id": "3ccaaeaf",
   "metadata": {},
   "outputs": [
    {
     "data": {
      "text/plain": [
       "['ratings', 'age', 'experience', 'family', 'mobile']"
      ]
     },
     "execution_count": 14,
     "metadata": {},
     "output_type": "execute_result"
    }
   ],
   "source": [
    "#columns of dataframe\n",
    "df.columns\n"
   ]
  },
  {
   "cell_type": "code",
   "execution_count": 15,
   "id": "114c275f",
   "metadata": {},
   "outputs": [
    {
     "data": {
      "text/plain": [
       "5"
      ]
     },
     "execution_count": 15,
     "metadata": {},
     "output_type": "execute_result"
    }
   ],
   "source": [
    "len(df.columns)"
   ]
  },
  {
   "cell_type": "code",
   "execution_count": 16,
   "id": "4a4232dc",
   "metadata": {},
   "outputs": [
    {
     "data": {
      "text/plain": [
       "33"
      ]
     },
     "execution_count": 16,
     "metadata": {},
     "output_type": "execute_result"
    }
   ],
   "source": [
    "df.count()\n"
   ]
  },
  {
   "cell_type": "code",
   "execution_count": 17,
   "id": "35243195",
   "metadata": {},
   "outputs": [
    {
     "name": "stdout",
     "output_type": "stream",
     "text": [
      "(33, 5)\n"
     ]
    }
   ],
   "source": [
    "#shape of dataset\n",
    "print((df.count(),len(df.columns)))"
   ]
  },
  {
   "cell_type": "code",
   "execution_count": 19,
   "id": "2ce0c324",
   "metadata": {},
   "outputs": [
    {
     "name": "stdout",
     "output_type": "stream",
     "text": [
      "root\n",
      " |-- ratings: integer (nullable = true)\n",
      " |-- age: integer (nullable = true)\n",
      " |-- experience: double (nullable = true)\n",
      " |-- family: integer (nullable = true)\n",
      " |-- mobile: string (nullable = true)\n",
      "\n"
     ]
    }
   ],
   "source": [
    "df.printSchema()\n"
   ]
  },
  {
   "cell_type": "code",
   "execution_count": 20,
   "id": "7b9cf47d",
   "metadata": {},
   "outputs": [
    {
     "name": "stdout",
     "output_type": "stream",
     "text": [
      "+-------+---+----------+------+-------+\n",
      "|ratings|age|experience|family| mobile|\n",
      "+-------+---+----------+------+-------+\n",
      "|      3| 32|       9.0|     3|   Vivo|\n",
      "|      3| 27|      13.0|     3|  Apple|\n",
      "|      4| 22|       2.5|     0|Samsung|\n",
      "|      4| 37|      16.5|     4|  Apple|\n",
      "|      5| 27|       9.0|     1|     MI|\n",
      "+-------+---+----------+------+-------+\n",
      "only showing top 5 rows\n",
      "\n"
     ]
    }
   ],
   "source": [
    "df.show(5)\n"
   ]
  },
  {
   "cell_type": "code",
   "execution_count": 21,
   "id": "7c8a5f53",
   "metadata": {},
   "outputs": [
    {
     "name": "stdout",
     "output_type": "stream",
     "text": [
      "+---+-------+\n",
      "|age| mobile|\n",
      "+---+-------+\n",
      "| 32|   Vivo|\n",
      "| 27|  Apple|\n",
      "| 22|Samsung|\n",
      "| 37|  Apple|\n",
      "| 27|     MI|\n",
      "+---+-------+\n",
      "only showing top 5 rows\n",
      "\n"
     ]
    }
   ],
   "source": [
    "df.select('age','mobile').show(5)"
   ]
  },
  {
   "cell_type": "code",
   "execution_count": 23,
   "id": "3b0fd152",
   "metadata": {},
   "outputs": [
    {
     "name": "stdout",
     "output_type": "stream",
     "text": [
      "+-------+------------------+------------------+------------------+------------------+------+\n",
      "|summary|           ratings|               age|        experience|            family|mobile|\n",
      "+-------+------------------+------------------+------------------+------------------+------+\n",
      "|  count|                33|                33|                33|                33|    33|\n",
      "|   mean|3.5757575757575757|30.484848484848484|10.303030303030303|1.8181818181818181|  null|\n",
      "| stddev|1.1188806636071336|  6.18527087180309| 6.770731351213326|1.8448330794164254|  null|\n",
      "|    min|                 1|                22|               2.5|                 0| Apple|\n",
      "|    max|                 5|                42|              23.0|                 5|  Vivo|\n",
      "+-------+------------------+------------------+------------------+------------------+------+\n",
      "\n"
     ]
    }
   ],
   "source": [
    "df.describe().show()\n"
   ]
  },
  {
   "cell_type": "code",
   "execution_count": 25,
   "id": "58f5ee36",
   "metadata": {},
   "outputs": [
    {
     "name": "stdout",
     "output_type": "stream",
     "text": [
      "+-------+---+----------+------+-------+----------------+\n",
      "|ratings|age|experience|family|mobile |age_after_10_yrs|\n",
      "+-------+---+----------+------+-------+----------------+\n",
      "|3      |32 |9.0       |3     |Vivo   |42              |\n",
      "|3      |27 |13.0      |3     |Apple  |37              |\n",
      "|4      |22 |2.5       |0     |Samsung|32              |\n",
      "|4      |37 |16.5      |4     |Apple  |47              |\n",
      "|5      |27 |9.0       |1     |MI     |37              |\n",
      "|4      |27 |9.0       |0     |Oppo   |37              |\n",
      "|5      |37 |23.0      |5     |Vivo   |47              |\n",
      "|5      |37 |23.0      |5     |Samsung|47              |\n",
      "|3      |22 |2.5       |0     |Apple  |32              |\n",
      "|3      |27 |6.0       |0     |MI     |37              |\n",
      "+-------+---+----------+------+-------+----------------+\n",
      "only showing top 10 rows\n",
      "\n"
     ]
    }
   ],
   "source": [
    "#with column\n",
    "df.withColumn(\"age_after_10_yrs\",(df[\"age\"]+10)).show(10,False)"
   ]
  },
  {
   "cell_type": "code",
   "execution_count": 26,
   "id": "db0d6e3e",
   "metadata": {},
   "outputs": [],
   "source": [
    "df= df.withColumn(\"age_after_10_yrs\",(df[\"age\"]+10))"
   ]
  },
  {
   "cell_type": "code",
   "execution_count": 27,
   "id": "d99b0b6b",
   "metadata": {},
   "outputs": [
    {
     "name": "stdout",
     "output_type": "stream",
     "text": [
      "+-------+---+----------+------+-------+----------------+----------+\n",
      "|ratings|age|experience|family|mobile |age_after_10_yrs|age_double|\n",
      "+-------+---+----------+------+-------+----------------+----------+\n",
      "|3      |32 |9.0       |3     |Vivo   |42              |32.0      |\n",
      "|3      |27 |13.0      |3     |Apple  |37              |27.0      |\n",
      "|4      |22 |2.5       |0     |Samsung|32              |22.0      |\n",
      "|4      |37 |16.5      |4     |Apple  |47              |37.0      |\n",
      "|5      |27 |9.0       |1     |MI     |37              |27.0      |\n",
      "|4      |27 |9.0       |0     |Oppo   |37              |27.0      |\n",
      "|5      |37 |23.0      |5     |Vivo   |47              |37.0      |\n",
      "|5      |37 |23.0      |5     |Samsung|47              |37.0      |\n",
      "|3      |22 |2.5       |0     |Apple  |32              |22.0      |\n",
      "|3      |27 |6.0       |0     |MI     |37              |27.0      |\n",
      "+-------+---+----------+------+-------+----------------+----------+\n",
      "only showing top 10 rows\n",
      "\n"
     ]
    }
   ],
   "source": [
    "from pyspark.sql.types import StringType,DoubleType\n",
    "\n",
    "df.withColumn('age_double',df['age'].cast(DoubleType())).show(10,False)"
   ]
  },
  {
   "cell_type": "code",
   "execution_count": 28,
   "id": "5461ce69",
   "metadata": {},
   "outputs": [
    {
     "name": "stdout",
     "output_type": "stream",
     "text": [
      "+-------+---+----------+------+------+----------------+\n",
      "|ratings|age|experience|family|mobile|age_after_10_yrs|\n",
      "+-------+---+----------+------+------+----------------+\n",
      "|      3| 32|       9.0|     3|  Vivo|              42|\n",
      "|      5| 37|      23.0|     5|  Vivo|              47|\n",
      "|      4| 37|       6.0|     0|  Vivo|              47|\n",
      "|      5| 37|      13.0|     1|  Vivo|              47|\n",
      "|      4| 37|       6.0|     0|  Vivo|              47|\n",
      "+-------+---+----------+------+------+----------------+\n",
      "\n"
     ]
    }
   ],
   "source": [
    "#filter the records \n",
    "df.filter(df['mobile']=='Vivo').show()"
   ]
  },
  {
   "cell_type": "code",
   "execution_count": 29,
   "id": "ef57c28a",
   "metadata": {},
   "outputs": [
    {
     "name": "stdout",
     "output_type": "stream",
     "text": [
      "+---+-------+------+\n",
      "|age|ratings|mobile|\n",
      "+---+-------+------+\n",
      "| 32|      3|  Vivo|\n",
      "| 37|      5|  Vivo|\n",
      "| 37|      4|  Vivo|\n",
      "| 37|      5|  Vivo|\n",
      "| 37|      4|  Vivo|\n",
      "+---+-------+------+\n",
      "\n"
     ]
    }
   ],
   "source": [
    "#filter the records \n",
    "df.filter(df['mobile']=='Vivo').select('age','ratings','mobile').show()"
   ]
  },
  {
   "cell_type": "code",
   "execution_count": 31,
   "id": "cf67f1d0",
   "metadata": {},
   "outputs": [
    {
     "name": "stdout",
     "output_type": "stream",
     "text": [
      "+-------+---+----------+------+------+----------------+\n",
      "|ratings|age|experience|family|mobile|age_after_10_yrs|\n",
      "+-------+---+----------+------+------+----------------+\n",
      "|      5| 37|      23.0|     5|  Vivo|              47|\n",
      "|      5| 37|      13.0|     1|  Vivo|              47|\n",
      "+-------+---+----------+------+------+----------------+\n",
      "\n"
     ]
    }
   ],
   "source": [
    "#filter the multiple conditions\n",
    "df.filter(df['mobile']=='Vivo').filter(df['experience'] >10).show()"
   ]
  },
  {
   "cell_type": "code",
   "execution_count": 32,
   "id": "f31eb996",
   "metadata": {},
   "outputs": [
    {
     "name": "stdout",
     "output_type": "stream",
     "text": [
      "+-------+---+----------+------+------+----------------+\n",
      "|ratings|age|experience|family|mobile|age_after_10_yrs|\n",
      "+-------+---+----------+------+------+----------------+\n",
      "|      5| 37|      23.0|     5|  Vivo|              47|\n",
      "|      5| 37|      13.0|     1|  Vivo|              47|\n",
      "+-------+---+----------+------+------+----------------+\n",
      "\n"
     ]
    }
   ],
   "source": [
    "#filter the multiple conditions\n",
    "df.filter((df['mobile']=='Vivo')&(df['experience'] >10)).show()"
   ]
  },
  {
   "cell_type": "code",
   "execution_count": 34,
   "id": "4559fed2",
   "metadata": {},
   "outputs": [
    {
     "name": "stdout",
     "output_type": "stream",
     "text": [
      "+-------+\n",
      "| mobile|\n",
      "+-------+\n",
      "|     MI|\n",
      "|   Oppo|\n",
      "|Samsung|\n",
      "|   Vivo|\n",
      "|  Apple|\n",
      "+-------+\n",
      "\n"
     ]
    }
   ],
   "source": [
    "#Distinct Values in a column\n",
    "df.select('mobile').distinct().show()"
   ]
  },
  {
   "cell_type": "code",
   "execution_count": 36,
   "id": "0ede65b6",
   "metadata": {},
   "outputs": [
    {
     "data": {
      "text/plain": [
       "5"
      ]
     },
     "execution_count": 36,
     "metadata": {},
     "output_type": "execute_result"
    }
   ],
   "source": [
    "#distinct value count\n",
    "df.select('mobile').distinct().count()"
   ]
  },
  {
   "cell_type": "code",
   "execution_count": 37,
   "id": "567f65c0",
   "metadata": {},
   "outputs": [
    {
     "name": "stdout",
     "output_type": "stream",
     "text": [
      "+-------+-----+\n",
      "|mobile |count|\n",
      "+-------+-----+\n",
      "|MI     |8    |\n",
      "|Oppo   |7    |\n",
      "|Samsung|6    |\n",
      "|Vivo   |5    |\n",
      "|Apple  |7    |\n",
      "+-------+-----+\n",
      "\n"
     ]
    }
   ],
   "source": [
    "df.groupBy('mobile').count().show(5,False)"
   ]
  },
  {
   "cell_type": "code",
   "execution_count": 38,
   "id": "68eae688",
   "metadata": {},
   "outputs": [
    {
     "name": "stdout",
     "output_type": "stream",
     "text": [
      "+-------+-----+\n",
      "|mobile |count|\n",
      "+-------+-----+\n",
      "|MI     |8    |\n",
      "|Apple  |7    |\n",
      "|Oppo   |7    |\n",
      "|Samsung|6    |\n",
      "|Vivo   |5    |\n",
      "+-------+-----+\n",
      "\n"
     ]
    }
   ],
   "source": [
    "# Value counts\n",
    "df.groupBy('mobile').count().orderBy('count',ascending=False).show(5,False)"
   ]
  },
  {
   "cell_type": "code",
   "execution_count": 39,
   "id": "21d5f6e5",
   "metadata": {},
   "outputs": [
    {
     "name": "stdout",
     "output_type": "stream",
     "text": [
      "+-------+------------------+------------------+------------------+------------------+---------------------+\n",
      "|mobile |avg(ratings)      |avg(age)          |avg(experience)   |avg(family)       |avg(age_after_10_yrs)|\n",
      "+-------+------------------+------------------+------------------+------------------+---------------------+\n",
      "|MI     |3.5               |30.125            |10.1875           |1.375             |40.125               |\n",
      "|Oppo   |2.857142857142857 |28.428571428571427|10.357142857142858|1.4285714285714286|38.42857142857143    |\n",
      "|Samsung|4.166666666666667 |28.666666666666668|8.666666666666666 |1.8333333333333333|38.666666666666664   |\n",
      "|Vivo   |4.2               |36.0              |11.4              |1.8               |46.0                 |\n",
      "|Apple  |3.4285714285714284|30.571428571428573|11.0              |2.7142857142857144|40.57142857142857    |\n",
      "+-------+------------------+------------------+------------------+------------------+---------------------+\n",
      "\n"
     ]
    }
   ],
   "source": [
    "# Value counts\n",
    "df.groupBy('mobile').mean().show(5,False)"
   ]
  },
  {
   "cell_type": "code",
   "execution_count": 40,
   "id": "9b12dffc",
   "metadata": {},
   "outputs": [
    {
     "name": "stdout",
     "output_type": "stream",
     "text": [
      "+-------+------------+--------+---------------+-----------+---------------------+\n",
      "|mobile |sum(ratings)|sum(age)|sum(experience)|sum(family)|sum(age_after_10_yrs)|\n",
      "+-------+------------+--------+---------------+-----------+---------------------+\n",
      "|MI     |28          |241     |81.5           |11         |321                  |\n",
      "|Oppo   |20          |199     |72.5           |10         |269                  |\n",
      "|Samsung|25          |172     |52.0           |11         |232                  |\n",
      "|Vivo   |21          |180     |57.0           |9          |230                  |\n",
      "|Apple  |24          |214     |77.0           |19         |284                  |\n",
      "+-------+------------+--------+---------------+-----------+---------------------+\n",
      "\n"
     ]
    }
   ],
   "source": [
    "df.groupBy('mobile').sum().show(5,False)"
   ]
  },
  {
   "cell_type": "code",
   "execution_count": 41,
   "id": "b377a84e",
   "metadata": {},
   "outputs": [
    {
     "name": "stdout",
     "output_type": "stream",
     "text": [
      "+-------+------------+--------+---------------+-----------+---------------------+\n",
      "|mobile |max(ratings)|max(age)|max(experience)|max(family)|max(age_after_10_yrs)|\n",
      "+-------+------------+--------+---------------+-----------+---------------------+\n",
      "|MI     |5           |42      |23.0           |5          |52                   |\n",
      "|Oppo   |4           |42      |23.0           |2          |52                   |\n",
      "|Samsung|5           |37      |23.0           |5          |47                   |\n",
      "|Vivo   |5           |37      |23.0           |5          |47                   |\n",
      "|Apple  |4           |37      |16.5           |5          |47                   |\n",
      "+-------+------------+--------+---------------+-----------+---------------------+\n",
      "\n"
     ]
    }
   ],
   "source": [
    "# Value counts\n",
    "df.groupBy('mobile').max().show(5,False)"
   ]
  },
  {
   "cell_type": "code",
   "execution_count": 42,
   "id": "1cfabd1d",
   "metadata": {},
   "outputs": [
    {
     "name": "stdout",
     "output_type": "stream",
     "text": [
      "+-------+------------+--------+---------------+-----------+---------------------+\n",
      "|mobile |min(ratings)|min(age)|min(experience)|min(family)|min(age_after_10_yrs)|\n",
      "+-------+------------+--------+---------------+-----------+---------------------+\n",
      "|MI     |1           |27      |2.5            |0          |37                   |\n",
      "|Oppo   |2           |22      |6.0            |0          |32                   |\n",
      "|Samsung|2           |22      |2.5            |0          |32                   |\n",
      "|Vivo   |3           |32      |6.0            |0          |42                   |\n",
      "|Apple  |3           |22      |2.5            |0          |32                   |\n",
      "+-------+------------+--------+---------------+-----------+---------------------+\n",
      "\n"
     ]
    }
   ],
   "source": [
    "# Value counts\n",
    "df.groupBy('mobile').min().show(5,False)"
   ]
  },
  {
   "cell_type": "code",
   "execution_count": 44,
   "id": "bb93a02a",
   "metadata": {},
   "outputs": [
    {
     "name": "stdout",
     "output_type": "stream",
     "text": [
      "+-------+---------------+\n",
      "|mobile |sum(experience)|\n",
      "+-------+---------------+\n",
      "|MI     |81.5           |\n",
      "|Oppo   |72.5           |\n",
      "|Samsung|52.0           |\n",
      "|Vivo   |57.0           |\n",
      "|Apple  |77.0           |\n",
      "+-------+---------------+\n",
      "\n"
     ]
    }
   ],
   "source": [
    "#Aggregation\n",
    "df.groupBy('mobile').agg({'experience':'sum'}).show(5,False)"
   ]
  },
  {
   "cell_type": "code",
   "execution_count": 45,
   "id": "9369dd58",
   "metadata": {},
   "outputs": [],
   "source": [
    "# UDF\n",
    "from pyspark.sql.functions import udf"
   ]
  },
  {
   "cell_type": "code",
   "execution_count": 46,
   "id": "51fb296d",
   "metadata": {},
   "outputs": [],
   "source": [
    "#normal function \n",
    "def price_range(brand):\n",
    "    if brand in ['Samsung','Apple']:\n",
    "        return 'High Price'\n",
    "    elif brand =='MI':\n",
    "        return 'Mid Price'\n",
    "    else:\n",
    "        return 'Low Price'"
   ]
  },
  {
   "cell_type": "code",
   "execution_count": 47,
   "id": "b4a66f77",
   "metadata": {},
   "outputs": [
    {
     "name": "stdout",
     "output_type": "stream",
     "text": [
      "+-------+---+----------+------+-------+----------------+-----------+\n",
      "|ratings|age|experience|family|mobile |age_after_10_yrs|price_range|\n",
      "+-------+---+----------+------+-------+----------------+-----------+\n",
      "|3      |32 |9.0       |3     |Vivo   |42              |Low Price  |\n",
      "|3      |27 |13.0      |3     |Apple  |37              |High Price |\n",
      "|4      |22 |2.5       |0     |Samsung|32              |High Price |\n",
      "|4      |37 |16.5      |4     |Apple  |47              |High Price |\n",
      "|5      |27 |9.0       |1     |MI     |37              |Mid Price  |\n",
      "|4      |27 |9.0       |0     |Oppo   |37              |Low Price  |\n",
      "|5      |37 |23.0      |5     |Vivo   |47              |Low Price  |\n",
      "|5      |37 |23.0      |5     |Samsung|47              |High Price |\n",
      "|3      |22 |2.5       |0     |Apple  |32              |High Price |\n",
      "|3      |27 |6.0       |0     |MI     |37              |Mid Price  |\n",
      "+-------+---+----------+------+-------+----------------+-----------+\n",
      "only showing top 10 rows\n",
      "\n"
     ]
    }
   ],
   "source": [
    "#create udf using python function\n",
    "brand_udf=udf(price_range,StringType())\n",
    "#apply udf on dataframe\n",
    "df.withColumn('price_range',brand_udf(df['mobile'])).show(10,False)"
   ]
  },
  {
   "cell_type": "code",
   "execution_count": 48,
   "id": "68ad2b6d",
   "metadata": {},
   "outputs": [
    {
     "name": "stdout",
     "output_type": "stream",
     "text": [
      "+-------+---+----------+------+-------+----------------+---------+\n",
      "|ratings|age|experience|family|mobile |age_after_10_yrs|age_group|\n",
      "+-------+---+----------+------+-------+----------------+---------+\n",
      "|3      |32 |9.0       |3     |Vivo   |42              |senior   |\n",
      "|3      |27 |13.0      |3     |Apple  |37              |young    |\n",
      "|4      |22 |2.5       |0     |Samsung|32              |young    |\n",
      "|4      |37 |16.5      |4     |Apple  |47              |senior   |\n",
      "|5      |27 |9.0       |1     |MI     |37              |young    |\n",
      "|4      |27 |9.0       |0     |Oppo   |37              |young    |\n",
      "|5      |37 |23.0      |5     |Vivo   |47              |senior   |\n",
      "|5      |37 |23.0      |5     |Samsung|47              |senior   |\n",
      "|3      |22 |2.5       |0     |Apple  |32              |young    |\n",
      "|3      |27 |6.0       |0     |MI     |37              |young    |\n",
      "+-------+---+----------+------+-------+----------------+---------+\n",
      "only showing top 10 rows\n",
      "\n"
     ]
    }
   ],
   "source": [
    "#using lambda function\n",
    "age_udf = udf(lambda age: \"young\" if age <= 30 else \"senior\", StringType())\n",
    "#apply udf on dataframe\n",
    "df.withColumn(\"age_group\", age_udf(df.age)).show(10,False)"
   ]
  },
  {
   "cell_type": "code",
   "execution_count": 49,
   "id": "f17f01c2",
   "metadata": {},
   "outputs": [],
   "source": [
    "#pandas udf\n",
    "from pyspark.sql.functions import pandas_udf, PandasUDFType"
   ]
  },
  {
   "cell_type": "code",
   "execution_count": 50,
   "id": "30d54938",
   "metadata": {},
   "outputs": [],
   "source": [
    "#create python function\n",
    "def remaining_yrs(age):\n",
    "    yrs_left=100-age\n",
    "\n",
    "    return yrs_left"
   ]
  },
  {
   "cell_type": "code",
   "execution_count": 68,
   "id": "dc967639",
   "metadata": {},
   "outputs": [],
   "source": [
    "from pyspark.sql.types import IntegerType\n",
    "#create udf using python function\n",
    "length_udf = pandas_udf(remaining_yrs, IntegerType())"
   ]
  },
  {
   "cell_type": "code",
   "execution_count": 70,
   "id": "b9be6a0c",
   "metadata": {},
   "outputs": [
    {
     "name": "stdout",
     "output_type": "stream",
     "text": [
      "+-------+---+----------+------+-------+----------------+--------+\n",
      "|ratings|age|experience|family|mobile |age_after_10_yrs|yrs_left|\n",
      "+-------+---+----------+------+-------+----------------+--------+\n",
      "|4      |37 |16.5      |4     |Apple  |47              |63      |\n",
      "|3      |42 |23.0      |5     |MI     |52              |58      |\n",
      "|4      |37 |6.0       |0     |Vivo   |47              |63      |\n",
      "|5      |37 |23.0      |5     |Samsung|47              |63      |\n",
      "|2      |27 |9.0       |2     |Samsung|37              |73      |\n",
      "|4      |22 |2.5       |0     |Samsung|32              |78      |\n",
      "|5      |27 |6.0       |0     |MI     |37              |73      |\n",
      "|4      |27 |9.0       |0     |Oppo   |37              |73      |\n",
      "|3      |22 |2.5       |0     |Apple  |32              |78      |\n",
      "|2      |27 |6.0       |2     |Oppo   |37              |73      |\n",
      "+-------+---+----------+------+-------+----------------+--------+\n",
      "only showing top 10 rows\n",
      "\n"
     ]
    }
   ],
   "source": [
    "#apply pandas udf on dataframe\n",
    "df.withColumn(\"yrs_left\", length_udf(df['age'])).show(10,False)"
   ]
  },
  {
   "cell_type": "code",
   "execution_count": 75,
   "id": "cc20627b",
   "metadata": {},
   "outputs": [],
   "source": [
    "#udf using two columns \n",
    "def prod(rating,exp):\n",
    "    x=rating*exp\n",
    "    return x"
   ]
  },
  {
   "cell_type": "code",
   "execution_count": 76,
   "id": "1f1dc84a",
   "metadata": {},
   "outputs": [
    {
     "name": "stdout",
     "output_type": "stream",
     "text": [
      "+-------+---+----------+------+-------+----------------+-------+\n",
      "|ratings|age|experience|family|mobile |age_after_10_yrs|product|\n",
      "+-------+---+----------+------+-------+----------------+-------+\n",
      "|4      |37 |16.5      |4     |Apple  |47              |66.0   |\n",
      "|3      |42 |23.0      |5     |MI     |52              |69.0   |\n",
      "|4      |37 |6.0       |0     |Vivo   |47              |24.0   |\n",
      "|5      |37 |23.0      |5     |Samsung|47              |115.0  |\n",
      "|2      |27 |9.0       |2     |Samsung|37              |18.0   |\n",
      "|4      |22 |2.5       |0     |Samsung|32              |10.0   |\n",
      "|5      |27 |6.0       |0     |MI     |37              |30.0   |\n",
      "|4      |27 |9.0       |0     |Oppo   |37              |36.0   |\n",
      "|3      |22 |2.5       |0     |Apple  |32              |7.5    |\n",
      "|2      |27 |6.0       |2     |Oppo   |37              |12.0   |\n",
      "+-------+---+----------+------+-------+----------------+-------+\n",
      "only showing top 10 rows\n",
      "\n"
     ]
    }
   ],
   "source": [
    "#create udf using python function\n",
    "prod_udf = pandas_udf(prod, DoubleType())\n",
    "#apply pandas udf on multiple columns of dataframe\n",
    "df.withColumn(\"product\", prod_udf(df['ratings'],df['experience'])).show(10,False)"
   ]
  },
  {
   "cell_type": "code",
   "execution_count": 74,
   "id": "1aaebfc5",
   "metadata": {},
   "outputs": [],
   "source": [
    "#drop duplicate values\n",
    "df=df.dropDuplicates()"
   ]
  },
  {
   "cell_type": "code",
   "execution_count": 82,
   "id": "a8fa90fb",
   "metadata": {},
   "outputs": [
    {
     "data": {
      "text/plain": [
       "26"
      ]
     },
     "execution_count": 82,
     "metadata": {},
     "output_type": "execute_result"
    }
   ],
   "source": [
    "#validate new count\n",
    "df.count()"
   ]
  },
  {
   "cell_type": "code",
   "execution_count": 58,
   "id": "f9f50720",
   "metadata": {},
   "outputs": [],
   "source": [
    "#drop column of dataframe\n",
    "df_new=df.drop('mobile')"
   ]
  },
  {
   "cell_type": "code",
   "execution_count": 59,
   "id": "95e9f9b4",
   "metadata": {},
   "outputs": [
    {
     "name": "stdout",
     "output_type": "stream",
     "text": [
      "+-------+---+----------+------+----------------+\n",
      "|ratings|age|experience|family|age_after_10_yrs|\n",
      "+-------+---+----------+------+----------------+\n",
      "|      4| 37|      16.5|     4|              47|\n",
      "|      3| 42|      23.0|     5|              52|\n",
      "|      4| 37|       6.0|     0|              47|\n",
      "|      5| 37|      23.0|     5|              47|\n",
      "|      2| 27|       9.0|     2|              37|\n",
      "|      4| 22|       2.5|     0|              32|\n",
      "|      5| 27|       6.0|     0|              37|\n",
      "|      4| 27|       9.0|     0|              37|\n",
      "|      3| 22|       2.5|     0|              32|\n",
      "|      2| 27|       6.0|     2|              37|\n",
      "+-------+---+----------+------+----------------+\n",
      "only showing top 10 rows\n",
      "\n"
     ]
    }
   ],
   "source": [
    "df_new.show(10)"
   ]
  },
  {
   "cell_type": "code",
   "execution_count": 60,
   "id": "7671be31",
   "metadata": {},
   "outputs": [
    {
     "data": {
      "text/plain": [
       "'C:\\\\Users\\\\Do Hai Nhi'"
      ]
     },
     "execution_count": 60,
     "metadata": {},
     "output_type": "execute_result"
    }
   ],
   "source": [
    "#current working directory\n",
    "import os\n",
    "# pwd\n",
    "os.getcwd()"
   ]
  },
  {
   "cell_type": "code",
   "execution_count": 61,
   "id": "a38243c1",
   "metadata": {},
   "outputs": [
    {
     "data": {
      "text/plain": [
       "'C:\\\\Users\\\\Do Hai Nhi'"
      ]
     },
     "execution_count": 61,
     "metadata": {},
     "output_type": "execute_result"
    }
   ],
   "source": [
    "#current working directory\n",
    "import os\n",
    "# pwd\n",
    "os.getcwd()"
   ]
  },
  {
   "cell_type": "code",
   "execution_count": 62,
   "id": "264ec923",
   "metadata": {},
   "outputs": [
    {
     "ename": "NameError",
     "evalue": "name 'write_uri' is not defined",
     "output_type": "error",
     "traceback": [
      "\u001b[1;31m---------------------------------------------------------------------------\u001b[0m",
      "\u001b[1;31mNameError\u001b[0m                                 Traceback (most recent call last)",
      "\u001b[1;32mC:\\Users\\DOHAIN~1\\AppData\\Local\\Temp/ipykernel_2440/3122307428.py\u001b[0m in \u001b[0;36m<module>\u001b[1;34m\u001b[0m\n\u001b[0;32m      1\u001b[0m \u001b[1;31m#save the dataframe as single csv\u001b[0m\u001b[1;33m\u001b[0m\u001b[1;33m\u001b[0m\u001b[0m\n\u001b[1;32m----> 2\u001b[1;33m \u001b[0mdf\u001b[0m\u001b[1;33m.\u001b[0m\u001b[0mcoalesce\u001b[0m\u001b[1;33m(\u001b[0m\u001b[1;36m1\u001b[0m\u001b[1;33m)\u001b[0m\u001b[1;33m.\u001b[0m\u001b[0mwrite\u001b[0m\u001b[1;33m.\u001b[0m\u001b[0mformat\u001b[0m\u001b[1;33m(\u001b[0m\u001b[1;34m\"csv\"\u001b[0m\u001b[1;33m)\u001b[0m\u001b[1;33m.\u001b[0m\u001b[0moption\u001b[0m\u001b[1;33m(\u001b[0m\u001b[1;34m\"header\"\u001b[0m\u001b[1;33m,\u001b[0m\u001b[1;34m\"true\"\u001b[0m\u001b[1;33m)\u001b[0m\u001b[1;33m.\u001b[0m\u001b[0msave\u001b[0m\u001b[1;33m(\u001b[0m\u001b[0mwrite_uri\u001b[0m\u001b[1;33m)\u001b[0m\u001b[1;33m\u001b[0m\u001b[1;33m\u001b[0m\u001b[0m\n\u001b[0m",
      "\u001b[1;31mNameError\u001b[0m: name 'write_uri' is not defined"
     ]
    }
   ],
   "source": [
    "#save the dataframe as single csv \n",
    "df.coalesce(1).write.format(\"csv\").option(\"header\",\"true\").save(write_uri)"
   ]
  },
  {
   "cell_type": "code",
   "execution_count": 63,
   "id": "6542bd26",
   "metadata": {},
   "outputs": [],
   "source": [
    "#target location\n",
    "parquet_uri='/works/df_parquet'"
   ]
  },
  {
   "cell_type": "code",
   "execution_count": 64,
   "id": "81c3a233",
   "metadata": {},
   "outputs": [],
   "source": [
    "#save the data into parquet format \n",
    "df.write.format('parquet').save(parquet_uri)"
   ]
  },
  {
   "cell_type": "code",
   "execution_count": 65,
   "id": "02331f2c",
   "metadata": {},
   "outputs": [
    {
     "name": "stdout",
     "output_type": "stream",
     "text": [
      "^C\n",
      "Note: you may need to restart the kernel to use updated packages.\n"
     ]
    }
   ],
   "source": [
    "pip install pyarrow"
   ]
  },
  {
   "cell_type": "code",
   "execution_count": 67,
   "id": "a4b0bc13",
   "metadata": {},
   "outputs": [
    {
     "name": "stdout",
     "output_type": "stream",
     "text": [
      "Requirement already satisfied: pyarrow in c:\\users\\do hai nhi\\anaconda3\\a\\lib\\site-packages (11.0.0)\n",
      "Requirement already satisfied: numpy>=1.16.6 in c:\\users\\do hai nhi\\anaconda3\\a\\lib\\site-packages (from pyarrow) (1.20.3)\n",
      "Note: you may need to restart the kernel to use updated packages.\n"
     ]
    }
   ],
   "source": [
    "pip install pyarrow"
   ]
  },
  {
   "cell_type": "code",
   "execution_count": null,
   "id": "e4543497",
   "metadata": {},
   "outputs": [],
   "source": []
  }
 ],
 "metadata": {
  "kernelspec": {
   "display_name": "Python 3 (ipykernel)",
   "language": "python",
   "name": "python3"
  },
  "language_info": {
   "codemirror_mode": {
    "name": "ipython",
    "version": 3
   },
   "file_extension": ".py",
   "mimetype": "text/x-python",
   "name": "python",
   "nbconvert_exporter": "python",
   "pygments_lexer": "ipython3",
   "version": "3.9.7"
  }
 },
 "nbformat": 4,
 "nbformat_minor": 5
}
