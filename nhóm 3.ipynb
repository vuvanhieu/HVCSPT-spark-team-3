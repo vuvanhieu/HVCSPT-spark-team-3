{
 "cells": [
  {
   "cell_type": "code",
   "execution_count": 1,
   "id": "d2c71ce8",
   "metadata": {},
   "outputs": [],
   "source": [
    "#TẢI THƯ VIỆN\n",
    "#import SparkSession\n",
    "import findspark\n",
    "\n",
    "findspark.init()\n",
    "\n",
    "from pyspark.sql import SparkSession"
   ]
  },
  {
   "cell_type": "code",
   "execution_count": 2,
   "id": "c6333af8",
   "metadata": {},
   "outputs": [],
   "source": [
    "#create spar session object\n",
    "spark=SparkSession.builder.appName('data_processing').getOrCreate()"
   ]
  },
  {
   "cell_type": "code",
   "execution_count": 63,
   "id": "da89f4d1",
   "metadata": {},
   "outputs": [],
   "source": [
    "#ĐỌC GIỮ LIỆU\n",
    "# Load csv Dataset \n",
    "df=spark.read.csv('D:\\Churn_Modelling.csv',inferSchema=True,header=True)"
   ]
  },
  {
   "cell_type": "code",
   "execution_count": 64,
   "id": "908cdef6",
   "metadata": {},
   "outputs": [
    {
     "data": {
      "text/plain": [
       "['RowNumber',\n",
       " 'CustomerId',\n",
       " 'Surname',\n",
       " 'CreditScore',\n",
       " 'Geography',\n",
       " 'Gender',\n",
       " 'Age',\n",
       " 'Tenure',\n",
       " 'Balance',\n",
       " 'NumOfProducts',\n",
       " 'HasCrCard',\n",
       " 'IsActiveMember',\n",
       " 'EstimatedSalary',\n",
       " 'Exited']"
      ]
     },
     "execution_count": 64,
     "metadata": {},
     "output_type": "execute_result"
    }
   ],
   "source": [
    "#columns of dataframe\n",
    "df.columns"
   ]
  },
  {
   "cell_type": "code",
   "execution_count": 65,
   "id": "2b1819ba",
   "metadata": {},
   "outputs": [
    {
     "data": {
      "text/plain": [
       "14"
      ]
     },
     "execution_count": 65,
     "metadata": {},
     "output_type": "execute_result"
    }
   ],
   "source": [
    "len(df.columns)"
   ]
  },
  {
   "cell_type": "code",
   "execution_count": 66,
   "id": "009bbaa2",
   "metadata": {},
   "outputs": [
    {
     "data": {
      "text/plain": [
       "10000"
      ]
     },
     "execution_count": 66,
     "metadata": {},
     "output_type": "execute_result"
    }
   ],
   "source": [
    "df.count()"
   ]
  },
  {
   "cell_type": "code",
   "execution_count": 67,
   "id": "85740c03",
   "metadata": {},
   "outputs": [
    {
     "name": "stdout",
     "output_type": "stream",
     "text": [
      "(10000, 14)\n"
     ]
    }
   ],
   "source": [
    "#shape of dataset\n",
    "print((df.count(),len(df.columns)))"
   ]
  },
  {
   "cell_type": "code",
   "execution_count": 68,
   "id": "bfb36595",
   "metadata": {},
   "outputs": [
    {
     "name": "stdout",
     "output_type": "stream",
     "text": [
      "root\n",
      " |-- RowNumber: integer (nullable = true)\n",
      " |-- CustomerId: integer (nullable = true)\n",
      " |-- Surname: string (nullable = true)\n",
      " |-- CreditScore: integer (nullable = true)\n",
      " |-- Geography: string (nullable = true)\n",
      " |-- Gender: string (nullable = true)\n",
      " |-- Age: integer (nullable = true)\n",
      " |-- Tenure: integer (nullable = true)\n",
      " |-- Balance: double (nullable = true)\n",
      " |-- NumOfProducts: integer (nullable = true)\n",
      " |-- HasCrCard: integer (nullable = true)\n",
      " |-- IsActiveMember: integer (nullable = true)\n",
      " |-- EstimatedSalary: double (nullable = true)\n",
      " |-- Exited: integer (nullable = true)\n",
      "\n"
     ]
    }
   ],
   "source": [
    "df.printSchema()"
   ]
  },
  {
   "cell_type": "code",
   "execution_count": 69,
   "id": "0c349ab8",
   "metadata": {},
   "outputs": [
    {
     "name": "stdout",
     "output_type": "stream",
     "text": [
      "+---------+----------+--------+-----------+---------+------+---+------+---------+-------------+---------+--------------+---------------+------+\n",
      "|RowNumber|CustomerId| Surname|CreditScore|Geography|Gender|Age|Tenure|  Balance|NumOfProducts|HasCrCard|IsActiveMember|EstimatedSalary|Exited|\n",
      "+---------+----------+--------+-----------+---------+------+---+------+---------+-------------+---------+--------------+---------------+------+\n",
      "|        1|  15634602|Hargrave|        619|   France|Female| 42|     2|      0.0|            1|        1|             1|      101348.88|     1|\n",
      "|        2|  15647311|    Hill|        608|    Spain|Female| 41|     1| 83807.86|            1|        0|             1|      112542.58|     0|\n",
      "|        3|  15619304|    Onio|        502|   France|Female| 42|     8| 159660.8|            3|        1|             0|      113931.57|     1|\n",
      "|        4|  15701354|    Boni|        699|   France|Female| 39|     1|      0.0|            2|        0|             0|       93826.63|     0|\n",
      "|        5|  15737888|Mitchell|        850|    Spain|Female| 43|     2|125510.82|            1|        1|             1|        79084.1|     0|\n",
      "+---------+----------+--------+-----------+---------+------+---+------+---------+-------------+---------+--------------+---------------+------+\n",
      "only showing top 5 rows\n",
      "\n"
     ]
    }
   ],
   "source": [
    "df.show(5)"
   ]
  },
  {
   "cell_type": "code",
   "execution_count": 85,
   "id": "f87238dd",
   "metadata": {},
   "outputs": [
    {
     "name": "stdout",
     "output_type": "stream",
     "text": [
      "+--------+------+\n",
      "| Surname|Gender|\n",
      "+--------+------+\n",
      "|Hargrave|Female|\n",
      "|    Hill|Female|\n",
      "|    Onio|Female|\n",
      "|    Boni|Female|\n",
      "|Mitchell|Female|\n",
      "+--------+------+\n",
      "only showing top 5 rows\n",
      "\n"
     ]
    }
   ],
   "source": [
    "df.select('Surname','Gender').show(5)"
   ]
  },
  {
   "cell_type": "code",
   "execution_count": 86,
   "id": "1b19bf87",
   "metadata": {
    "scrolled": true
   },
   "outputs": [
    {
     "name": "stdout",
     "output_type": "stream",
     "text": [
      "+-------+------------------+-----------------+-------+-----------------+---------+------+------------------+------------------+-----------------+------------------+-------------------+-------------------+-----------------+-------------------+------------------+\n",
      "|summary|         RowNumber|       CustomerId|Surname|      CreditScore|Geography|Gender|               Age|            Tenure|          Balance|     NumOfProducts|          HasCrCard|     IsActiveMember|  EstimatedSalary|             Exited|  age_after_10_yrs|\n",
      "+-------+------------------+-----------------+-------+-----------------+---------+------+------------------+------------------+-----------------+------------------+-------------------+-------------------+-----------------+-------------------+------------------+\n",
      "|  count|             10000|            10000|  10000|            10000|    10000| 10000|             10000|             10000|            10000|             10000|              10000|              10000|            10000|              10000|             10000|\n",
      "|   mean|            5000.5|  1.56909405694E7|   null|         650.5288|     null|  null|           38.9218|            5.0128|76485.88928799961|            1.5302|             0.7055|             0.5151|100090.2398809998|             0.2037|           48.9218|\n",
      "| stddev|2886.8956799071675|71936.18612274907|   null|96.65329873613035|     null|  null|10.487806451704587|2.8921743770496837|62397.40520238599|0.5816543579989917|0.45584046447513327|0.49979692845891815|57510.49281769821|0.40276858399486065|10.487806451704587|\n",
      "|    min|                 1|         15565701|  Abazu|              350|   France|Female|                18|                 0|              0.0|                 1|                  0|                  0|            11.58|                  0|                28|\n",
      "|    max|             10000|         15815690| Zuyeva|              850|    Spain|  Male|                92|                10|        250898.09|                 4|                  1|                  1|        199992.48|                  1|               102|\n",
      "+-------+------------------+-----------------+-------+-----------------+---------+------+------------------+------------------+-----------------+------------------+-------------------+-------------------+-----------------+-------------------+------------------+\n",
      "\n"
     ]
    }
   ],
   "source": [
    "df.describe().show()\n"
   ]
  },
  {
   "cell_type": "code",
   "execution_count": 87,
   "id": "a2a7316b",
   "metadata": {},
   "outputs": [
    {
     "name": "stdout",
     "output_type": "stream",
     "text": [
      "+---------+----------+--------+-----------+---------+------+---+------+---------+-------------+---------+--------------+---------------+------+----------------+\n",
      "|RowNumber|CustomerId|Surname |CreditScore|Geography|Gender|Age|Tenure|Balance  |NumOfProducts|HasCrCard|IsActiveMember|EstimatedSalary|Exited|age_after_10_yrs|\n",
      "+---------+----------+--------+-----------+---------+------+---+------+---------+-------------+---------+--------------+---------------+------+----------------+\n",
      "|1        |15634602  |Hargrave|619        |France   |Female|42 |2     |0.0      |1            |1        |1             |101348.88      |1     |52              |\n",
      "|2        |15647311  |Hill    |608        |Spain    |Female|41 |1     |83807.86 |1            |0        |1             |112542.58      |0     |51              |\n",
      "|3        |15619304  |Onio    |502        |France   |Female|42 |8     |159660.8 |3            |1        |0             |113931.57      |1     |52              |\n",
      "|4        |15701354  |Boni    |699        |France   |Female|39 |1     |0.0      |2            |0        |0             |93826.63       |0     |49              |\n",
      "|5        |15737888  |Mitchell|850        |Spain    |Female|43 |2     |125510.82|1            |1        |1             |79084.1        |0     |53              |\n",
      "|6        |15574012  |Chu     |645        |Spain    |Male  |44 |8     |113755.78|2            |1        |0             |149756.71      |1     |54              |\n",
      "|7        |15592531  |Bartlett|822        |France   |Male  |50 |7     |0.0      |2            |1        |1             |10062.8        |0     |60              |\n",
      "|8        |15656148  |Obinna  |376        |Germany  |Female|29 |4     |115046.74|4            |1        |0             |119346.88      |1     |39              |\n",
      "|9        |15792365  |He      |501        |France   |Male  |44 |4     |142051.07|2            |0        |1             |74940.5        |0     |54              |\n",
      "|10       |15592389  |H?      |684        |France   |Male  |27 |2     |134603.88|1            |1        |1             |71725.73       |0     |37              |\n",
      "+---------+----------+--------+-----------+---------+------+---+------+---------+-------------+---------+--------------+---------------+------+----------------+\n",
      "only showing top 10 rows\n",
      "\n"
     ]
    }
   ],
   "source": [
    "#thêm cột mới\n",
    "#with column\n",
    "df.withColumn(\"age_after_10_yrs\",(df[\"age\"]+10)).show(10,False)"
   ]
  },
  {
   "cell_type": "code",
   "execution_count": 88,
   "id": "ad5caa23",
   "metadata": {},
   "outputs": [],
   "source": [
    "df= df.withColumn(\"age_after_10_yrs\",(df[\"age\"]+10))"
   ]
  },
  {
   "cell_type": "code",
   "execution_count": 89,
   "id": "2c2e1786",
   "metadata": {},
   "outputs": [
    {
     "name": "stdout",
     "output_type": "stream",
     "text": [
      "+---------+----------+--------+-----------+---------+------+---+------+---------+-------------+---------+--------------+---------------+------+----------------+----------+\n",
      "|RowNumber|CustomerId|Surname |CreditScore|Geography|Gender|Age|Tenure|Balance  |NumOfProducts|HasCrCard|IsActiveMember|EstimatedSalary|Exited|age_after_10_yrs|age_double|\n",
      "+---------+----------+--------+-----------+---------+------+---+------+---------+-------------+---------+--------------+---------------+------+----------------+----------+\n",
      "|1        |15634602  |Hargrave|619        |France   |Female|42 |2     |0.0      |1            |1        |1             |101348.88      |1     |52              |42.0      |\n",
      "|2        |15647311  |Hill    |608        |Spain    |Female|41 |1     |83807.86 |1            |0        |1             |112542.58      |0     |51              |41.0      |\n",
      "|3        |15619304  |Onio    |502        |France   |Female|42 |8     |159660.8 |3            |1        |0             |113931.57      |1     |52              |42.0      |\n",
      "|4        |15701354  |Boni    |699        |France   |Female|39 |1     |0.0      |2            |0        |0             |93826.63       |0     |49              |39.0      |\n",
      "|5        |15737888  |Mitchell|850        |Spain    |Female|43 |2     |125510.82|1            |1        |1             |79084.1        |0     |53              |43.0      |\n",
      "|6        |15574012  |Chu     |645        |Spain    |Male  |44 |8     |113755.78|2            |1        |0             |149756.71      |1     |54              |44.0      |\n",
      "|7        |15592531  |Bartlett|822        |France   |Male  |50 |7     |0.0      |2            |1        |1             |10062.8        |0     |60              |50.0      |\n",
      "|8        |15656148  |Obinna  |376        |Germany  |Female|29 |4     |115046.74|4            |1        |0             |119346.88      |1     |39              |29.0      |\n",
      "|9        |15792365  |He      |501        |France   |Male  |44 |4     |142051.07|2            |0        |1             |74940.5        |0     |54              |44.0      |\n",
      "|10       |15592389  |H?      |684        |France   |Male  |27 |2     |134603.88|1            |1        |1             |71725.73       |0     |37              |27.0      |\n",
      "+---------+----------+--------+-----------+---------+------+---+------+---------+-------------+---------+--------------+---------------+------+----------------+----------+\n",
      "only showing top 10 rows\n",
      "\n"
     ]
    }
   ],
   "source": [
    "from pyspark.sql.types import StringType,DoubleType\n",
    "\n",
    "df.withColumn('age_double',df['age'].cast(DoubleType())).show(10,False)"
   ]
  },
  {
   "cell_type": "markdown",
   "id": "690792b0",
   "metadata": {},
   "source": [
    "##2.7. lọc dữ liệu theo điều kiện\n"
   ]
  },
  {
   "cell_type": "code",
   "execution_count": null,
   "id": "01c6f435",
   "metadata": {},
   "outputs": [],
   "source": [
    "# lọc theo 1 điều kiện\n",
    "#filter the records \n",
    "df.filter(df['Balance']=='Age').show()"
   ]
  },
  {
   "cell_type": "code",
   "execution_count": 90,
   "id": "3c4a5dfe",
   "metadata": {},
   "outputs": [
    {
     "name": "stdout",
     "output_type": "stream",
     "text": [
      "+---+------+-----------+\n",
      "|Age|Gender|CreditScore|\n",
      "+---+------+-----------+\n",
      "| 42|Female|        619|\n",
      "| 42|Female|        502|\n",
      "| 39|Female|        699|\n",
      "| 50|  Male|        822|\n",
      "| 44|  Male|        501|\n",
      "| 27|  Male|        684|\n",
      "| 31|  Male|        528|\n",
      "| 34|Female|        476|\n",
      "| 25|Female|        549|\n",
      "| 24|Female|        726|\n",
      "| 41|  Male|        732|\n",
      "| 46|  Male|        669|\n",
      "| 38|Female|        846|\n",
      "| 25|  Male|        577|\n",
      "| 44|  Male|        571|\n",
      "| 29|  Male|        411|\n",
      "| 36|  Male|        533|\n",
      "| 45|Female|        475|\n",
      "| 36|  Male|        850|\n",
      "| 51|Female|        465|\n",
      "+---+------+-----------+\n",
      "only showing top 20 rows\n",
      "\n"
     ]
    }
   ],
   "source": [
    "#lọc theo điều kiện\n",
    "#filter the records \n",
    "df.filter(df[]=='France').select('Age','Gender','CreditScore').show()"
   ]
  },
  {
   "cell_type": "code",
   "execution_count": 91,
   "id": "01574c7f",
   "metadata": {},
   "outputs": [
    {
     "name": "stdout",
     "output_type": "stream",
     "text": [
      "+---------+----------+--------------+-----------+---------+------+---+------+---------+-------------+---------+--------------+---------------+------+----------------+\n",
      "|RowNumber|CustomerId|       Surname|CreditScore|Geography|Gender|Age|Tenure|  Balance|NumOfProducts|HasCrCard|IsActiveMember|EstimatedSalary|Exited|age_after_10_yrs|\n",
      "+---------+----------+--------------+-----------+---------+------+---+------+---------+-------------+---------+--------------+---------------+------+----------------+\n",
      "|        3|  15619304|          Onio|        502|   France|Female| 42|     8| 159660.8|            3|        1|             0|      113931.57|     1|              52|\n",
      "|       13|  15632264|           Kay|        476|   France|Female| 34|    10|      0.0|            2|        1|             0|       26260.98|     0|              44|\n",
      "|       21|  15577657|      McDonald|        732|   France|  Male| 41|     8|      0.0|            2|        1|             1|      170886.17|     0|              51|\n",
      "|       28|  15700772|       Nebechi|        571|   France|  Male| 44|     9|      0.0|            2|        0|             0|       38433.35|     0|              54|\n",
      "|       42|  15738148|        Clarke|        465|   France|Female| 51|     8|122522.32|            1|        0|             0|      181297.65|     1|              61|\n",
      "|       70|  15755648|        Pisano|        675|   France|Female| 21|     8| 98373.26|            1|        1|             0|        18203.0|     0|              31|\n",
      "|       75|  15770811|       Wallace|        519|   France|  Male| 36|     9|      0.0|            2|        0|             1|       145562.4|     0|              46|\n",
      "|       77|  15614049|            Hu|        664|   France|  Male| 55|     8|      0.0|            2|        1|             1|      139161.64|     0|              65|\n",
      "|       78|  15662085|          Read|        678|   France|Female| 32|     9|      0.0|            1|        1|             1|      148210.64|     0|              42|\n",
      "|       88|  15625759|        Rowley|        729|   France|  Male| 30|     9|      0.0|            2|        1|             0|      151869.35|     0|              40|\n",
      "|       93|  15809248|          Cole|        524|   France|Female| 36|    10|      0.0|            2|        1|             0|      109614.57|     0|              46|\n",
      "|       94|  15640635|         Capon|        769|   France|  Male| 29|     8|      0.0|            2|        1|             1|      172290.61|     0|              39|\n",
      "|      100|  15633059|       Fanucci|        413|   France|  Male| 34|     9|      0.0|            2|        0|             0|        6534.18|     0|              44|\n",
      "|      103|  15580146|          Hung|        738|   France|  Male| 31|     9| 82674.15|            1|        1|             0|       41970.72|     0|              41|\n",
      "|      121|  15682472|      Culbreth|        828|   France|  Male| 34|     8|129433.34|            2|        0|             0|       38131.77|     0|              44|\n",
      "|      126|  15627360|        Fuller|        432|   France|  Male| 42|     9|152603.45|            1|        1|             0|      110265.24|     1|              52|\n",
      "|      130|  15591607|        Fernie|        770|   France|  Male| 24|     9|101827.07|            1|        1|             0|      167256.35|     0|              34|\n",
      "|      133|  15677871|         Cocci|        687|   France|  Male| 38|     9|122570.87|            1|        1|             1|       35608.88|     0|              48|\n",
      "|      149|  15703264|Chukwufumnanya|        735|   France|  Male| 44|     9|120681.63|            1|        1|             0|       74836.34|     0|              54|\n",
      "|      152|  15759618|      Alexeeva|        535|   France|Female| 48|     9|      0.0|            1|        1|             0|      149892.79|     1|              58|\n",
      "+---------+----------+--------------+-----------+---------+------+---+------+---------+-------------+---------+--------------+---------------+------+----------------+\n",
      "only showing top 20 rows\n",
      "\n"
     ]
    }
   ],
   "source": [
    "#lọc nhiều điều kiện\n",
    "#filter the multiple conditions\n",
    "df.filter(df['Geography']=='France').filter(df['Tenure'] >7).show()"
   ]
  },
  {
   "cell_type": "code",
   "execution_count": 92,
   "id": "e433c302",
   "metadata": {},
   "outputs": [
    {
     "name": "stdout",
     "output_type": "stream",
     "text": [
      "+---------+----------+-------+-----------+---------+------+---+------+-------+-------------+---------+--------------+---------------+------+----------------+\n",
      "|RowNumber|CustomerId|Surname|CreditScore|Geography|Gender|Age|Tenure|Balance|NumOfProducts|HasCrCard|IsActiveMember|EstimatedSalary|Exited|age_after_10_yrs|\n",
      "+---------+----------+-------+-----------+---------+------+---+------+-------+-------------+---------+--------------+---------------+------+----------------+\n",
      "+---------+----------+-------+-----------+---------+------+---+------+-------+-------------+---------+--------------+---------------+------+----------------+\n",
      "\n"
     ]
    }
   ],
   "source": [
    "# sử dụng và để kết hợp lọc\n",
    "#filter the multiple conditions\n",
    "df.filter((df['Geography']=='Gender')&(df['Tenure'] >7)).show()"
   ]
  },
  {
   "cell_type": "code",
   "execution_count": 93,
   "id": "f46a9c26",
   "metadata": {},
   "outputs": [
    {
     "name": "stdout",
     "output_type": "stream",
     "text": [
      "+---------+\n",
      "|Geography|\n",
      "+---------+\n",
      "|  Germany|\n",
      "|   France|\n",
      "|    Spain|\n",
      "+---------+\n",
      "\n"
     ]
    }
   ],
   "source": [
    "#Giá trị phân biệt trong cột\n",
    "#Distinct Values in a column\n",
    "df.select('Geography').distinct().show()"
   ]
  },
  {
   "cell_type": "code",
   "execution_count": 94,
   "id": "e47e9914",
   "metadata": {},
   "outputs": [
    {
     "data": {
      "text/plain": [
       "3"
      ]
     },
     "execution_count": 94,
     "metadata": {},
     "output_type": "execute_result"
    }
   ],
   "source": [
    "#distinct value count\n",
    "df.select('Geography').distinct().count()"
   ]
  },
  {
   "cell_type": "markdown",
   "id": "0d0025f3",
   "metadata": {},
   "source": [
    "2.8 nhóm giữ liệu"
   ]
  },
  {
   "cell_type": "code",
   "execution_count": 95,
   "id": "5cbe3e41",
   "metadata": {},
   "outputs": [
    {
     "name": "stdout",
     "output_type": "stream",
     "text": [
      "+---------+-----+\n",
      "|Geography|count|\n",
      "+---------+-----+\n",
      "|Germany  |2509 |\n",
      "|France   |5014 |\n",
      "|Spain    |2477 |\n",
      "+---------+-----+\n",
      "\n"
     ]
    }
   ],
   "source": [
    "#Nhóm giữ liệu\n",
    "# sử dụng grouBy\n",
    "df.groupBy('Geography').count().show(5,False)"
   ]
  },
  {
   "cell_type": "code",
   "execution_count": 96,
   "id": "0d41fd66",
   "metadata": {},
   "outputs": [
    {
     "name": "stdout",
     "output_type": "stream",
     "text": [
      "+---------+-----+\n",
      "|Geography|count|\n",
      "+---------+-----+\n",
      "|France   |5014 |\n",
      "|Germany  |2509 |\n",
      "|Spain    |2477 |\n",
      "+---------+-----+\n",
      "\n"
     ]
    }
   ],
   "source": [
    "#Sử dụng groupBy và sắp xếp với orderBy\n",
    "# Value counts\n",
    "df.groupBy('Geography').count().orderBy('count',ascending=False).show(5,False)"
   ]
  },
  {
   "cell_type": "code",
   "execution_count": 97,
   "id": "0297dd90",
   "metadata": {},
   "outputs": [
    {
     "name": "stdout",
     "output_type": "stream",
     "text": [
      "+---------+-----------------+--------------------+-----------------+------------------+-----------------+------------------+------------------+------------------+-------------------+--------------------+-------------------+---------------------+\n",
      "|Geography|avg(RowNumber)   |avg(CustomerId)     |avg(CreditScore) |avg(Age)          |avg(Tenure)      |avg(Balance)      |avg(NumOfProducts)|avg(HasCrCard)    |avg(IsActiveMember)|avg(EstimatedSalary)|avg(Exited)        |avg(age_after_10_yrs)|\n",
      "+---------+-----------------+--------------------+-----------------+------------------+-----------------+------------------+------------------+------------------+-------------------+--------------------+-------------------+---------------------+\n",
      "|Germany  |5000.278995615783|1.5690555652849741E7|651.4535671582304|39.771622160223195|5.009964129135113|119730.11613391782|1.519728975687525 |0.7138302112395377|0.49740932642487046|101113.4351016342   |0.32443204463929853|49.771622160223195   |\n",
      "|France   |5025.228560031911|1.569065011368169E7 |649.6683286796969|38.51176705225369 |5.004587155963303|62092.6365157559  |1.5309134423613882|0.7066214599122457|0.5167530913442362 |99899.18081372172   |0.16154766653370561|48.51176705225369    |\n",
      "|Spain    |4950.667743237787|1.5691918405732742E7|651.3338716188938|38.89099717400081 |5.03229713362939 |61818.14776342349 |1.5393621316108195|0.6947920872022608|0.5296729915220024 |99440.57228098497   |0.1667339523617279 |48.89099717400081    |\n",
      "+---------+-----------------+--------------------+-----------------+------------------+-----------------+------------------+------------------+------------------+-------------------+--------------------+-------------------+---------------------+\n",
      "\n"
     ]
    }
   ],
   "source": [
    "# Value counts\n",
    "df.groupBy('Geography').mean().show(5,False)"
   ]
  },
  {
   "cell_type": "code",
   "execution_count": 98,
   "id": "282c5150",
   "metadata": {},
   "outputs": [
    {
     "name": "stdout",
     "output_type": "stream",
     "text": [
      "+---------+--------------+---------------+----------------+--------+-----------+--------------------+------------------+--------------+-------------------+--------------------+-----------+---------------------+\n",
      "|Geography|sum(RowNumber)|sum(CustomerId)|sum(CreditScore)|sum(Age)|sum(Tenure)|sum(Balance)        |sum(NumOfProducts)|sum(HasCrCard)|sum(IsActiveMember)|sum(EstimatedSalary)|sum(Exited)|sum(age_after_10_yrs)|\n",
      "+---------+--------------+---------------+----------------+--------+-----------+--------------------+------------------+--------------+-------------------+--------------------+-----------+---------------------+\n",
      "|Germany  |12545700      |39367604133    |1634497         |99787   |12570      |3.004028613799998E8 |3813              |1791          |1248               |2.536936086700002E8 |814        |124877               |\n",
      "|France   |25196496      |78672919670    |3257437         |193098  |25093      |3.1133247949000007E8|7676              |3543          |2591               |5.008944926000007E8 |810        |243238               |\n",
      "|Spain    |12262804      |38868881891    |1613354         |96333   |12465      |1.5312355201E8      |3813              |1721          |1312               |2.4631429753999978E8|413        |121103               |\n",
      "+---------+--------------+---------------+----------------+--------+-----------+--------------------+------------------+--------------+-------------------+--------------------+-----------+---------------------+\n",
      "\n"
     ]
    }
   ],
   "source": [
    "#Nhóm sử dụng groupBy và áp dụng tính tổng cho danh mục đặc trả về\n",
    "df.groupBy('Geography').sum().show(5,False)"
   ]
  },
  {
   "cell_type": "code",
   "execution_count": 99,
   "id": "da50f661",
   "metadata": {},
   "outputs": [
    {
     "name": "stdout",
     "output_type": "stream",
     "text": [
      "+---------+--------------+---------------+----------------+--------+-----------+------------+------------------+--------------+-------------------+--------------------+-----------+---------------------+\n",
      "|Geography|max(RowNumber)|max(CustomerId)|max(CreditScore)|max(Age)|max(Tenure)|max(Balance)|max(NumOfProducts)|max(HasCrCard)|max(IsActiveMember)|max(EstimatedSalary)|max(Exited)|max(age_after_10_yrs)|\n",
      "+---------+--------------+---------------+----------------+--------+-----------+------------+------------------+--------------+-------------------+--------------------+-----------+---------------------+\n",
      "|Germany  |9999          |15815656       |850             |84      |10         |214346.96   |4                 |1             |1                  |199970.74           |1          |94                   |\n",
      "|France   |10000         |15815660       |850             |92      |10         |238387.56   |4                 |1             |1                  |199929.17           |1          |102                  |\n",
      "|Spain    |9993          |15815690       |850             |88      |10         |250898.09   |4                 |1             |1                  |199992.48           |1          |98                   |\n",
      "+---------+--------------+---------------+----------------+--------+-----------+------------+------------------+--------------+-------------------+--------------------+-----------+---------------------+\n",
      "\n"
     ]
    }
   ],
   "source": [
    "#Nhóm sử dụng groupBy và áp dụng xem giá trị nhỏ nhất và lớn nhất\n",
    "# Value counts\n",
    "df.groupBy('Geography').max().show(5,False)"
   ]
  },
  {
   "cell_type": "code",
   "execution_count": 100,
   "id": "4a9cbe9f",
   "metadata": {},
   "outputs": [
    {
     "name": "stdout",
     "output_type": "stream",
     "text": [
      "+---------+--------------+---------------+----------------+--------+-----------+------------+------------------+--------------+-------------------+--------------------+-----------+---------------------+\n",
      "|Geography|min(RowNumber)|min(CustomerId)|min(CreditScore)|min(Age)|min(Tenure)|min(Balance)|min(NumOfProducts)|min(HasCrCard)|min(IsActiveMember)|min(EstimatedSalary)|min(Exited)|min(age_after_10_yrs)|\n",
      "+---------+--------------+---------------+----------------+--------+-----------+------------+------------------+--------------+-------------------+--------------------+-----------+---------------------+\n",
      "|Germany  |8             |15565779       |350             |18      |0          |27288.43    |1                 |0             |0                  |11.58               |0          |28                   |\n",
      "|France   |1             |15565714       |350             |18      |0          |0.0         |1                 |0             |0                  |90.07               |0          |28                   |\n",
      "|Spain    |2             |15565701       |350             |18      |0          |0.0         |1                 |0             |0                  |417.41              |0          |28                   |\n",
      "+---------+--------------+---------------+----------------+--------+-----------+------------+------------------+--------------+-------------------+--------------------+-----------+---------------------+\n",
      "\n"
     ]
    }
   ],
   "source": [
    "# Value counts\n",
    "df.groupBy('Geography').min().show(5,False)"
   ]
  },
  {
   "cell_type": "code",
   "execution_count": 102,
   "id": "ef927ef5",
   "metadata": {},
   "outputs": [
    {
     "name": "stdout",
     "output_type": "stream",
     "text": [
      "+---------+-----------+\n",
      "|Geography|sum(Tenure)|\n",
      "+---------+-----------+\n",
      "|Germany  |12570      |\n",
      "|France   |25093      |\n",
      "|Spain    |12465      |\n",
      "+---------+-----------+\n",
      "\n"
     ]
    }
   ],
   "source": [
    "#Kết nhập dữ liệu\n",
    "#Aggregation\n",
    "df.groupBy('Geography').agg({'Tenure':'sum'}).show(5,False)"
   ]
  },
  {
   "cell_type": "code",
   "execution_count": 34,
   "id": "31257832",
   "metadata": {},
   "outputs": [],
   "source": [
    "#Hàm do người dùng xác định (UDF)\n",
    "# UDF\n",
    "from pyspark.sql.functions import udf"
   ]
  },
  {
   "cell_type": "code",
   "execution_count": 107,
   "id": "4f11cbc9",
   "metadata": {},
   "outputs": [],
   "source": [
    "#Hàm python thông thường\n",
    "#normal function \n",
    "def price_range(country):\n",
    "    if country in ['Samsung','Apple']:\n",
    "        return 'High Price'\n",
    "    elif brand =='Germany':\n",
    "        return 'Mid Price'\n",
    "    else:\n",
    "        return 'Low Price'"
   ]
  },
  {
   "cell_type": "code",
   "execution_count": 104,
   "id": "d391400b",
   "metadata": {},
   "outputs": [
    {
     "name": "stdout",
     "output_type": "stream",
     "text": [
      "+---------+----------+--------+-----------+---------+------+---+------+---------+-------------+---------+--------------+---------------+------+----------------+-----------+\n",
      "|RowNumber|CustomerId|Surname |CreditScore|Geography|Gender|Age|Tenure|Balance  |NumOfProducts|HasCrCard|IsActiveMember|EstimatedSalary|Exited|age_after_10_yrs|price_range|\n",
      "+---------+----------+--------+-----------+---------+------+---+------+---------+-------------+---------+--------------+---------------+------+----------------+-----------+\n",
      "|1        |15634602  |Hargrave|619        |France   |Female|42 |2     |0.0      |1            |1        |1             |101348.88      |1     |52              |Low Price  |\n",
      "|2        |15647311  |Hill    |608        |Spain    |Female|41 |1     |83807.86 |1            |0        |1             |112542.58      |0     |51              |Low Price  |\n",
      "|3        |15619304  |Onio    |502        |France   |Female|42 |8     |159660.8 |3            |1        |0             |113931.57      |1     |52              |Low Price  |\n",
      "|4        |15701354  |Boni    |699        |France   |Female|39 |1     |0.0      |2            |0        |0             |93826.63       |0     |49              |Low Price  |\n",
      "|5        |15737888  |Mitchell|850        |Spain    |Female|43 |2     |125510.82|1            |1        |1             |79084.1        |0     |53              |Low Price  |\n",
      "|6        |15574012  |Chu     |645        |Spain    |Male  |44 |8     |113755.78|2            |1        |0             |149756.71      |1     |54              |Low Price  |\n",
      "|7        |15592531  |Bartlett|822        |France   |Male  |50 |7     |0.0      |2            |1        |1             |10062.8        |0     |60              |Low Price  |\n",
      "|8        |15656148  |Obinna  |376        |Germany  |Female|29 |4     |115046.74|4            |1        |0             |119346.88      |1     |39              |Mid Price  |\n",
      "|9        |15792365  |He      |501        |France   |Male  |44 |4     |142051.07|2            |0        |1             |74940.5        |0     |54              |Low Price  |\n",
      "|10       |15592389  |H?      |684        |France   |Male  |27 |2     |134603.88|1            |1        |1             |71725.73       |0     |37              |Low Price  |\n",
      "+---------+----------+--------+-----------+---------+------+---+------+---------+-------------+---------+--------------+---------------+------+----------------+-----------+\n",
      "only showing top 10 rows\n",
      "\n"
     ]
    }
   ],
   "source": [
    "#create udf using python function\n",
    "brand_udf=udf(price_range,StringType())\n",
    "#apply udf on dataframe\n",
    "df.withColumn('price_range',brand_udf(df['Geography'])).show(10,False)"
   ]
  },
  {
   "cell_type": "code",
   "execution_count": 38,
   "id": "4c0f96dc",
   "metadata": {},
   "outputs": [],
   "source": [
    "#Pandas UDF (Véc tơ hóa UDF)\n",
    "#pandas udf\n",
    "from pyspark.sql.functions import pandas_udf, PandasUDFType"
   ]
  },
  {
   "cell_type": "code",
   "execution_count": 39,
   "id": "86b65f81",
   "metadata": {},
   "outputs": [],
   "source": [
    "#create python function\n",
    "def remaining_yrs(age):\n",
    "    yrs_left=100-age\n",
    "\n",
    "    return yrs_left"
   ]
  },
  {
   "cell_type": "code",
   "execution_count": 40,
   "id": "9839ea26",
   "metadata": {},
   "outputs": [],
   "source": [
    "from pyspark.sql.types import IntegerType\n",
    "#create udf using python function\n",
    "length_udf = pandas_udf(remaining_yrs, IntegerType())"
   ]
  },
  {
   "cell_type": "code",
   "execution_count": 41,
   "id": "aa135a4e",
   "metadata": {},
   "outputs": [
    {
     "name": "stdout",
     "output_type": "stream",
     "text": [
      "+-------+---+----------+------+-------+----------------+--------+\n",
      "|ratings|age|experience|family|mobile |age_after_10_yrs|yrs_left|\n",
      "+-------+---+----------+------+-------+----------------+--------+\n",
      "|3      |32 |9.0       |3     |Vivo   |42              |68      |\n",
      "|3      |27 |13.0      |3     |Apple  |37              |73      |\n",
      "|4      |22 |2.5       |0     |Samsung|32              |78      |\n",
      "|4      |37 |16.5      |4     |Apple  |47              |63      |\n",
      "|5      |27 |9.0       |1     |MI     |37              |73      |\n",
      "|4      |27 |9.0       |0     |Oppo   |37              |73      |\n",
      "|5      |37 |23.0      |5     |Vivo   |47              |63      |\n",
      "|5      |37 |23.0      |5     |Samsung|47              |63      |\n",
      "|3      |22 |2.5       |0     |Apple  |32              |78      |\n",
      "|3      |27 |6.0       |0     |MI     |37              |73      |\n",
      "+-------+---+----------+------+-------+----------------+--------+\n",
      "only showing top 10 rows\n",
      "\n"
     ]
    }
   ],
   "source": [
    "#apply pandas udf on dataframe\n",
    "df.withColumn(\"yrs_left\", length_udf(df['age'])).show(10,False)"
   ]
  },
  {
   "cell_type": "code",
   "execution_count": 42,
   "id": "fc98dfc0",
   "metadata": {},
   "outputs": [],
   "source": [
    "#Pandas UDF (Nhiều cột)\n",
    "#udf using two columns \n",
    "def prod(rating,exp):\n",
    "    x=rating*exp\n",
    "    return x"
   ]
  },
  {
   "cell_type": "code",
   "execution_count": 108,
   "id": "ea2b551e",
   "metadata": {},
   "outputs": [
    {
     "name": "stdout",
     "output_type": "stream",
     "text": [
      "+---------+----------+--------+-----------+---------+------+---+------+---------+-------------+---------+--------------+---------------+------+----------------+-------+\n",
      "|RowNumber|CustomerId|Surname |CreditScore|Geography|Gender|Age|Tenure|Balance  |NumOfProducts|HasCrCard|IsActiveMember|EstimatedSalary|Exited|age_after_10_yrs|product|\n",
      "+---------+----------+--------+-----------+---------+------+---+------+---------+-------------+---------+--------------+---------------+------+----------------+-------+\n",
      "|1        |15634602  |Hargrave|619        |France   |Female|42 |2     |0.0      |1            |1        |1             |101348.88      |1     |52              |1238.0 |\n",
      "|2        |15647311  |Hill    |608        |Spain    |Female|41 |1     |83807.86 |1            |0        |1             |112542.58      |0     |51              |608.0  |\n",
      "|3        |15619304  |Onio    |502        |France   |Female|42 |8     |159660.8 |3            |1        |0             |113931.57      |1     |52              |4016.0 |\n",
      "|4        |15701354  |Boni    |699        |France   |Female|39 |1     |0.0      |2            |0        |0             |93826.63       |0     |49              |699.0  |\n",
      "|5        |15737888  |Mitchell|850        |Spain    |Female|43 |2     |125510.82|1            |1        |1             |79084.1        |0     |53              |1700.0 |\n",
      "|6        |15574012  |Chu     |645        |Spain    |Male  |44 |8     |113755.78|2            |1        |0             |149756.71      |1     |54              |5160.0 |\n",
      "|7        |15592531  |Bartlett|822        |France   |Male  |50 |7     |0.0      |2            |1        |1             |10062.8        |0     |60              |5754.0 |\n",
      "+---------+----------+--------+-----------+---------+------+---+------+---------+-------------+---------+--------------+---------------+------+----------------+-------+\n",
      "only showing top 7 rows\n",
      "\n"
     ]
    }
   ],
   "source": [
    "#create udf using python function\n",
    "prod_udf = pandas_udf(prod, DoubleType())\n",
    "#apply pandas udf on multiple columns of dataframe\n",
    "df.withColumn(\"product\", prod_udf(df['CreditScore'],df['Tenure'])).show(7,False)"
   ]
  },
  {
   "cell_type": "code",
   "execution_count": 44,
   "id": "7cd5e4d2",
   "metadata": {},
   "outputs": [
    {
     "data": {
      "text/plain": [
       "33"
      ]
     },
     "execution_count": 44,
     "metadata": {},
     "output_type": "execute_result"
    }
   ],
   "source": [
    "#Bỏ các giá trị trùng lặp\n",
    "#duplicate values\n",
    "df.count()\n"
   ]
  },
  {
   "cell_type": "code",
   "execution_count": 45,
   "id": "d81eebcc",
   "metadata": {},
   "outputs": [],
   "source": [
    "#drop duplicate values\n",
    "df=df.dropDuplicates()"
   ]
  },
  {
   "cell_type": "code",
   "execution_count": 46,
   "id": "d3bebd72",
   "metadata": {},
   "outputs": [
    {
     "data": {
      "text/plain": [
       "26"
      ]
     },
     "execution_count": 46,
     "metadata": {},
     "output_type": "execute_result"
    }
   ],
   "source": [
    "#validate new count\n",
    "df.count()"
   ]
  },
  {
   "cell_type": "code",
   "execution_count": 109,
   "id": "acacf454",
   "metadata": {},
   "outputs": [],
   "source": [
    "#xóa cột\n",
    "#drop column of dataframe\n",
    "df_new=df.drop('Geography')"
   ]
  },
  {
   "cell_type": "code",
   "execution_count": 48,
   "id": "1c355e27",
   "metadata": {},
   "outputs": [
    {
     "name": "stdout",
     "output_type": "stream",
     "text": [
      "+-------+---+----------+------+----------------+\n",
      "|ratings|age|experience|family|age_after_10_yrs|\n",
      "+-------+---+----------+------+----------------+\n",
      "|      4| 37|      16.5|     4|              47|\n",
      "|      3| 42|      23.0|     5|              52|\n",
      "|      4| 37|       6.0|     0|              47|\n",
      "|      5| 37|      23.0|     5|              47|\n",
      "|      2| 27|       9.0|     2|              37|\n",
      "|      4| 22|       2.5|     0|              32|\n",
      "|      5| 27|       6.0|     0|              37|\n",
      "|      4| 27|       9.0|     0|              37|\n",
      "|      3| 22|       2.5|     0|              32|\n",
      "|      2| 27|       6.0|     2|              37|\n",
      "+-------+---+----------+------+----------------+\n",
      "only showing top 10 rows\n",
      "\n"
     ]
    }
   ],
   "source": [
    "df_new.show(10)"
   ]
  },
  {
   "cell_type": "code",
   "execution_count": 49,
   "id": "bff6b28b",
   "metadata": {},
   "outputs": [
    {
     "data": {
      "text/plain": [
       "'C:\\\\Users\\\\Do Hai Nhi'"
      ]
     },
     "execution_count": 49,
     "metadata": {},
     "output_type": "execute_result"
    }
   ],
   "source": [
    "#ghi tệp CSV \n",
    "#current working directory\n",
    "import os\n",
    "# pwd\n",
    "os.getcwd()"
   ]
  },
  {
   "cell_type": "code",
   "execution_count": 110,
   "id": "6361edce",
   "metadata": {},
   "outputs": [],
   "source": [
    "#target directory \n",
    "write_uri='/works1/df_csv'"
   ]
  },
  {
   "cell_type": "code",
   "execution_count": 111,
   "id": "754b1f85",
   "metadata": {},
   "outputs": [],
   "source": [
    "#save the dataframe as single csv \n",
    "df.coalesce(1).write.format(\"csv\").option(\"header\",\"true\").save(write_uri)"
   ]
  },
  {
   "cell_type": "code",
   "execution_count": 112,
   "id": "d5f64a03",
   "metadata": {},
   "outputs": [],
   "source": [
    "#ghi tệp Parquet\n",
    "#target location\n",
    "parquet_uri='/works1/df_parquet'"
   ]
  },
  {
   "cell_type": "code",
   "execution_count": 113,
   "id": "8a118348",
   "metadata": {},
   "outputs": [],
   "source": [
    "#save the data into parquet format \n",
    "df.write.format('parquet').save(parquet_uri)"
   ]
  },
  {
   "cell_type": "code",
   "execution_count": 3,
   "id": "8da54d30",
   "metadata": {},
   "outputs": [],
   "source": [
    "\n",
    "import numpy as np\n",
    "import pandas as pd "
   ]
  },
  {
   "cell_type": "code",
   "execution_count": 15,
   "id": "0d028064",
   "metadata": {},
   "outputs": [
    {
     "data": {
      "text/plain": [
       "0    1.0\n",
       "1    3.0\n",
       "2    5.0\n",
       "3    NaN\n",
       "4    6.0\n",
       "5    8.0\n",
       "dtype: float64"
      ]
     },
     "execution_count": 15,
     "metadata": {},
     "output_type": "execute_result"
    }
   ],
   "source": [
    "#tao doi tuong \n",
    "s = pd.Series([1, 3, 5, np.nan, 6, 8])\n",
    "s"
   ]
  },
  {
   "cell_type": "code",
   "execution_count": 17,
   "id": "e378c901",
   "metadata": {},
   "outputs": [
    {
     "data": {
      "text/plain": [
       "DatetimeIndex(['2013-01-01', '2013-01-02', '2013-01-03', '2013-01-04',\n",
       "               '2013-01-05', '2013-01-06'],\n",
       "              dtype='datetime64[ns]', freq='D')"
      ]
     },
     "execution_count": 17,
     "metadata": {},
     "output_type": "execute_result"
    }
   ],
   "source": [
    "#Tạo một DataFrame bằng cách truyền một mảng NumPy,với chỉ mục ngày giờ và các cột được gắn nhãn:\n",
    "dates = pd.date_range(\"20130101\", periods=6)\n",
    "dates\n"
   ]
  },
  {
   "cell_type": "code",
   "execution_count": 18,
   "id": "c277f861",
   "metadata": {},
   "outputs": [
    {
     "data": {
      "text/html": [
       "<div>\n",
       "<style scoped>\n",
       "    .dataframe tbody tr th:only-of-type {\n",
       "        vertical-align: middle;\n",
       "    }\n",
       "\n",
       "    .dataframe tbody tr th {\n",
       "        vertical-align: top;\n",
       "    }\n",
       "\n",
       "    .dataframe thead th {\n",
       "        text-align: right;\n",
       "    }\n",
       "</style>\n",
       "<table border=\"1\" class=\"dataframe\">\n",
       "  <thead>\n",
       "    <tr style=\"text-align: right;\">\n",
       "      <th></th>\n",
       "      <th>A</th>\n",
       "      <th>B</th>\n",
       "      <th>C</th>\n",
       "      <th>D</th>\n",
       "    </tr>\n",
       "  </thead>\n",
       "  <tbody>\n",
       "    <tr>\n",
       "      <th>2013-01-01</th>\n",
       "      <td>0.112395</td>\n",
       "      <td>-0.006774</td>\n",
       "      <td>-0.990306</td>\n",
       "      <td>1.552991</td>\n",
       "    </tr>\n",
       "    <tr>\n",
       "      <th>2013-01-02</th>\n",
       "      <td>1.475725</td>\n",
       "      <td>0.502396</td>\n",
       "      <td>-3.150960</td>\n",
       "      <td>-1.718322</td>\n",
       "    </tr>\n",
       "    <tr>\n",
       "      <th>2013-01-03</th>\n",
       "      <td>0.740816</td>\n",
       "      <td>0.080500</td>\n",
       "      <td>-0.039787</td>\n",
       "      <td>1.071258</td>\n",
       "    </tr>\n",
       "    <tr>\n",
       "      <th>2013-01-04</th>\n",
       "      <td>-0.643881</td>\n",
       "      <td>-0.268964</td>\n",
       "      <td>0.362574</td>\n",
       "      <td>0.203760</td>\n",
       "    </tr>\n",
       "    <tr>\n",
       "      <th>2013-01-05</th>\n",
       "      <td>1.143068</td>\n",
       "      <td>0.462252</td>\n",
       "      <td>0.564937</td>\n",
       "      <td>0.732171</td>\n",
       "    </tr>\n",
       "    <tr>\n",
       "      <th>2013-01-06</th>\n",
       "      <td>-0.277351</td>\n",
       "      <td>-0.750661</td>\n",
       "      <td>0.044917</td>\n",
       "      <td>-0.105579</td>\n",
       "    </tr>\n",
       "  </tbody>\n",
       "</table>\n",
       "</div>"
      ],
      "text/plain": [
       "                   A         B         C         D\n",
       "2013-01-01  0.112395 -0.006774 -0.990306  1.552991\n",
       "2013-01-02  1.475725  0.502396 -3.150960 -1.718322\n",
       "2013-01-03  0.740816  0.080500 -0.039787  1.071258\n",
       "2013-01-04 -0.643881 -0.268964  0.362574  0.203760\n",
       "2013-01-05  1.143068  0.462252  0.564937  0.732171\n",
       "2013-01-06 -0.277351 -0.750661  0.044917 -0.105579"
      ]
     },
     "execution_count": 18,
     "metadata": {},
     "output_type": "execute_result"
    }
   ],
   "source": [
    "\n",
    "df = pd.DataFrame(np.random.randn(6, 4), index=dates, columns=list(\"ABCD\"))\n",
    "df\n"
   ]
  },
  {
   "cell_type": "code",
   "execution_count": 19,
   "id": "e5414aee",
   "metadata": {},
   "outputs": [
    {
     "data": {
      "text/html": [
       "<div>\n",
       "<style scoped>\n",
       "    .dataframe tbody tr th:only-of-type {\n",
       "        vertical-align: middle;\n",
       "    }\n",
       "\n",
       "    .dataframe tbody tr th {\n",
       "        vertical-align: top;\n",
       "    }\n",
       "\n",
       "    .dataframe thead th {\n",
       "        text-align: right;\n",
       "    }\n",
       "</style>\n",
       "<table border=\"1\" class=\"dataframe\">\n",
       "  <thead>\n",
       "    <tr style=\"text-align: right;\">\n",
       "      <th></th>\n",
       "      <th>A</th>\n",
       "      <th>B</th>\n",
       "      <th>C</th>\n",
       "      <th>D</th>\n",
       "      <th>E</th>\n",
       "      <th>F</th>\n",
       "    </tr>\n",
       "  </thead>\n",
       "  <tbody>\n",
       "    <tr>\n",
       "      <th>0</th>\n",
       "      <td>1.0</td>\n",
       "      <td>2013-01-02</td>\n",
       "      <td>1.0</td>\n",
       "      <td>3</td>\n",
       "      <td>test</td>\n",
       "      <td>foo</td>\n",
       "    </tr>\n",
       "    <tr>\n",
       "      <th>1</th>\n",
       "      <td>1.0</td>\n",
       "      <td>2013-01-02</td>\n",
       "      <td>1.0</td>\n",
       "      <td>3</td>\n",
       "      <td>train</td>\n",
       "      <td>foo</td>\n",
       "    </tr>\n",
       "    <tr>\n",
       "      <th>2</th>\n",
       "      <td>1.0</td>\n",
       "      <td>2013-01-02</td>\n",
       "      <td>1.0</td>\n",
       "      <td>3</td>\n",
       "      <td>test</td>\n",
       "      <td>foo</td>\n",
       "    </tr>\n",
       "    <tr>\n",
       "      <th>3</th>\n",
       "      <td>1.0</td>\n",
       "      <td>2013-01-02</td>\n",
       "      <td>1.0</td>\n",
       "      <td>3</td>\n",
       "      <td>train</td>\n",
       "      <td>foo</td>\n",
       "    </tr>\n",
       "  </tbody>\n",
       "</table>\n",
       "</div>"
      ],
      "text/plain": [
       "     A          B    C  D      E    F\n",
       "0  1.0 2013-01-02  1.0  3   test  foo\n",
       "1  1.0 2013-01-02  1.0  3  train  foo\n",
       "2  1.0 2013-01-02  1.0  3   test  foo\n",
       "3  1.0 2013-01-02  1.0  3  train  foo"
      ]
     },
     "execution_count": 19,
     "metadata": {},
     "output_type": "execute_result"
    }
   ],
   "source": [
    "#Tạo một DataFrame bằng cách chuyển một lệnh của các đối tượng có thể được chuyển đổi thành dạng chuỗi\n",
    "\n",
    "df2 = pd.DataFrame(\n",
    "{\n",
    "\"A\": 1.0,\n",
    "\"B\": pd.Timestamp(\"20130102\"),\n",
    "\"C\": pd.Series(1, index=list(range(4)), dtype=\"float32\"),\n",
    "\"D\": np.array([3] * 4, dtype=\"int32\"),\n",
    "\"E\": pd.Categorical([\"test\", \"train\", \"test\", \"train\"]),\n",
    "\"F\": \"foo\",\n",
    "}\n",
    ")\n",
    "df2"
   ]
  },
  {
   "cell_type": "code",
   "execution_count": 21,
   "id": "b721947a",
   "metadata": {},
   "outputs": [
    {
     "data": {
      "text/plain": [
       "A           float64\n",
       "B    datetime64[ns]\n",
       "C           float32\n",
       "D             int32\n",
       "E          category\n",
       "F            object\n",
       "dtype: object"
      ]
     },
     "execution_count": 21,
     "metadata": {},
     "output_type": "execute_result"
    }
   ],
   "source": [
    "#Tạo một DataFrame bằng cách chuyển một lệnh của các đối tượng có thể được chuyển đổi thành dạng chuỗi\n",
    "df2.dtypes\n",
    "\n"
   ]
  },
  {
   "cell_type": "code",
   "execution_count": 22,
   "id": "ed98bf8f",
   "metadata": {},
   "outputs": [
    {
     "data": {
      "text/html": [
       "<div>\n",
       "<style scoped>\n",
       "    .dataframe tbody tr th:only-of-type {\n",
       "        vertical-align: middle;\n",
       "    }\n",
       "\n",
       "    .dataframe tbody tr th {\n",
       "        vertical-align: top;\n",
       "    }\n",
       "\n",
       "    .dataframe thead th {\n",
       "        text-align: right;\n",
       "    }\n",
       "</style>\n",
       "<table border=\"1\" class=\"dataframe\">\n",
       "  <thead>\n",
       "    <tr style=\"text-align: right;\">\n",
       "      <th></th>\n",
       "      <th>A</th>\n",
       "      <th>B</th>\n",
       "      <th>C</th>\n",
       "      <th>D</th>\n",
       "    </tr>\n",
       "  </thead>\n",
       "  <tbody>\n",
       "    <tr>\n",
       "      <th>2013-01-01</th>\n",
       "      <td>0.112395</td>\n",
       "      <td>-0.006774</td>\n",
       "      <td>-0.990306</td>\n",
       "      <td>1.552991</td>\n",
       "    </tr>\n",
       "    <tr>\n",
       "      <th>2013-01-02</th>\n",
       "      <td>1.475725</td>\n",
       "      <td>0.502396</td>\n",
       "      <td>-3.150960</td>\n",
       "      <td>-1.718322</td>\n",
       "    </tr>\n",
       "    <tr>\n",
       "      <th>2013-01-03</th>\n",
       "      <td>0.740816</td>\n",
       "      <td>0.080500</td>\n",
       "      <td>-0.039787</td>\n",
       "      <td>1.071258</td>\n",
       "    </tr>\n",
       "    <tr>\n",
       "      <th>2013-01-04</th>\n",
       "      <td>-0.643881</td>\n",
       "      <td>-0.268964</td>\n",
       "      <td>0.362574</td>\n",
       "      <td>0.203760</td>\n",
       "    </tr>\n",
       "    <tr>\n",
       "      <th>2013-01-05</th>\n",
       "      <td>1.143068</td>\n",
       "      <td>0.462252</td>\n",
       "      <td>0.564937</td>\n",
       "      <td>0.732171</td>\n",
       "    </tr>\n",
       "  </tbody>\n",
       "</table>\n",
       "</div>"
      ],
      "text/plain": [
       "                   A         B         C         D\n",
       "2013-01-01  0.112395 -0.006774 -0.990306  1.552991\n",
       "2013-01-02  1.475725  0.502396 -3.150960 -1.718322\n",
       "2013-01-03  0.740816  0.080500 -0.039787  1.071258\n",
       "2013-01-04 -0.643881 -0.268964  0.362574  0.203760\n",
       "2013-01-05  1.143068  0.462252  0.564937  0.732171"
      ]
     },
     "execution_count": 22,
     "metadata": {},
     "output_type": "execute_result"
    }
   ],
   "source": [
    "#Xem dữ liệu\n",
    "df.head()\n",
    "\n"
   ]
  },
  {
   "cell_type": "code",
   "execution_count": 23,
   "id": "7a4eff72",
   "metadata": {},
   "outputs": [
    {
     "data": {
      "text/html": [
       "<div>\n",
       "<style scoped>\n",
       "    .dataframe tbody tr th:only-of-type {\n",
       "        vertical-align: middle;\n",
       "    }\n",
       "\n",
       "    .dataframe tbody tr th {\n",
       "        vertical-align: top;\n",
       "    }\n",
       "\n",
       "    .dataframe thead th {\n",
       "        text-align: right;\n",
       "    }\n",
       "</style>\n",
       "<table border=\"1\" class=\"dataframe\">\n",
       "  <thead>\n",
       "    <tr style=\"text-align: right;\">\n",
       "      <th></th>\n",
       "      <th>A</th>\n",
       "      <th>B</th>\n",
       "      <th>C</th>\n",
       "      <th>D</th>\n",
       "    </tr>\n",
       "  </thead>\n",
       "  <tbody>\n",
       "    <tr>\n",
       "      <th>2013-01-04</th>\n",
       "      <td>-0.643881</td>\n",
       "      <td>-0.268964</td>\n",
       "      <td>0.362574</td>\n",
       "      <td>0.203760</td>\n",
       "    </tr>\n",
       "    <tr>\n",
       "      <th>2013-01-05</th>\n",
       "      <td>1.143068</td>\n",
       "      <td>0.462252</td>\n",
       "      <td>0.564937</td>\n",
       "      <td>0.732171</td>\n",
       "    </tr>\n",
       "    <tr>\n",
       "      <th>2013-01-06</th>\n",
       "      <td>-0.277351</td>\n",
       "      <td>-0.750661</td>\n",
       "      <td>0.044917</td>\n",
       "      <td>-0.105579</td>\n",
       "    </tr>\n",
       "  </tbody>\n",
       "</table>\n",
       "</div>"
      ],
      "text/plain": [
       "                   A         B         C         D\n",
       "2013-01-04 -0.643881 -0.268964  0.362574  0.203760\n",
       "2013-01-05  1.143068  0.462252  0.564937  0.732171\n",
       "2013-01-06 -0.277351 -0.750661  0.044917 -0.105579"
      ]
     },
     "execution_count": 23,
     "metadata": {},
     "output_type": "execute_result"
    }
   ],
   "source": [
    "df.tail(3)"
   ]
  },
  {
   "cell_type": "code",
   "execution_count": 24,
   "id": "66350080",
   "metadata": {},
   "outputs": [
    {
     "data": {
      "text/plain": [
       "DatetimeIndex(['2013-01-01', '2013-01-02', '2013-01-03', '2013-01-04',\n",
       "               '2013-01-05', '2013-01-06'],\n",
       "              dtype='datetime64[ns]', freq='D')"
      ]
     },
     "execution_count": 24,
     "metadata": {},
     "output_type": "execute_result"
    }
   ],
   "source": [
    "#Hiển thị chỉ mục,các cột\n",
    "df.index"
   ]
  },
  {
   "cell_type": "code",
   "execution_count": 25,
   "id": "f9526177",
   "metadata": {},
   "outputs": [
    {
     "data": {
      "text/plain": [
       "Index(['A', 'B', 'C', 'D'], dtype='object')"
      ]
     },
     "execution_count": 25,
     "metadata": {},
     "output_type": "execute_result"
    }
   ],
   "source": [
    "df.columns\n"
   ]
  },
  {
   "cell_type": "code",
   "execution_count": 26,
   "id": "7ce59720",
   "metadata": {},
   "outputs": [
    {
     "data": {
      "text/plain": [
       "array([[ 0.11239524, -0.0067739 , -0.99030598,  1.55299116],\n",
       "       [ 1.47572484,  0.50239611, -3.15096021, -1.71832221],\n",
       "       [ 0.74081642,  0.08049987, -0.03978722,  1.0712582 ],\n",
       "       [-0.64388091, -0.26896363,  0.36257393,  0.20376003],\n",
       "       [ 1.14306761,  0.46225199,  0.564937  ,  0.73217102],\n",
       "       [-0.27735115, -0.7506608 ,  0.04491741, -0.10557854]])"
      ]
     },
     "execution_count": 26,
     "metadata": {},
     "output_type": "execute_result"
    }
   ],
   "source": [
    "df.to_numpy()"
   ]
  },
  {
   "cell_type": "code",
   "execution_count": 27,
   "id": "8de922d0",
   "metadata": {},
   "outputs": [
    {
     "data": {
      "text/plain": [
       "array([[1.0, Timestamp('2013-01-02 00:00:00'), 1.0, 3, 'test', 'foo'],\n",
       "       [1.0, Timestamp('2013-01-02 00:00:00'), 1.0, 3, 'train', 'foo'],\n",
       "       [1.0, Timestamp('2013-01-02 00:00:00'), 1.0, 3, 'test', 'foo'],\n",
       "       [1.0, Timestamp('2013-01-02 00:00:00'), 1.0, 3, 'train', 'foo']],\n",
       "      dtype=object)"
      ]
     },
     "execution_count": 27,
     "metadata": {},
     "output_type": "execute_result"
    }
   ],
   "source": [
    "df2.to_numpy()\n"
   ]
  },
  {
   "cell_type": "code",
   "execution_count": 28,
   "id": "14e35db3",
   "metadata": {},
   "outputs": [
    {
     "data": {
      "text/html": [
       "<div>\n",
       "<style scoped>\n",
       "    .dataframe tbody tr th:only-of-type {\n",
       "        vertical-align: middle;\n",
       "    }\n",
       "\n",
       "    .dataframe tbody tr th {\n",
       "        vertical-align: top;\n",
       "    }\n",
       "\n",
       "    .dataframe thead th {\n",
       "        text-align: right;\n",
       "    }\n",
       "</style>\n",
       "<table border=\"1\" class=\"dataframe\">\n",
       "  <thead>\n",
       "    <tr style=\"text-align: right;\">\n",
       "      <th></th>\n",
       "      <th>A</th>\n",
       "      <th>B</th>\n",
       "      <th>C</th>\n",
       "      <th>D</th>\n",
       "    </tr>\n",
       "  </thead>\n",
       "  <tbody>\n",
       "    <tr>\n",
       "      <th>count</th>\n",
       "      <td>6.000000</td>\n",
       "      <td>6.000000</td>\n",
       "      <td>6.000000</td>\n",
       "      <td>6.000000</td>\n",
       "    </tr>\n",
       "    <tr>\n",
       "      <th>mean</th>\n",
       "      <td>0.425129</td>\n",
       "      <td>0.003125</td>\n",
       "      <td>-0.534771</td>\n",
       "      <td>0.289380</td>\n",
       "    </tr>\n",
       "    <tr>\n",
       "      <th>std</th>\n",
       "      <td>0.831013</td>\n",
       "      <td>0.470825</td>\n",
       "      <td>1.389071</td>\n",
       "      <td>1.148765</td>\n",
       "    </tr>\n",
       "    <tr>\n",
       "      <th>min</th>\n",
       "      <td>-0.643881</td>\n",
       "      <td>-0.750661</td>\n",
       "      <td>-3.150960</td>\n",
       "      <td>-1.718322</td>\n",
       "    </tr>\n",
       "    <tr>\n",
       "      <th>25%</th>\n",
       "      <td>-0.179915</td>\n",
       "      <td>-0.203416</td>\n",
       "      <td>-0.752676</td>\n",
       "      <td>-0.028244</td>\n",
       "    </tr>\n",
       "    <tr>\n",
       "      <th>50%</th>\n",
       "      <td>0.426606</td>\n",
       "      <td>0.036863</td>\n",
       "      <td>0.002565</td>\n",
       "      <td>0.467966</td>\n",
       "    </tr>\n",
       "    <tr>\n",
       "      <th>75%</th>\n",
       "      <td>1.042505</td>\n",
       "      <td>0.366814</td>\n",
       "      <td>0.283160</td>\n",
       "      <td>0.986486</td>\n",
       "    </tr>\n",
       "    <tr>\n",
       "      <th>max</th>\n",
       "      <td>1.475725</td>\n",
       "      <td>0.502396</td>\n",
       "      <td>0.564937</td>\n",
       "      <td>1.552991</td>\n",
       "    </tr>\n",
       "  </tbody>\n",
       "</table>\n",
       "</div>"
      ],
      "text/plain": [
       "              A         B         C         D\n",
       "count  6.000000  6.000000  6.000000  6.000000\n",
       "mean   0.425129  0.003125 -0.534771  0.289380\n",
       "std    0.831013  0.470825  1.389071  1.148765\n",
       "min   -0.643881 -0.750661 -3.150960 -1.718322\n",
       "25%   -0.179915 -0.203416 -0.752676 -0.028244\n",
       "50%    0.426606  0.036863  0.002565  0.467966\n",
       "75%    1.042505  0.366814  0.283160  0.986486\n",
       "max    1.475725  0.502396  0.564937  1.552991"
      ]
     },
     "execution_count": 28,
     "metadata": {},
     "output_type": "execute_result"
    }
   ],
   "source": [
    "df.describe()"
   ]
  },
  {
   "cell_type": "code",
   "execution_count": 29,
   "id": "64b56e33",
   "metadata": {},
   "outputs": [
    {
     "data": {
      "text/html": [
       "<div>\n",
       "<style scoped>\n",
       "    .dataframe tbody tr th:only-of-type {\n",
       "        vertical-align: middle;\n",
       "    }\n",
       "\n",
       "    .dataframe tbody tr th {\n",
       "        vertical-align: top;\n",
       "    }\n",
       "\n",
       "    .dataframe thead th {\n",
       "        text-align: right;\n",
       "    }\n",
       "</style>\n",
       "<table border=\"1\" class=\"dataframe\">\n",
       "  <thead>\n",
       "    <tr style=\"text-align: right;\">\n",
       "      <th></th>\n",
       "      <th>2013-01-01</th>\n",
       "      <th>2013-01-02</th>\n",
       "      <th>2013-01-03</th>\n",
       "      <th>2013-01-04</th>\n",
       "      <th>2013-01-05</th>\n",
       "      <th>2013-01-06</th>\n",
       "    </tr>\n",
       "  </thead>\n",
       "  <tbody>\n",
       "    <tr>\n",
       "      <th>A</th>\n",
       "      <td>0.112395</td>\n",
       "      <td>1.475725</td>\n",
       "      <td>0.740816</td>\n",
       "      <td>-0.643881</td>\n",
       "      <td>1.143068</td>\n",
       "      <td>-0.277351</td>\n",
       "    </tr>\n",
       "    <tr>\n",
       "      <th>B</th>\n",
       "      <td>-0.006774</td>\n",
       "      <td>0.502396</td>\n",
       "      <td>0.080500</td>\n",
       "      <td>-0.268964</td>\n",
       "      <td>0.462252</td>\n",
       "      <td>-0.750661</td>\n",
       "    </tr>\n",
       "    <tr>\n",
       "      <th>C</th>\n",
       "      <td>-0.990306</td>\n",
       "      <td>-3.150960</td>\n",
       "      <td>-0.039787</td>\n",
       "      <td>0.362574</td>\n",
       "      <td>0.564937</td>\n",
       "      <td>0.044917</td>\n",
       "    </tr>\n",
       "    <tr>\n",
       "      <th>D</th>\n",
       "      <td>1.552991</td>\n",
       "      <td>-1.718322</td>\n",
       "      <td>1.071258</td>\n",
       "      <td>0.203760</td>\n",
       "      <td>0.732171</td>\n",
       "      <td>-0.105579</td>\n",
       "    </tr>\n",
       "  </tbody>\n",
       "</table>\n",
       "</div>"
      ],
      "text/plain": [
       "   2013-01-01  2013-01-02  2013-01-03  2013-01-04  2013-01-05  2013-01-06\n",
       "A    0.112395    1.475725    0.740816   -0.643881    1.143068   -0.277351\n",
       "B   -0.006774    0.502396    0.080500   -0.268964    0.462252   -0.750661\n",
       "C   -0.990306   -3.150960   -0.039787    0.362574    0.564937    0.044917\n",
       "D    1.552991   -1.718322    1.071258    0.203760    0.732171   -0.105579"
      ]
     },
     "execution_count": 29,
     "metadata": {},
     "output_type": "execute_result"
    }
   ],
   "source": [
    "#Chuyển vị dữ liệu:\n",
    "df.T\n",
    "\n"
   ]
  },
  {
   "cell_type": "code",
   "execution_count": 30,
   "id": "536d2f16",
   "metadata": {},
   "outputs": [
    {
     "data": {
      "text/html": [
       "<div>\n",
       "<style scoped>\n",
       "    .dataframe tbody tr th:only-of-type {\n",
       "        vertical-align: middle;\n",
       "    }\n",
       "\n",
       "    .dataframe tbody tr th {\n",
       "        vertical-align: top;\n",
       "    }\n",
       "\n",
       "    .dataframe thead th {\n",
       "        text-align: right;\n",
       "    }\n",
       "</style>\n",
       "<table border=\"1\" class=\"dataframe\">\n",
       "  <thead>\n",
       "    <tr style=\"text-align: right;\">\n",
       "      <th></th>\n",
       "      <th>D</th>\n",
       "      <th>C</th>\n",
       "      <th>B</th>\n",
       "      <th>A</th>\n",
       "    </tr>\n",
       "  </thead>\n",
       "  <tbody>\n",
       "    <tr>\n",
       "      <th>2013-01-01</th>\n",
       "      <td>1.552991</td>\n",
       "      <td>-0.990306</td>\n",
       "      <td>-0.006774</td>\n",
       "      <td>0.112395</td>\n",
       "    </tr>\n",
       "    <tr>\n",
       "      <th>2013-01-02</th>\n",
       "      <td>-1.718322</td>\n",
       "      <td>-3.150960</td>\n",
       "      <td>0.502396</td>\n",
       "      <td>1.475725</td>\n",
       "    </tr>\n",
       "    <tr>\n",
       "      <th>2013-01-03</th>\n",
       "      <td>1.071258</td>\n",
       "      <td>-0.039787</td>\n",
       "      <td>0.080500</td>\n",
       "      <td>0.740816</td>\n",
       "    </tr>\n",
       "    <tr>\n",
       "      <th>2013-01-04</th>\n",
       "      <td>0.203760</td>\n",
       "      <td>0.362574</td>\n",
       "      <td>-0.268964</td>\n",
       "      <td>-0.643881</td>\n",
       "    </tr>\n",
       "    <tr>\n",
       "      <th>2013-01-05</th>\n",
       "      <td>0.732171</td>\n",
       "      <td>0.564937</td>\n",
       "      <td>0.462252</td>\n",
       "      <td>1.143068</td>\n",
       "    </tr>\n",
       "    <tr>\n",
       "      <th>2013-01-06</th>\n",
       "      <td>-0.105579</td>\n",
       "      <td>0.044917</td>\n",
       "      <td>-0.750661</td>\n",
       "      <td>-0.277351</td>\n",
       "    </tr>\n",
       "  </tbody>\n",
       "</table>\n",
       "</div>"
      ],
      "text/plain": [
       "                   D         C         B         A\n",
       "2013-01-01  1.552991 -0.990306 -0.006774  0.112395\n",
       "2013-01-02 -1.718322 -3.150960  0.502396  1.475725\n",
       "2013-01-03  1.071258 -0.039787  0.080500  0.740816\n",
       "2013-01-04  0.203760  0.362574 -0.268964 -0.643881\n",
       "2013-01-05  0.732171  0.564937  0.462252  1.143068\n",
       "2013-01-06 -0.105579  0.044917 -0.750661 -0.277351"
      ]
     },
     "execution_count": 30,
     "metadata": {},
     "output_type": "execute_result"
    }
   ],
   "source": [
    "df.sort_index(axis=1, ascending=False)"
   ]
  },
  {
   "cell_type": "code",
   "execution_count": 31,
   "id": "1ca29184",
   "metadata": {},
   "outputs": [
    {
     "data": {
      "text/html": [
       "<div>\n",
       "<style scoped>\n",
       "    .dataframe tbody tr th:only-of-type {\n",
       "        vertical-align: middle;\n",
       "    }\n",
       "\n",
       "    .dataframe tbody tr th {\n",
       "        vertical-align: top;\n",
       "    }\n",
       "\n",
       "    .dataframe thead th {\n",
       "        text-align: right;\n",
       "    }\n",
       "</style>\n",
       "<table border=\"1\" class=\"dataframe\">\n",
       "  <thead>\n",
       "    <tr style=\"text-align: right;\">\n",
       "      <th></th>\n",
       "      <th>D</th>\n",
       "      <th>C</th>\n",
       "      <th>B</th>\n",
       "      <th>A</th>\n",
       "    </tr>\n",
       "  </thead>\n",
       "  <tbody>\n",
       "    <tr>\n",
       "      <th>2013-01-01</th>\n",
       "      <td>1.552991</td>\n",
       "      <td>-0.990306</td>\n",
       "      <td>-0.006774</td>\n",
       "      <td>0.112395</td>\n",
       "    </tr>\n",
       "    <tr>\n",
       "      <th>2013-01-02</th>\n",
       "      <td>-1.718322</td>\n",
       "      <td>-3.150960</td>\n",
       "      <td>0.502396</td>\n",
       "      <td>1.475725</td>\n",
       "    </tr>\n",
       "    <tr>\n",
       "      <th>2013-01-03</th>\n",
       "      <td>1.071258</td>\n",
       "      <td>-0.039787</td>\n",
       "      <td>0.080500</td>\n",
       "      <td>0.740816</td>\n",
       "    </tr>\n",
       "    <tr>\n",
       "      <th>2013-01-04</th>\n",
       "      <td>0.203760</td>\n",
       "      <td>0.362574</td>\n",
       "      <td>-0.268964</td>\n",
       "      <td>-0.643881</td>\n",
       "    </tr>\n",
       "    <tr>\n",
       "      <th>2013-01-05</th>\n",
       "      <td>0.732171</td>\n",
       "      <td>0.564937</td>\n",
       "      <td>0.462252</td>\n",
       "      <td>1.143068</td>\n",
       "    </tr>\n",
       "    <tr>\n",
       "      <th>2013-01-06</th>\n",
       "      <td>-0.105579</td>\n",
       "      <td>0.044917</td>\n",
       "      <td>-0.750661</td>\n",
       "      <td>-0.277351</td>\n",
       "    </tr>\n",
       "  </tbody>\n",
       "</table>\n",
       "</div>"
      ],
      "text/plain": [
       "                   D         C         B         A\n",
       "2013-01-01  1.552991 -0.990306 -0.006774  0.112395\n",
       "2013-01-02 -1.718322 -3.150960  0.502396  1.475725\n",
       "2013-01-03  1.071258 -0.039787  0.080500  0.740816\n",
       "2013-01-04  0.203760  0.362574 -0.268964 -0.643881\n",
       "2013-01-05  0.732171  0.564937  0.462252  1.143068\n",
       "2013-01-06 -0.105579  0.044917 -0.750661 -0.277351"
      ]
     },
     "execution_count": 31,
     "metadata": {},
     "output_type": "execute_result"
    }
   ],
   "source": [
    "#Sắp xếp theo trụctọa độ:\n",
    "df.sort_index(axis=1, ascending=False)"
   ]
  },
  {
   "cell_type": "code",
   "execution_count": 32,
   "id": "b3e0df11",
   "metadata": {},
   "outputs": [
    {
     "data": {
      "text/html": [
       "<div>\n",
       "<style scoped>\n",
       "    .dataframe tbody tr th:only-of-type {\n",
       "        vertical-align: middle;\n",
       "    }\n",
       "\n",
       "    .dataframe tbody tr th {\n",
       "        vertical-align: top;\n",
       "    }\n",
       "\n",
       "    .dataframe thead th {\n",
       "        text-align: right;\n",
       "    }\n",
       "</style>\n",
       "<table border=\"1\" class=\"dataframe\">\n",
       "  <thead>\n",
       "    <tr style=\"text-align: right;\">\n",
       "      <th></th>\n",
       "      <th>A</th>\n",
       "      <th>B</th>\n",
       "      <th>C</th>\n",
       "      <th>D</th>\n",
       "    </tr>\n",
       "  </thead>\n",
       "  <tbody>\n",
       "    <tr>\n",
       "      <th>2013-01-06</th>\n",
       "      <td>-0.277351</td>\n",
       "      <td>-0.750661</td>\n",
       "      <td>0.044917</td>\n",
       "      <td>-0.105579</td>\n",
       "    </tr>\n",
       "    <tr>\n",
       "      <th>2013-01-04</th>\n",
       "      <td>-0.643881</td>\n",
       "      <td>-0.268964</td>\n",
       "      <td>0.362574</td>\n",
       "      <td>0.203760</td>\n",
       "    </tr>\n",
       "    <tr>\n",
       "      <th>2013-01-01</th>\n",
       "      <td>0.112395</td>\n",
       "      <td>-0.006774</td>\n",
       "      <td>-0.990306</td>\n",
       "      <td>1.552991</td>\n",
       "    </tr>\n",
       "    <tr>\n",
       "      <th>2013-01-03</th>\n",
       "      <td>0.740816</td>\n",
       "      <td>0.080500</td>\n",
       "      <td>-0.039787</td>\n",
       "      <td>1.071258</td>\n",
       "    </tr>\n",
       "    <tr>\n",
       "      <th>2013-01-05</th>\n",
       "      <td>1.143068</td>\n",
       "      <td>0.462252</td>\n",
       "      <td>0.564937</td>\n",
       "      <td>0.732171</td>\n",
       "    </tr>\n",
       "    <tr>\n",
       "      <th>2013-01-02</th>\n",
       "      <td>1.475725</td>\n",
       "      <td>0.502396</td>\n",
       "      <td>-3.150960</td>\n",
       "      <td>-1.718322</td>\n",
       "    </tr>\n",
       "  </tbody>\n",
       "</table>\n",
       "</div>"
      ],
      "text/plain": [
       "                   A         B         C         D\n",
       "2013-01-06 -0.277351 -0.750661  0.044917 -0.105579\n",
       "2013-01-04 -0.643881 -0.268964  0.362574  0.203760\n",
       "2013-01-01  0.112395 -0.006774 -0.990306  1.552991\n",
       "2013-01-03  0.740816  0.080500 -0.039787  1.071258\n",
       "2013-01-05  1.143068  0.462252  0.564937  0.732171\n",
       "2013-01-02  1.475725  0.502396 -3.150960 -1.718322"
      ]
     },
     "execution_count": 32,
     "metadata": {},
     "output_type": "execute_result"
    }
   ],
   "source": [
    "#Sắp xếp theo giá trị:\n",
    "df.sort_values(by=\"B\")\n"
   ]
  },
  {
   "cell_type": "code",
   "execution_count": 33,
   "id": "b2929dfb",
   "metadata": {},
   "outputs": [
    {
     "data": {
      "text/plain": [
       "2013-01-01    0.112395\n",
       "2013-01-02    1.475725\n",
       "2013-01-03    0.740816\n",
       "2013-01-04   -0.643881\n",
       "2013-01-05    1.143068\n",
       "2013-01-06   -0.277351\n",
       "Freq: D, Name: A, dtype: float64"
      ]
     },
     "execution_count": 33,
     "metadata": {},
     "output_type": "execute_result"
    }
   ],
   "source": [
    "#Bắt đầu tìm hiểu\n",
    "df[\"A\"]\n"
   ]
  },
  {
   "cell_type": "code",
   "execution_count": 34,
   "id": "ccd57e2e",
   "metadata": {},
   "outputs": [
    {
     "data": {
      "text/html": [
       "<div>\n",
       "<style scoped>\n",
       "    .dataframe tbody tr th:only-of-type {\n",
       "        vertical-align: middle;\n",
       "    }\n",
       "\n",
       "    .dataframe tbody tr th {\n",
       "        vertical-align: top;\n",
       "    }\n",
       "\n",
       "    .dataframe thead th {\n",
       "        text-align: right;\n",
       "    }\n",
       "</style>\n",
       "<table border=\"1\" class=\"dataframe\">\n",
       "  <thead>\n",
       "    <tr style=\"text-align: right;\">\n",
       "      <th></th>\n",
       "      <th>A</th>\n",
       "      <th>B</th>\n",
       "      <th>C</th>\n",
       "      <th>D</th>\n",
       "    </tr>\n",
       "  </thead>\n",
       "  <tbody>\n",
       "    <tr>\n",
       "      <th>2013-01-01</th>\n",
       "      <td>0.112395</td>\n",
       "      <td>-0.006774</td>\n",
       "      <td>-0.990306</td>\n",
       "      <td>1.552991</td>\n",
       "    </tr>\n",
       "    <tr>\n",
       "      <th>2013-01-02</th>\n",
       "      <td>1.475725</td>\n",
       "      <td>0.502396</td>\n",
       "      <td>-3.150960</td>\n",
       "      <td>-1.718322</td>\n",
       "    </tr>\n",
       "    <tr>\n",
       "      <th>2013-01-03</th>\n",
       "      <td>0.740816</td>\n",
       "      <td>0.080500</td>\n",
       "      <td>-0.039787</td>\n",
       "      <td>1.071258</td>\n",
       "    </tr>\n",
       "  </tbody>\n",
       "</table>\n",
       "</div>"
      ],
      "text/plain": [
       "                   A         B         C         D\n",
       "2013-01-01  0.112395 -0.006774 -0.990306  1.552991\n",
       "2013-01-02  1.475725  0.502396 -3.150960 -1.718322\n",
       "2013-01-03  0.740816  0.080500 -0.039787  1.071258"
      ]
     },
     "execution_count": 34,
     "metadata": {},
     "output_type": "execute_result"
    }
   ],
   "source": [
    "#Chọn thông quamảng [], để cắtcác hàng.\n",
    "df[0:3]"
   ]
  },
  {
   "cell_type": "code",
   "execution_count": 35,
   "id": "d5d88bdc",
   "metadata": {},
   "outputs": [
    {
     "data": {
      "text/plain": [
       "A    0.112395\n",
       "B   -0.006774\n",
       "C   -0.990306\n",
       "D    1.552991\n",
       "Name: 2013-01-01 00:00:00, dtype: float64"
      ]
     },
     "execution_count": 35,
     "metadata": {},
     "output_type": "execute_result"
    }
   ],
   "source": [
    "#Lựa chọn theo nhãn\n",
    "df.loc[dates[0]]"
   ]
  },
  {
   "cell_type": "code",
   "execution_count": 36,
   "id": "d5ac0c1e",
   "metadata": {},
   "outputs": [
    {
     "data": {
      "text/html": [
       "<div>\n",
       "<style scoped>\n",
       "    .dataframe tbody tr th:only-of-type {\n",
       "        vertical-align: middle;\n",
       "    }\n",
       "\n",
       "    .dataframe tbody tr th {\n",
       "        vertical-align: top;\n",
       "    }\n",
       "\n",
       "    .dataframe thead th {\n",
       "        text-align: right;\n",
       "    }\n",
       "</style>\n",
       "<table border=\"1\" class=\"dataframe\">\n",
       "  <thead>\n",
       "    <tr style=\"text-align: right;\">\n",
       "      <th></th>\n",
       "      <th>A</th>\n",
       "      <th>B</th>\n",
       "    </tr>\n",
       "  </thead>\n",
       "  <tbody>\n",
       "    <tr>\n",
       "      <th>2013-01-01</th>\n",
       "      <td>0.112395</td>\n",
       "      <td>-0.006774</td>\n",
       "    </tr>\n",
       "    <tr>\n",
       "      <th>2013-01-02</th>\n",
       "      <td>1.475725</td>\n",
       "      <td>0.502396</td>\n",
       "    </tr>\n",
       "    <tr>\n",
       "      <th>2013-01-03</th>\n",
       "      <td>0.740816</td>\n",
       "      <td>0.080500</td>\n",
       "    </tr>\n",
       "    <tr>\n",
       "      <th>2013-01-04</th>\n",
       "      <td>-0.643881</td>\n",
       "      <td>-0.268964</td>\n",
       "    </tr>\n",
       "    <tr>\n",
       "      <th>2013-01-05</th>\n",
       "      <td>1.143068</td>\n",
       "      <td>0.462252</td>\n",
       "    </tr>\n",
       "    <tr>\n",
       "      <th>2013-01-06</th>\n",
       "      <td>-0.277351</td>\n",
       "      <td>-0.750661</td>\n",
       "    </tr>\n",
       "  </tbody>\n",
       "</table>\n",
       "</div>"
      ],
      "text/plain": [
       "                   A         B\n",
       "2013-01-01  0.112395 -0.006774\n",
       "2013-01-02  1.475725  0.502396\n",
       "2013-01-03  0.740816  0.080500\n",
       "2013-01-04 -0.643881 -0.268964\n",
       "2013-01-05  1.143068  0.462252\n",
       "2013-01-06 -0.277351 -0.750661"
      ]
     },
     "execution_count": 36,
     "metadata": {},
     "output_type": "execute_result"
    }
   ],
   "source": [
    "#Chọn trên nhiều trục theo nhãn:\n",
    "df.loc[:, [\"A\", \"B\"]]"
   ]
  },
  {
   "cell_type": "code",
   "execution_count": 37,
   "id": "7e273e9b",
   "metadata": {},
   "outputs": [
    {
     "data": {
      "text/html": [
       "<div>\n",
       "<style scoped>\n",
       "    .dataframe tbody tr th:only-of-type {\n",
       "        vertical-align: middle;\n",
       "    }\n",
       "\n",
       "    .dataframe tbody tr th {\n",
       "        vertical-align: top;\n",
       "    }\n",
       "\n",
       "    .dataframe thead th {\n",
       "        text-align: right;\n",
       "    }\n",
       "</style>\n",
       "<table border=\"1\" class=\"dataframe\">\n",
       "  <thead>\n",
       "    <tr style=\"text-align: right;\">\n",
       "      <th></th>\n",
       "      <th>A</th>\n",
       "      <th>B</th>\n",
       "    </tr>\n",
       "  </thead>\n",
       "  <tbody>\n",
       "    <tr>\n",
       "      <th>2013-01-02</th>\n",
       "      <td>1.475725</td>\n",
       "      <td>0.502396</td>\n",
       "    </tr>\n",
       "    <tr>\n",
       "      <th>2013-01-03</th>\n",
       "      <td>0.740816</td>\n",
       "      <td>0.080500</td>\n",
       "    </tr>\n",
       "    <tr>\n",
       "      <th>2013-01-04</th>\n",
       "      <td>-0.643881</td>\n",
       "      <td>-0.268964</td>\n",
       "    </tr>\n",
       "  </tbody>\n",
       "</table>\n",
       "</div>"
      ],
      "text/plain": [
       "                   A         B\n",
       "2013-01-02  1.475725  0.502396\n",
       "2013-01-03  0.740816  0.080500\n",
       "2013-01-04 -0.643881 -0.268964"
      ]
     },
     "execution_count": 37,
     "metadata": {},
     "output_type": "execute_result"
    }
   ],
   "source": [
    "#Hiển thị cắt nhãn,cả hai điểm cuối đều được bao gồm :\n",
    "df.loc[\"20130102\":\"20130104\", [\"A\", \"B\"]]\n"
   ]
  },
  {
   "cell_type": "code",
   "execution_count": 38,
   "id": "0e496a45",
   "metadata": {},
   "outputs": [
    {
     "data": {
      "text/plain": [
       "A    1.475725\n",
       "B    0.502396\n",
       "Name: 2013-01-02 00:00:00, dtype: float64"
      ]
     },
     "execution_count": 38,
     "metadata": {},
     "output_type": "execute_result"
    }
   ],
   "source": [
    "#Giảm kích thước của đối tượng trả về\n",
    "df.loc[\"20130102\", [\"A\", \"B\"]]"
   ]
  },
  {
   "cell_type": "code",
   "execution_count": 39,
   "id": "ce7919bd",
   "metadata": {},
   "outputs": [
    {
     "data": {
      "text/plain": [
       "0.11239524263076998"
      ]
     },
     "execution_count": 39,
     "metadata": {},
     "output_type": "execute_result"
    }
   ],
   "source": [
    "#Để nhận giá trị vô hướng\n",
    "df.loc[dates[0], \"A\"]\n"
   ]
  },
  {
   "cell_type": "code",
   "execution_count": 40,
   "id": "4e7073d0",
   "metadata": {},
   "outputs": [
    {
     "data": {
      "text/plain": [
       "0.11239524263076998"
      ]
     },
     "execution_count": 40,
     "metadata": {},
     "output_type": "execute_result"
    }
   ],
   "source": [
    "#Đểtruy cập nhanh vào một phương pháp vô hướng (tương đương với phương pháp trước):\n",
    "df.at[dates[0], \"A\"]\n"
   ]
  },
  {
   "cell_type": "code",
   "execution_count": 41,
   "id": "14d75f71",
   "metadata": {},
   "outputs": [
    {
     "data": {
      "text/plain": [
       "A   -0.643881\n",
       "B   -0.268964\n",
       "C    0.362574\n",
       "D    0.203760\n",
       "Name: 2013-01-04 00:00:00, dtype: float64"
      ]
     },
     "execution_count": 41,
     "metadata": {},
     "output_type": "execute_result"
    }
   ],
   "source": [
    "#Lựa chọn theo vị trí\n",
    "df.iloc[3]"
   ]
  },
  {
   "cell_type": "code",
   "execution_count": 42,
   "id": "d8a29f0c",
   "metadata": {},
   "outputs": [
    {
     "data": {
      "text/html": [
       "<div>\n",
       "<style scoped>\n",
       "    .dataframe tbody tr th:only-of-type {\n",
       "        vertical-align: middle;\n",
       "    }\n",
       "\n",
       "    .dataframe tbody tr th {\n",
       "        vertical-align: top;\n",
       "    }\n",
       "\n",
       "    .dataframe thead th {\n",
       "        text-align: right;\n",
       "    }\n",
       "</style>\n",
       "<table border=\"1\" class=\"dataframe\">\n",
       "  <thead>\n",
       "    <tr style=\"text-align: right;\">\n",
       "      <th></th>\n",
       "      <th>A</th>\n",
       "      <th>B</th>\n",
       "    </tr>\n",
       "  </thead>\n",
       "  <tbody>\n",
       "    <tr>\n",
       "      <th>2013-01-04</th>\n",
       "      <td>-0.643881</td>\n",
       "      <td>-0.268964</td>\n",
       "    </tr>\n",
       "    <tr>\n",
       "      <th>2013-01-05</th>\n",
       "      <td>1.143068</td>\n",
       "      <td>0.462252</td>\n",
       "    </tr>\n",
       "  </tbody>\n",
       "</table>\n",
       "</div>"
      ],
      "text/plain": [
       "                   A         B\n",
       "2013-01-04 -0.643881 -0.268964\n",
       "2013-01-05  1.143068  0.462252"
      ]
     },
     "execution_count": 42,
     "metadata": {},
     "output_type": "execute_result"
    }
   ],
   "source": [
    "#Theo các lát số nguyên, hoạt động tương tự như NumPy / Python:\n",
    "df.iloc[3:5, 0:2]\n"
   ]
  },
  {
   "cell_type": "code",
   "execution_count": 43,
   "id": "334d50e6",
   "metadata": {},
   "outputs": [
    {
     "data": {
      "text/html": [
       "<div>\n",
       "<style scoped>\n",
       "    .dataframe tbody tr th:only-of-type {\n",
       "        vertical-align: middle;\n",
       "    }\n",
       "\n",
       "    .dataframe tbody tr th {\n",
       "        vertical-align: top;\n",
       "    }\n",
       "\n",
       "    .dataframe thead th {\n",
       "        text-align: right;\n",
       "    }\n",
       "</style>\n",
       "<table border=\"1\" class=\"dataframe\">\n",
       "  <thead>\n",
       "    <tr style=\"text-align: right;\">\n",
       "      <th></th>\n",
       "      <th>A</th>\n",
       "      <th>C</th>\n",
       "    </tr>\n",
       "  </thead>\n",
       "  <tbody>\n",
       "    <tr>\n",
       "      <th>2013-01-02</th>\n",
       "      <td>1.475725</td>\n",
       "      <td>-3.150960</td>\n",
       "    </tr>\n",
       "    <tr>\n",
       "      <th>2013-01-03</th>\n",
       "      <td>0.740816</td>\n",
       "      <td>-0.039787</td>\n",
       "    </tr>\n",
       "    <tr>\n",
       "      <th>2013-01-05</th>\n",
       "      <td>1.143068</td>\n",
       "      <td>0.564937</td>\n",
       "    </tr>\n",
       "  </tbody>\n",
       "</table>\n",
       "</div>"
      ],
      "text/plain": [
       "                   A         C\n",
       "2013-01-02  1.475725 -3.150960\n",
       "2013-01-03  0.740816 -0.039787\n",
       "2013-01-05  1.143068  0.564937"
      ]
     },
     "execution_count": 43,
     "metadata": {},
     "output_type": "execute_result"
    }
   ],
   "source": [
    "#Theo danh sách các vị trí vị trí số nguyên, tương tự như kiểu NumPy / Python\n",
    "df.iloc[[1, 2, 4], [0, 2]]\n"
   ]
  },
  {
   "cell_type": "code",
   "execution_count": 44,
   "id": "cbcc392e",
   "metadata": {},
   "outputs": [
    {
     "data": {
      "text/html": [
       "<div>\n",
       "<style scoped>\n",
       "    .dataframe tbody tr th:only-of-type {\n",
       "        vertical-align: middle;\n",
       "    }\n",
       "\n",
       "    .dataframe tbody tr th {\n",
       "        vertical-align: top;\n",
       "    }\n",
       "\n",
       "    .dataframe thead th {\n",
       "        text-align: right;\n",
       "    }\n",
       "</style>\n",
       "<table border=\"1\" class=\"dataframe\">\n",
       "  <thead>\n",
       "    <tr style=\"text-align: right;\">\n",
       "      <th></th>\n",
       "      <th>A</th>\n",
       "      <th>B</th>\n",
       "      <th>C</th>\n",
       "      <th>D</th>\n",
       "    </tr>\n",
       "  </thead>\n",
       "  <tbody>\n",
       "    <tr>\n",
       "      <th>2013-01-02</th>\n",
       "      <td>1.475725</td>\n",
       "      <td>0.502396</td>\n",
       "      <td>-3.150960</td>\n",
       "      <td>-1.718322</td>\n",
       "    </tr>\n",
       "    <tr>\n",
       "      <th>2013-01-03</th>\n",
       "      <td>0.740816</td>\n",
       "      <td>0.080500</td>\n",
       "      <td>-0.039787</td>\n",
       "      <td>1.071258</td>\n",
       "    </tr>\n",
       "  </tbody>\n",
       "</table>\n",
       "</div>"
      ],
      "text/plain": [
       "                   A         B         C         D\n",
       "2013-01-02  1.475725  0.502396 -3.150960 -1.718322\n",
       "2013-01-03  0.740816  0.080500 -0.039787  1.071258"
      ]
     },
     "execution_count": 44,
     "metadata": {},
     "output_type": "execute_result"
    }
   ],
   "source": [
    "#Đểcắt các hàng một cách rõ ràng:\n",
    "df.iloc[1:3, :]\n"
   ]
  },
  {
   "cell_type": "code",
   "execution_count": 45,
   "id": "c492c6bd",
   "metadata": {},
   "outputs": [
    {
     "data": {
      "text/html": [
       "<div>\n",
       "<style scoped>\n",
       "    .dataframe tbody tr th:only-of-type {\n",
       "        vertical-align: middle;\n",
       "    }\n",
       "\n",
       "    .dataframe tbody tr th {\n",
       "        vertical-align: top;\n",
       "    }\n",
       "\n",
       "    .dataframe thead th {\n",
       "        text-align: right;\n",
       "    }\n",
       "</style>\n",
       "<table border=\"1\" class=\"dataframe\">\n",
       "  <thead>\n",
       "    <tr style=\"text-align: right;\">\n",
       "      <th></th>\n",
       "      <th>B</th>\n",
       "      <th>C</th>\n",
       "    </tr>\n",
       "  </thead>\n",
       "  <tbody>\n",
       "    <tr>\n",
       "      <th>2013-01-01</th>\n",
       "      <td>-0.006774</td>\n",
       "      <td>-0.990306</td>\n",
       "    </tr>\n",
       "    <tr>\n",
       "      <th>2013-01-02</th>\n",
       "      <td>0.502396</td>\n",
       "      <td>-3.150960</td>\n",
       "    </tr>\n",
       "    <tr>\n",
       "      <th>2013-01-03</th>\n",
       "      <td>0.080500</td>\n",
       "      <td>-0.039787</td>\n",
       "    </tr>\n",
       "    <tr>\n",
       "      <th>2013-01-04</th>\n",
       "      <td>-0.268964</td>\n",
       "      <td>0.362574</td>\n",
       "    </tr>\n",
       "    <tr>\n",
       "      <th>2013-01-05</th>\n",
       "      <td>0.462252</td>\n",
       "      <td>0.564937</td>\n",
       "    </tr>\n",
       "    <tr>\n",
       "      <th>2013-01-06</th>\n",
       "      <td>-0.750661</td>\n",
       "      <td>0.044917</td>\n",
       "    </tr>\n",
       "  </tbody>\n",
       "</table>\n",
       "</div>"
      ],
      "text/plain": [
       "                   B         C\n",
       "2013-01-01 -0.006774 -0.990306\n",
       "2013-01-02  0.502396 -3.150960\n",
       "2013-01-03  0.080500 -0.039787\n",
       "2013-01-04 -0.268964  0.362574\n",
       "2013-01-05  0.462252  0.564937\n",
       "2013-01-06 -0.750661  0.044917"
      ]
     },
     "execution_count": 45,
     "metadata": {},
     "output_type": "execute_result"
    }
   ],
   "source": [
    "#Đểcắt các cột một cách rõ ràng:\n",
    "df.iloc[:, 1:3]"
   ]
  },
  {
   "cell_type": "code",
   "execution_count": 46,
   "id": "2637b834",
   "metadata": {},
   "outputs": [
    {
     "data": {
      "text/plain": [
       "0.5023961065437634"
      ]
     },
     "execution_count": 46,
     "metadata": {},
     "output_type": "execute_result"
    }
   ],
   "source": [
    "#Để nhận giá trị một cách rõ ràng:\n",
    "df.iloc[1, 1]"
   ]
  },
  {
   "cell_type": "code",
   "execution_count": 47,
   "id": "2c5f6bbd",
   "metadata": {},
   "outputs": [
    {
     "data": {
      "text/plain": [
       "0.5023961065437634"
      ]
     },
     "execution_count": 47,
     "metadata": {},
     "output_type": "execute_result"
    }
   ],
   "source": [
    "#Đểtruy cập nhanh vào một phương pháp vô hướng (tương đương với phương pháp trước)\n",
    "df.iat[1, 1]"
   ]
  },
  {
   "cell_type": "code",
   "execution_count": 48,
   "id": "1ba6148e",
   "metadata": {},
   "outputs": [
    {
     "data": {
      "text/html": [
       "<div>\n",
       "<style scoped>\n",
       "    .dataframe tbody tr th:only-of-type {\n",
       "        vertical-align: middle;\n",
       "    }\n",
       "\n",
       "    .dataframe tbody tr th {\n",
       "        vertical-align: top;\n",
       "    }\n",
       "\n",
       "    .dataframe thead th {\n",
       "        text-align: right;\n",
       "    }\n",
       "</style>\n",
       "<table border=\"1\" class=\"dataframe\">\n",
       "  <thead>\n",
       "    <tr style=\"text-align: right;\">\n",
       "      <th></th>\n",
       "      <th>A</th>\n",
       "      <th>B</th>\n",
       "      <th>C</th>\n",
       "      <th>D</th>\n",
       "    </tr>\n",
       "  </thead>\n",
       "  <tbody>\n",
       "    <tr>\n",
       "      <th>2013-01-01</th>\n",
       "      <td>0.112395</td>\n",
       "      <td>-0.006774</td>\n",
       "      <td>-0.990306</td>\n",
       "      <td>1.552991</td>\n",
       "    </tr>\n",
       "    <tr>\n",
       "      <th>2013-01-02</th>\n",
       "      <td>1.475725</td>\n",
       "      <td>0.502396</td>\n",
       "      <td>-3.150960</td>\n",
       "      <td>-1.718322</td>\n",
       "    </tr>\n",
       "    <tr>\n",
       "      <th>2013-01-03</th>\n",
       "      <td>0.740816</td>\n",
       "      <td>0.080500</td>\n",
       "      <td>-0.039787</td>\n",
       "      <td>1.071258</td>\n",
       "    </tr>\n",
       "    <tr>\n",
       "      <th>2013-01-05</th>\n",
       "      <td>1.143068</td>\n",
       "      <td>0.462252</td>\n",
       "      <td>0.564937</td>\n",
       "      <td>0.732171</td>\n",
       "    </tr>\n",
       "  </tbody>\n",
       "</table>\n",
       "</div>"
      ],
      "text/plain": [
       "                   A         B         C         D\n",
       "2013-01-01  0.112395 -0.006774 -0.990306  1.552991\n",
       "2013-01-02  1.475725  0.502396 -3.150960 -1.718322\n",
       "2013-01-03  0.740816  0.080500 -0.039787  1.071258\n",
       "2013-01-05  1.143068  0.462252  0.564937  0.732171"
      ]
     },
     "execution_count": 48,
     "metadata": {},
     "output_type": "execute_result"
    }
   ],
   "source": [
    "#Lập chỉ mục Boolean\n",
    "df[df[\"A\"] > 0]\n"
   ]
  },
  {
   "cell_type": "code",
   "execution_count": 49,
   "id": "26291cb2",
   "metadata": {},
   "outputs": [
    {
     "data": {
      "text/html": [
       "<div>\n",
       "<style scoped>\n",
       "    .dataframe tbody tr th:only-of-type {\n",
       "        vertical-align: middle;\n",
       "    }\n",
       "\n",
       "    .dataframe tbody tr th {\n",
       "        vertical-align: top;\n",
       "    }\n",
       "\n",
       "    .dataframe thead th {\n",
       "        text-align: right;\n",
       "    }\n",
       "</style>\n",
       "<table border=\"1\" class=\"dataframe\">\n",
       "  <thead>\n",
       "    <tr style=\"text-align: right;\">\n",
       "      <th></th>\n",
       "      <th>A</th>\n",
       "      <th>B</th>\n",
       "      <th>C</th>\n",
       "      <th>D</th>\n",
       "    </tr>\n",
       "  </thead>\n",
       "  <tbody>\n",
       "    <tr>\n",
       "      <th>2013-01-01</th>\n",
       "      <td>0.112395</td>\n",
       "      <td>NaN</td>\n",
       "      <td>NaN</td>\n",
       "      <td>1.552991</td>\n",
       "    </tr>\n",
       "    <tr>\n",
       "      <th>2013-01-02</th>\n",
       "      <td>1.475725</td>\n",
       "      <td>0.502396</td>\n",
       "      <td>NaN</td>\n",
       "      <td>NaN</td>\n",
       "    </tr>\n",
       "    <tr>\n",
       "      <th>2013-01-03</th>\n",
       "      <td>0.740816</td>\n",
       "      <td>0.080500</td>\n",
       "      <td>NaN</td>\n",
       "      <td>1.071258</td>\n",
       "    </tr>\n",
       "    <tr>\n",
       "      <th>2013-01-04</th>\n",
       "      <td>NaN</td>\n",
       "      <td>NaN</td>\n",
       "      <td>0.362574</td>\n",
       "      <td>0.203760</td>\n",
       "    </tr>\n",
       "    <tr>\n",
       "      <th>2013-01-05</th>\n",
       "      <td>1.143068</td>\n",
       "      <td>0.462252</td>\n",
       "      <td>0.564937</td>\n",
       "      <td>0.732171</td>\n",
       "    </tr>\n",
       "    <tr>\n",
       "      <th>2013-01-06</th>\n",
       "      <td>NaN</td>\n",
       "      <td>NaN</td>\n",
       "      <td>0.044917</td>\n",
       "      <td>NaN</td>\n",
       "    </tr>\n",
       "  </tbody>\n",
       "</table>\n",
       "</div>"
      ],
      "text/plain": [
       "                   A         B         C         D\n",
       "2013-01-01  0.112395       NaN       NaN  1.552991\n",
       "2013-01-02  1.475725  0.502396       NaN       NaN\n",
       "2013-01-03  0.740816  0.080500       NaN  1.071258\n",
       "2013-01-04       NaN       NaN  0.362574  0.203760\n",
       "2013-01-05  1.143068  0.462252  0.564937  0.732171\n",
       "2013-01-06       NaN       NaN  0.044917       NaN"
      ]
     },
     "execution_count": 49,
     "metadata": {},
     "output_type": "execute_result"
    }
   ],
   "source": [
    "#Chọn các giá trị từ DataFrame đáp ứng điều kiện boolean\n",
    "df[df > 0]\n"
   ]
  },
  {
   "cell_type": "code",
   "execution_count": 50,
   "id": "da4dd1a8",
   "metadata": {},
   "outputs": [
    {
     "data": {
      "text/html": [
       "<div>\n",
       "<style scoped>\n",
       "    .dataframe tbody tr th:only-of-type {\n",
       "        vertical-align: middle;\n",
       "    }\n",
       "\n",
       "    .dataframe tbody tr th {\n",
       "        vertical-align: top;\n",
       "    }\n",
       "\n",
       "    .dataframe thead th {\n",
       "        text-align: right;\n",
       "    }\n",
       "</style>\n",
       "<table border=\"1\" class=\"dataframe\">\n",
       "  <thead>\n",
       "    <tr style=\"text-align: right;\">\n",
       "      <th></th>\n",
       "      <th>A</th>\n",
       "      <th>B</th>\n",
       "      <th>C</th>\n",
       "      <th>D</th>\n",
       "      <th>E</th>\n",
       "    </tr>\n",
       "  </thead>\n",
       "  <tbody>\n",
       "    <tr>\n",
       "      <th>2013-01-01</th>\n",
       "      <td>0.112395</td>\n",
       "      <td>-0.006774</td>\n",
       "      <td>-0.990306</td>\n",
       "      <td>1.552991</td>\n",
       "      <td>one</td>\n",
       "    </tr>\n",
       "    <tr>\n",
       "      <th>2013-01-02</th>\n",
       "      <td>1.475725</td>\n",
       "      <td>0.502396</td>\n",
       "      <td>-3.150960</td>\n",
       "      <td>-1.718322</td>\n",
       "      <td>one</td>\n",
       "    </tr>\n",
       "    <tr>\n",
       "      <th>2013-01-03</th>\n",
       "      <td>0.740816</td>\n",
       "      <td>0.080500</td>\n",
       "      <td>-0.039787</td>\n",
       "      <td>1.071258</td>\n",
       "      <td>two</td>\n",
       "    </tr>\n",
       "    <tr>\n",
       "      <th>2013-01-04</th>\n",
       "      <td>-0.643881</td>\n",
       "      <td>-0.268964</td>\n",
       "      <td>0.362574</td>\n",
       "      <td>0.203760</td>\n",
       "      <td>three</td>\n",
       "    </tr>\n",
       "    <tr>\n",
       "      <th>2013-01-05</th>\n",
       "      <td>1.143068</td>\n",
       "      <td>0.462252</td>\n",
       "      <td>0.564937</td>\n",
       "      <td>0.732171</td>\n",
       "      <td>four</td>\n",
       "    </tr>\n",
       "    <tr>\n",
       "      <th>2013-01-06</th>\n",
       "      <td>-0.277351</td>\n",
       "      <td>-0.750661</td>\n",
       "      <td>0.044917</td>\n",
       "      <td>-0.105579</td>\n",
       "      <td>three</td>\n",
       "    </tr>\n",
       "  </tbody>\n",
       "</table>\n",
       "</div>"
      ],
      "text/plain": [
       "                   A         B         C         D      E\n",
       "2013-01-01  0.112395 -0.006774 -0.990306  1.552991    one\n",
       "2013-01-02  1.475725  0.502396 -3.150960 -1.718322    one\n",
       "2013-01-03  0.740816  0.080500 -0.039787  1.071258    two\n",
       "2013-01-04 -0.643881 -0.268964  0.362574  0.203760  three\n",
       "2013-01-05  1.143068  0.462252  0.564937  0.732171   four\n",
       "2013-01-06 -0.277351 -0.750661  0.044917 -0.105579  three"
      ]
     },
     "execution_count": 50,
     "metadata": {},
     "output_type": "execute_result"
    }
   ],
   "source": [
    "#Sử dụng phương pháp isin() đểlọc\n",
    "df2 = df.copy()\n",
    "df2[\"E\"] = [\"one\", \"one\", \"two\", \"three\", \"four\", \"three\"]\n",
    "df2"
   ]
  },
  {
   "cell_type": "code",
   "execution_count": 51,
   "id": "84502a91",
   "metadata": {},
   "outputs": [
    {
     "data": {
      "text/html": [
       "<div>\n",
       "<style scoped>\n",
       "    .dataframe tbody tr th:only-of-type {\n",
       "        vertical-align: middle;\n",
       "    }\n",
       "\n",
       "    .dataframe tbody tr th {\n",
       "        vertical-align: top;\n",
       "    }\n",
       "\n",
       "    .dataframe thead th {\n",
       "        text-align: right;\n",
       "    }\n",
       "</style>\n",
       "<table border=\"1\" class=\"dataframe\">\n",
       "  <thead>\n",
       "    <tr style=\"text-align: right;\">\n",
       "      <th></th>\n",
       "      <th>A</th>\n",
       "      <th>B</th>\n",
       "      <th>C</th>\n",
       "      <th>D</th>\n",
       "      <th>E</th>\n",
       "    </tr>\n",
       "  </thead>\n",
       "  <tbody>\n",
       "    <tr>\n",
       "      <th>2013-01-01</th>\n",
       "      <td>0.112395</td>\n",
       "      <td>-0.006774</td>\n",
       "      <td>-0.990306</td>\n",
       "      <td>1.552991</td>\n",
       "      <td>one</td>\n",
       "    </tr>\n",
       "    <tr>\n",
       "      <th>2013-01-02</th>\n",
       "      <td>1.475725</td>\n",
       "      <td>0.502396</td>\n",
       "      <td>-3.150960</td>\n",
       "      <td>-1.718322</td>\n",
       "      <td>one</td>\n",
       "    </tr>\n",
       "    <tr>\n",
       "      <th>2013-01-03</th>\n",
       "      <td>0.740816</td>\n",
       "      <td>0.080500</td>\n",
       "      <td>-0.039787</td>\n",
       "      <td>1.071258</td>\n",
       "      <td>two</td>\n",
       "    </tr>\n",
       "    <tr>\n",
       "      <th>2013-01-04</th>\n",
       "      <td>-0.643881</td>\n",
       "      <td>-0.268964</td>\n",
       "      <td>0.362574</td>\n",
       "      <td>0.203760</td>\n",
       "      <td>three</td>\n",
       "    </tr>\n",
       "    <tr>\n",
       "      <th>2013-01-05</th>\n",
       "      <td>1.143068</td>\n",
       "      <td>0.462252</td>\n",
       "      <td>0.564937</td>\n",
       "      <td>0.732171</td>\n",
       "      <td>four</td>\n",
       "    </tr>\n",
       "    <tr>\n",
       "      <th>2013-01-06</th>\n",
       "      <td>-0.277351</td>\n",
       "      <td>-0.750661</td>\n",
       "      <td>0.044917</td>\n",
       "      <td>-0.105579</td>\n",
       "      <td>three</td>\n",
       "    </tr>\n",
       "  </tbody>\n",
       "</table>\n",
       "</div>"
      ],
      "text/plain": [
       "                   A         B         C         D      E\n",
       "2013-01-01  0.112395 -0.006774 -0.990306  1.552991    one\n",
       "2013-01-02  1.475725  0.502396 -3.150960 -1.718322    one\n",
       "2013-01-03  0.740816  0.080500 -0.039787  1.071258    two\n",
       "2013-01-04 -0.643881 -0.268964  0.362574  0.203760  three\n",
       "2013-01-05  1.143068  0.462252  0.564937  0.732171   four\n",
       "2013-01-06 -0.277351 -0.750661  0.044917 -0.105579  three"
      ]
     },
     "execution_count": 51,
     "metadata": {},
     "output_type": "execute_result"
    }
   ],
   "source": [
    "df2 = df.copy()\n",
    "df2[\"E\"] = [\"one\", \"one\", \"two\", \"three\", \"four\", \"three\"]\n",
    "df2"
   ]
  },
  {
   "cell_type": "code",
   "execution_count": 52,
   "id": "8edca9db",
   "metadata": {},
   "outputs": [
    {
     "data": {
      "text/plain": [
       "2013-01-02    1\n",
       "2013-01-03    2\n",
       "2013-01-04    3\n",
       "2013-01-05    4\n",
       "2013-01-06    5\n",
       "2013-01-07    6\n",
       "Freq: D, dtype: int64"
      ]
     },
     "execution_count": 52,
     "metadata": {},
     "output_type": "execute_result"
    }
   ],
   "source": [
    "#Cài đặt\n",
    "s1 = pd.Series([1, 2, 3, 4, 5, 6], index=pd.date_range(\"20130102\", periods=6))\n",
    "s1"
   ]
  },
  {
   "cell_type": "code",
   "execution_count": 54,
   "id": "bb407222",
   "metadata": {},
   "outputs": [],
   "source": [
    "#Đặt giá trị theo nhãn:\n",
    "df.at[dates[0], \"A\"] = 0"
   ]
  },
  {
   "cell_type": "code",
   "execution_count": 55,
   "id": "fc4e91bf",
   "metadata": {},
   "outputs": [],
   "source": [
    "#Đặt giá trị theo vị trí:\n",
    "df.iat[0, 1] = 0"
   ]
  },
  {
   "cell_type": "code",
   "execution_count": 56,
   "id": "59b44bf8",
   "metadata": {},
   "outputs": [],
   "source": [
    "#Cài đặt bằng cách gán với một mảng NumPy:\n",
    "df.loc[:, \"D\"] = np.array([5] * len(df))"
   ]
  },
  {
   "cell_type": "code",
   "execution_count": 57,
   "id": "11b0a710",
   "metadata": {},
   "outputs": [
    {
     "data": {
      "text/html": [
       "<div>\n",
       "<style scoped>\n",
       "    .dataframe tbody tr th:only-of-type {\n",
       "        vertical-align: middle;\n",
       "    }\n",
       "\n",
       "    .dataframe tbody tr th {\n",
       "        vertical-align: top;\n",
       "    }\n",
       "\n",
       "    .dataframe thead th {\n",
       "        text-align: right;\n",
       "    }\n",
       "</style>\n",
       "<table border=\"1\" class=\"dataframe\">\n",
       "  <thead>\n",
       "    <tr style=\"text-align: right;\">\n",
       "      <th></th>\n",
       "      <th>A</th>\n",
       "      <th>B</th>\n",
       "      <th>C</th>\n",
       "      <th>D</th>\n",
       "    </tr>\n",
       "  </thead>\n",
       "  <tbody>\n",
       "    <tr>\n",
       "      <th>2013-01-01</th>\n",
       "      <td>0.000000</td>\n",
       "      <td>0.000000</td>\n",
       "      <td>-0.990306</td>\n",
       "      <td>5</td>\n",
       "    </tr>\n",
       "    <tr>\n",
       "      <th>2013-01-02</th>\n",
       "      <td>1.475725</td>\n",
       "      <td>0.502396</td>\n",
       "      <td>-3.150960</td>\n",
       "      <td>5</td>\n",
       "    </tr>\n",
       "    <tr>\n",
       "      <th>2013-01-03</th>\n",
       "      <td>0.740816</td>\n",
       "      <td>0.080500</td>\n",
       "      <td>-0.039787</td>\n",
       "      <td>5</td>\n",
       "    </tr>\n",
       "    <tr>\n",
       "      <th>2013-01-04</th>\n",
       "      <td>-0.643881</td>\n",
       "      <td>-0.268964</td>\n",
       "      <td>0.362574</td>\n",
       "      <td>5</td>\n",
       "    </tr>\n",
       "    <tr>\n",
       "      <th>2013-01-05</th>\n",
       "      <td>1.143068</td>\n",
       "      <td>0.462252</td>\n",
       "      <td>0.564937</td>\n",
       "      <td>5</td>\n",
       "    </tr>\n",
       "    <tr>\n",
       "      <th>2013-01-06</th>\n",
       "      <td>-0.277351</td>\n",
       "      <td>-0.750661</td>\n",
       "      <td>0.044917</td>\n",
       "      <td>5</td>\n",
       "    </tr>\n",
       "  </tbody>\n",
       "</table>\n",
       "</div>"
      ],
      "text/plain": [
       "                   A         B         C  D\n",
       "2013-01-01  0.000000  0.000000 -0.990306  5\n",
       "2013-01-02  1.475725  0.502396 -3.150960  5\n",
       "2013-01-03  0.740816  0.080500 -0.039787  5\n",
       "2013-01-04 -0.643881 -0.268964  0.362574  5\n",
       "2013-01-05  1.143068  0.462252  0.564937  5\n",
       "2013-01-06 -0.277351 -0.750661  0.044917  5"
      ]
     },
     "execution_count": 57,
     "metadata": {},
     "output_type": "execute_result"
    }
   ],
   "source": [
    "#Kết quả của các hoạt động thiết lập trước.\n",
    "df "
   ]
  },
  {
   "cell_type": "code",
   "execution_count": 58,
   "id": "6424bd4a",
   "metadata": {},
   "outputs": [
    {
     "data": {
      "text/html": [
       "<div>\n",
       "<style scoped>\n",
       "    .dataframe tbody tr th:only-of-type {\n",
       "        vertical-align: middle;\n",
       "    }\n",
       "\n",
       "    .dataframe tbody tr th {\n",
       "        vertical-align: top;\n",
       "    }\n",
       "\n",
       "    .dataframe thead th {\n",
       "        text-align: right;\n",
       "    }\n",
       "</style>\n",
       "<table border=\"1\" class=\"dataframe\">\n",
       "  <thead>\n",
       "    <tr style=\"text-align: right;\">\n",
       "      <th></th>\n",
       "      <th>A</th>\n",
       "      <th>B</th>\n",
       "      <th>C</th>\n",
       "      <th>D</th>\n",
       "    </tr>\n",
       "  </thead>\n",
       "  <tbody>\n",
       "    <tr>\n",
       "      <th>2013-01-01</th>\n",
       "      <td>0.000000</td>\n",
       "      <td>0.000000</td>\n",
       "      <td>-0.990306</td>\n",
       "      <td>-5</td>\n",
       "    </tr>\n",
       "    <tr>\n",
       "      <th>2013-01-02</th>\n",
       "      <td>-1.475725</td>\n",
       "      <td>-0.502396</td>\n",
       "      <td>-3.150960</td>\n",
       "      <td>-5</td>\n",
       "    </tr>\n",
       "    <tr>\n",
       "      <th>2013-01-03</th>\n",
       "      <td>-0.740816</td>\n",
       "      <td>-0.080500</td>\n",
       "      <td>-0.039787</td>\n",
       "      <td>-5</td>\n",
       "    </tr>\n",
       "    <tr>\n",
       "      <th>2013-01-04</th>\n",
       "      <td>-0.643881</td>\n",
       "      <td>-0.268964</td>\n",
       "      <td>-0.362574</td>\n",
       "      <td>-5</td>\n",
       "    </tr>\n",
       "    <tr>\n",
       "      <th>2013-01-05</th>\n",
       "      <td>-1.143068</td>\n",
       "      <td>-0.462252</td>\n",
       "      <td>-0.564937</td>\n",
       "      <td>-5</td>\n",
       "    </tr>\n",
       "    <tr>\n",
       "      <th>2013-01-06</th>\n",
       "      <td>-0.277351</td>\n",
       "      <td>-0.750661</td>\n",
       "      <td>-0.044917</td>\n",
       "      <td>-5</td>\n",
       "    </tr>\n",
       "  </tbody>\n",
       "</table>\n",
       "</div>"
      ],
      "text/plain": [
       "                   A         B         C  D\n",
       "2013-01-01  0.000000  0.000000 -0.990306 -5\n",
       "2013-01-02 -1.475725 -0.502396 -3.150960 -5\n",
       "2013-01-03 -0.740816 -0.080500 -0.039787 -5\n",
       "2013-01-04 -0.643881 -0.268964 -0.362574 -5\n",
       "2013-01-05 -1.143068 -0.462252 -0.564937 -5\n",
       "2013-01-06 -0.277351 -0.750661 -0.044917 -5"
      ]
     },
     "execution_count": 58,
     "metadata": {},
     "output_type": "execute_result"
    }
   ],
   "source": [
    "#Điều kiện where được cài đặt.\n",
    "df2 = df.copy()\n",
    "df2[df2 > 0] = -df2\n",
    "df2\n"
   ]
  },
  {
   "cell_type": "code",
   "execution_count": 59,
   "id": "aee39302",
   "metadata": {},
   "outputs": [
    {
     "data": {
      "text/html": [
       "<div>\n",
       "<style scoped>\n",
       "    .dataframe tbody tr th:only-of-type {\n",
       "        vertical-align: middle;\n",
       "    }\n",
       "\n",
       "    .dataframe tbody tr th {\n",
       "        vertical-align: top;\n",
       "    }\n",
       "\n",
       "    .dataframe thead th {\n",
       "        text-align: right;\n",
       "    }\n",
       "</style>\n",
       "<table border=\"1\" class=\"dataframe\">\n",
       "  <thead>\n",
       "    <tr style=\"text-align: right;\">\n",
       "      <th></th>\n",
       "      <th>A</th>\n",
       "      <th>B</th>\n",
       "      <th>C</th>\n",
       "      <th>D</th>\n",
       "      <th>E</th>\n",
       "    </tr>\n",
       "  </thead>\n",
       "  <tbody>\n",
       "    <tr>\n",
       "      <th>2013-01-01</th>\n",
       "      <td>0.000000</td>\n",
       "      <td>0.000000</td>\n",
       "      <td>-0.990306</td>\n",
       "      <td>5</td>\n",
       "      <td>1.0</td>\n",
       "    </tr>\n",
       "    <tr>\n",
       "      <th>2013-01-02</th>\n",
       "      <td>1.475725</td>\n",
       "      <td>0.502396</td>\n",
       "      <td>-3.150960</td>\n",
       "      <td>5</td>\n",
       "      <td>1.0</td>\n",
       "    </tr>\n",
       "    <tr>\n",
       "      <th>2013-01-03</th>\n",
       "      <td>0.740816</td>\n",
       "      <td>0.080500</td>\n",
       "      <td>-0.039787</td>\n",
       "      <td>5</td>\n",
       "      <td>NaN</td>\n",
       "    </tr>\n",
       "    <tr>\n",
       "      <th>2013-01-04</th>\n",
       "      <td>-0.643881</td>\n",
       "      <td>-0.268964</td>\n",
       "      <td>0.362574</td>\n",
       "      <td>5</td>\n",
       "      <td>NaN</td>\n",
       "    </tr>\n",
       "  </tbody>\n",
       "</table>\n",
       "</div>"
      ],
      "text/plain": [
       "                   A         B         C  D    E\n",
       "2013-01-01  0.000000  0.000000 -0.990306  5  1.0\n",
       "2013-01-02  1.475725  0.502396 -3.150960  5  1.0\n",
       "2013-01-03  0.740816  0.080500 -0.039787  5  NaN\n",
       "2013-01-04 -0.643881 -0.268964  0.362574  5  NaN"
      ]
     },
     "execution_count": 59,
     "metadata": {},
     "output_type": "execute_result"
    }
   ],
   "source": [
    "#Thiếu dữ liệu\n",
    "df1 = df.reindex(index=dates[0:4], columns=list(df.columns) + [\"E\"])\n",
    "df1.loc[dates[0] : dates[1], \"E\"] = 1\n",
    "df1"
   ]
  },
  {
   "cell_type": "code",
   "execution_count": 60,
   "id": "77db235a",
   "metadata": {},
   "outputs": [
    {
     "data": {
      "text/html": [
       "<div>\n",
       "<style scoped>\n",
       "    .dataframe tbody tr th:only-of-type {\n",
       "        vertical-align: middle;\n",
       "    }\n",
       "\n",
       "    .dataframe tbody tr th {\n",
       "        vertical-align: top;\n",
       "    }\n",
       "\n",
       "    .dataframe thead th {\n",
       "        text-align: right;\n",
       "    }\n",
       "</style>\n",
       "<table border=\"1\" class=\"dataframe\">\n",
       "  <thead>\n",
       "    <tr style=\"text-align: right;\">\n",
       "      <th></th>\n",
       "      <th>A</th>\n",
       "      <th>B</th>\n",
       "      <th>C</th>\n",
       "      <th>D</th>\n",
       "      <th>E</th>\n",
       "    </tr>\n",
       "  </thead>\n",
       "  <tbody>\n",
       "    <tr>\n",
       "      <th>2013-01-01</th>\n",
       "      <td>0.000000</td>\n",
       "      <td>0.000000</td>\n",
       "      <td>-0.990306</td>\n",
       "      <td>5</td>\n",
       "      <td>1.0</td>\n",
       "    </tr>\n",
       "    <tr>\n",
       "      <th>2013-01-02</th>\n",
       "      <td>1.475725</td>\n",
       "      <td>0.502396</td>\n",
       "      <td>-3.150960</td>\n",
       "      <td>5</td>\n",
       "      <td>1.0</td>\n",
       "    </tr>\n",
       "  </tbody>\n",
       "</table>\n",
       "</div>"
      ],
      "text/plain": [
       "                   A         B         C  D    E\n",
       "2013-01-01  0.000000  0.000000 -0.990306  5  1.0\n",
       "2013-01-02  1.475725  0.502396 -3.150960  5  1.0"
      ]
     },
     "execution_count": 60,
     "metadata": {},
     "output_type": "execute_result"
    }
   ],
   "source": [
    "#Đểloại bỏ bấtkỳ hàng nào có dữ liệu bị thiếu.\n",
    "df1.dropna(how=\"any\")"
   ]
  },
  {
   "cell_type": "code",
   "execution_count": 61,
   "id": "41f7517f",
   "metadata": {},
   "outputs": [
    {
     "data": {
      "text/html": [
       "<div>\n",
       "<style scoped>\n",
       "    .dataframe tbody tr th:only-of-type {\n",
       "        vertical-align: middle;\n",
       "    }\n",
       "\n",
       "    .dataframe tbody tr th {\n",
       "        vertical-align: top;\n",
       "    }\n",
       "\n",
       "    .dataframe thead th {\n",
       "        text-align: right;\n",
       "    }\n",
       "</style>\n",
       "<table border=\"1\" class=\"dataframe\">\n",
       "  <thead>\n",
       "    <tr style=\"text-align: right;\">\n",
       "      <th></th>\n",
       "      <th>A</th>\n",
       "      <th>B</th>\n",
       "      <th>C</th>\n",
       "      <th>D</th>\n",
       "      <th>E</th>\n",
       "    </tr>\n",
       "  </thead>\n",
       "  <tbody>\n",
       "    <tr>\n",
       "      <th>2013-01-01</th>\n",
       "      <td>0.000000</td>\n",
       "      <td>0.000000</td>\n",
       "      <td>-0.990306</td>\n",
       "      <td>5</td>\n",
       "      <td>1.0</td>\n",
       "    </tr>\n",
       "    <tr>\n",
       "      <th>2013-01-02</th>\n",
       "      <td>1.475725</td>\n",
       "      <td>0.502396</td>\n",
       "      <td>-3.150960</td>\n",
       "      <td>5</td>\n",
       "      <td>1.0</td>\n",
       "    </tr>\n",
       "    <tr>\n",
       "      <th>2013-01-03</th>\n",
       "      <td>0.740816</td>\n",
       "      <td>0.080500</td>\n",
       "      <td>-0.039787</td>\n",
       "      <td>5</td>\n",
       "      <td>5.0</td>\n",
       "    </tr>\n",
       "    <tr>\n",
       "      <th>2013-01-04</th>\n",
       "      <td>-0.643881</td>\n",
       "      <td>-0.268964</td>\n",
       "      <td>0.362574</td>\n",
       "      <td>5</td>\n",
       "      <td>5.0</td>\n",
       "    </tr>\n",
       "  </tbody>\n",
       "</table>\n",
       "</div>"
      ],
      "text/plain": [
       "                   A         B         C  D    E\n",
       "2013-01-01  0.000000  0.000000 -0.990306  5  1.0\n",
       "2013-01-02  1.475725  0.502396 -3.150960  5  1.0\n",
       "2013-01-03  0.740816  0.080500 -0.039787  5  5.0\n",
       "2013-01-04 -0.643881 -0.268964  0.362574  5  5.0"
      ]
     },
     "execution_count": 61,
     "metadata": {},
     "output_type": "execute_result"
    }
   ],
   "source": [
    "#Làm đầy dữ liệu còn thiếu\n",
    "df1.fillna(value=5)"
   ]
  },
  {
   "cell_type": "code",
   "execution_count": 62,
   "id": "0280ec18",
   "metadata": {},
   "outputs": [
    {
     "data": {
      "text/html": [
       "<div>\n",
       "<style scoped>\n",
       "    .dataframe tbody tr th:only-of-type {\n",
       "        vertical-align: middle;\n",
       "    }\n",
       "\n",
       "    .dataframe tbody tr th {\n",
       "        vertical-align: top;\n",
       "    }\n",
       "\n",
       "    .dataframe thead th {\n",
       "        text-align: right;\n",
       "    }\n",
       "</style>\n",
       "<table border=\"1\" class=\"dataframe\">\n",
       "  <thead>\n",
       "    <tr style=\"text-align: right;\">\n",
       "      <th></th>\n",
       "      <th>A</th>\n",
       "      <th>B</th>\n",
       "      <th>C</th>\n",
       "      <th>D</th>\n",
       "      <th>E</th>\n",
       "    </tr>\n",
       "  </thead>\n",
       "  <tbody>\n",
       "    <tr>\n",
       "      <th>2013-01-01</th>\n",
       "      <td>False</td>\n",
       "      <td>False</td>\n",
       "      <td>False</td>\n",
       "      <td>False</td>\n",
       "      <td>False</td>\n",
       "    </tr>\n",
       "    <tr>\n",
       "      <th>2013-01-02</th>\n",
       "      <td>False</td>\n",
       "      <td>False</td>\n",
       "      <td>False</td>\n",
       "      <td>False</td>\n",
       "      <td>False</td>\n",
       "    </tr>\n",
       "    <tr>\n",
       "      <th>2013-01-03</th>\n",
       "      <td>False</td>\n",
       "      <td>False</td>\n",
       "      <td>False</td>\n",
       "      <td>False</td>\n",
       "      <td>True</td>\n",
       "    </tr>\n",
       "    <tr>\n",
       "      <th>2013-01-04</th>\n",
       "      <td>False</td>\n",
       "      <td>False</td>\n",
       "      <td>False</td>\n",
       "      <td>False</td>\n",
       "      <td>True</td>\n",
       "    </tr>\n",
       "  </tbody>\n",
       "</table>\n",
       "</div>"
      ],
      "text/plain": [
       "                A      B      C      D      E\n",
       "2013-01-01  False  False  False  False  False\n",
       "2013-01-02  False  False  False  False  False\n",
       "2013-01-03  False  False  False  False   True\n",
       "2013-01-04  False  False  False  False   True"
      ]
     },
     "execution_count": 62,
     "metadata": {},
     "output_type": "execute_result"
    }
   ],
   "source": [
    "#Đểlấy mặt nạ boolean ở đó các giá trị nan.\n",
    "pd.isna(df1)\n"
   ]
  },
  {
   "cell_type": "code",
   "execution_count": 63,
   "id": "d14a9538",
   "metadata": {},
   "outputs": [
    {
     "data": {
      "text/plain": [
       "A    0.406396\n",
       "B    0.004254\n",
       "C   -0.534771\n",
       "D    5.000000\n",
       "dtype: float64"
      ]
     },
     "execution_count": 63,
     "metadata": {},
     "output_type": "execute_result"
    }
   ],
   "source": [
    "#Một số phép toán\n",
    "#Số liệu thống kê\n",
    "df.mean()"
   ]
  },
  {
   "cell_type": "code",
   "execution_count": 64,
   "id": "414ec886",
   "metadata": {},
   "outputs": [
    {
     "data": {
      "text/plain": [
       "2013-01-01    1.002424\n",
       "2013-01-02    0.956790\n",
       "2013-01-03    1.445382\n",
       "2013-01-04    1.112432\n",
       "2013-01-05    1.792564\n",
       "2013-01-06    1.004226\n",
       "Freq: D, dtype: float64"
      ]
     },
     "execution_count": 64,
     "metadata": {},
     "output_type": "execute_result"
    }
   ],
   "source": [
    "#Thao tác tương tự trên trụckhác:\n",
    "df.mean(1)"
   ]
  },
  {
   "cell_type": "code",
   "execution_count": 65,
   "id": "8c956246",
   "metadata": {},
   "outputs": [
    {
     "data": {
      "text/plain": [
       "2013-01-01    NaN\n",
       "2013-01-02    NaN\n",
       "2013-01-03    1.0\n",
       "2013-01-04    3.0\n",
       "2013-01-05    5.0\n",
       "2013-01-06    NaN\n",
       "Freq: D, dtype: float64"
      ]
     },
     "execution_count": 65,
     "metadata": {},
     "output_type": "execute_result"
    }
   ],
   "source": [
    "#Hoạt động với các đối tượng có kích thướckhác nhau và cần sự liên kết. Ngoài ra, gấu trúc tự động phát sóng\n",
    "#dọc theo kích thước được chỉ định.\n",
    "s = pd.Series([1, 3, 5, np.nan, 6, 8], index=dates).shift(2)\n",
    "s\n"
   ]
  },
  {
   "cell_type": "code",
   "execution_count": 68,
   "id": "30911082",
   "metadata": {},
   "outputs": [
    {
     "data": {
      "text/html": [
       "<div>\n",
       "<style scoped>\n",
       "    .dataframe tbody tr th:only-of-type {\n",
       "        vertical-align: middle;\n",
       "    }\n",
       "\n",
       "    .dataframe tbody tr th {\n",
       "        vertical-align: top;\n",
       "    }\n",
       "\n",
       "    .dataframe thead th {\n",
       "        text-align: right;\n",
       "    }\n",
       "</style>\n",
       "<table border=\"1\" class=\"dataframe\">\n",
       "  <thead>\n",
       "    <tr style=\"text-align: right;\">\n",
       "      <th></th>\n",
       "      <th>A</th>\n",
       "      <th>B</th>\n",
       "      <th>C</th>\n",
       "      <th>D</th>\n",
       "    </tr>\n",
       "  </thead>\n",
       "  <tbody>\n",
       "    <tr>\n",
       "      <th>2013-01-01</th>\n",
       "      <td>NaN</td>\n",
       "      <td>NaN</td>\n",
       "      <td>NaN</td>\n",
       "      <td>NaN</td>\n",
       "    </tr>\n",
       "    <tr>\n",
       "      <th>2013-01-02</th>\n",
       "      <td>NaN</td>\n",
       "      <td>NaN</td>\n",
       "      <td>NaN</td>\n",
       "      <td>NaN</td>\n",
       "    </tr>\n",
       "    <tr>\n",
       "      <th>2013-01-03</th>\n",
       "      <td>-0.259184</td>\n",
       "      <td>-0.919500</td>\n",
       "      <td>-1.039787</td>\n",
       "      <td>4.0</td>\n",
       "    </tr>\n",
       "    <tr>\n",
       "      <th>2013-01-04</th>\n",
       "      <td>-3.643881</td>\n",
       "      <td>-3.268964</td>\n",
       "      <td>-2.637426</td>\n",
       "      <td>2.0</td>\n",
       "    </tr>\n",
       "    <tr>\n",
       "      <th>2013-01-05</th>\n",
       "      <td>-3.856932</td>\n",
       "      <td>-4.537748</td>\n",
       "      <td>-4.435063</td>\n",
       "      <td>0.0</td>\n",
       "    </tr>\n",
       "    <tr>\n",
       "      <th>2013-01-06</th>\n",
       "      <td>NaN</td>\n",
       "      <td>NaN</td>\n",
       "      <td>NaN</td>\n",
       "      <td>NaN</td>\n",
       "    </tr>\n",
       "  </tbody>\n",
       "</table>\n",
       "</div>"
      ],
      "text/plain": [
       "                   A         B         C    D\n",
       "2013-01-01       NaN       NaN       NaN  NaN\n",
       "2013-01-02       NaN       NaN       NaN  NaN\n",
       "2013-01-03 -0.259184 -0.919500 -1.039787  4.0\n",
       "2013-01-04 -3.643881 -3.268964 -2.637426  2.0\n",
       "2013-01-05 -3.856932 -4.537748 -4.435063  0.0\n",
       "2013-01-06       NaN       NaN       NaN  NaN"
      ]
     },
     "execution_count": 68,
     "metadata": {},
     "output_type": "execute_result"
    }
   ],
   "source": [
    " \n",
    "df.sub(s, axis=\"index\")"
   ]
  },
  {
   "cell_type": "code",
   "execution_count": 70,
   "id": "41b5112e",
   "metadata": {},
   "outputs": [
    {
     "data": {
      "text/html": [
       "<div>\n",
       "<style scoped>\n",
       "    .dataframe tbody tr th:only-of-type {\n",
       "        vertical-align: middle;\n",
       "    }\n",
       "\n",
       "    .dataframe tbody tr th {\n",
       "        vertical-align: top;\n",
       "    }\n",
       "\n",
       "    .dataframe thead th {\n",
       "        text-align: right;\n",
       "    }\n",
       "</style>\n",
       "<table border=\"1\" class=\"dataframe\">\n",
       "  <thead>\n",
       "    <tr style=\"text-align: right;\">\n",
       "      <th></th>\n",
       "      <th>A</th>\n",
       "      <th>B</th>\n",
       "      <th>C</th>\n",
       "      <th>D</th>\n",
       "    </tr>\n",
       "  </thead>\n",
       "  <tbody>\n",
       "    <tr>\n",
       "      <th>2013-01-01</th>\n",
       "      <td>0.000000</td>\n",
       "      <td>0.000000</td>\n",
       "      <td>-0.990306</td>\n",
       "      <td>5</td>\n",
       "    </tr>\n",
       "    <tr>\n",
       "      <th>2013-01-02</th>\n",
       "      <td>1.475725</td>\n",
       "      <td>0.502396</td>\n",
       "      <td>-4.141266</td>\n",
       "      <td>10</td>\n",
       "    </tr>\n",
       "    <tr>\n",
       "      <th>2013-01-03</th>\n",
       "      <td>2.216541</td>\n",
       "      <td>0.582896</td>\n",
       "      <td>-4.181053</td>\n",
       "      <td>15</td>\n",
       "    </tr>\n",
       "    <tr>\n",
       "      <th>2013-01-04</th>\n",
       "      <td>1.572660</td>\n",
       "      <td>0.313932</td>\n",
       "      <td>-3.818479</td>\n",
       "      <td>20</td>\n",
       "    </tr>\n",
       "    <tr>\n",
       "      <th>2013-01-05</th>\n",
       "      <td>2.715728</td>\n",
       "      <td>0.776184</td>\n",
       "      <td>-3.253542</td>\n",
       "      <td>25</td>\n",
       "    </tr>\n",
       "    <tr>\n",
       "      <th>2013-01-06</th>\n",
       "      <td>2.438377</td>\n",
       "      <td>0.025524</td>\n",
       "      <td>-3.208625</td>\n",
       "      <td>30</td>\n",
       "    </tr>\n",
       "  </tbody>\n",
       "</table>\n",
       "</div>"
      ],
      "text/plain": [
       "                   A         B         C   D\n",
       "2013-01-01  0.000000  0.000000 -0.990306   5\n",
       "2013-01-02  1.475725  0.502396 -4.141266  10\n",
       "2013-01-03  2.216541  0.582896 -4.181053  15\n",
       "2013-01-04  1.572660  0.313932 -3.818479  20\n",
       "2013-01-05  2.715728  0.776184 -3.253542  25\n",
       "2013-01-06  2.438377  0.025524 -3.208625  30"
      ]
     },
     "execution_count": 70,
     "metadata": {},
     "output_type": "execute_result"
    }
   ],
   "source": [
    "#ap dung\n",
    "df.apply(np.cumsum)\n"
   ]
  },
  {
   "cell_type": "code",
   "execution_count": 73,
   "id": "3edf8992",
   "metadata": {},
   "outputs": [
    {
     "data": {
      "text/plain": [
       "A    2.119606\n",
       "B    1.253057\n",
       "C    3.715897\n",
       "D    0.000000\n",
       "dtype: float64"
      ]
     },
     "execution_count": 73,
     "metadata": {},
     "output_type": "execute_result"
    }
   ],
   "source": [
    "df.apply(lambda x: x.max() - x.min())\n"
   ]
  },
  {
   "cell_type": "code",
   "execution_count": 74,
   "id": "eefbd389",
   "metadata": {},
   "outputs": [
    {
     "data": {
      "text/plain": [
       "0    4\n",
       "1    1\n",
       "2    1\n",
       "3    6\n",
       "4    3\n",
       "5    0\n",
       "6    2\n",
       "7    5\n",
       "8    0\n",
       "9    1\n",
       "dtype: int32"
      ]
     },
     "execution_count": 74,
     "metadata": {},
     "output_type": "execute_result"
    }
   ],
   "source": [
    "#Lập biểu đồ\n",
    "s = pd.Series(np.random.randint(0, 7, size=10))\n",
    "s\n"
   ]
  },
  {
   "cell_type": "code",
   "execution_count": 75,
   "id": "49654126",
   "metadata": {},
   "outputs": [
    {
     "data": {
      "text/plain": [
       "1    3\n",
       "0    2\n",
       "4    1\n",
       "6    1\n",
       "3    1\n",
       "2    1\n",
       "5    1\n",
       "dtype: int64"
      ]
     },
     "execution_count": 75,
     "metadata": {},
     "output_type": "execute_result"
    }
   ],
   "source": [
    "s.value_counts()\n"
   ]
  },
  {
   "cell_type": "code",
   "execution_count": 76,
   "id": "23923be4",
   "metadata": {},
   "outputs": [
    {
     "data": {
      "text/plain": [
       "0       a\n",
       "1       b\n",
       "2       c\n",
       "3    aaba\n",
       "4    baca\n",
       "5     NaN\n",
       "6    caba\n",
       "7     dog\n",
       "8     cat\n",
       "dtype: object"
      ]
     },
     "execution_count": 76,
     "metadata": {},
     "output_type": "execute_result"
    }
   ],
   "source": [
    "#Phương thứcchuỗi\n",
    "s = pd.Series([\"A\", \"B\", \"C\", \"Aaba\", \"Baca\", np.nan, \"CABA\", \"dog\", \"cat\"])\n",
    "s.str.lower()\n",
    "\n"
   ]
  },
  {
   "cell_type": "code",
   "execution_count": 77,
   "id": "5d659a53",
   "metadata": {},
   "outputs": [
    {
     "data": {
      "text/html": [
       "<div>\n",
       "<style scoped>\n",
       "    .dataframe tbody tr th:only-of-type {\n",
       "        vertical-align: middle;\n",
       "    }\n",
       "\n",
       "    .dataframe tbody tr th {\n",
       "        vertical-align: top;\n",
       "    }\n",
       "\n",
       "    .dataframe thead th {\n",
       "        text-align: right;\n",
       "    }\n",
       "</style>\n",
       "<table border=\"1\" class=\"dataframe\">\n",
       "  <thead>\n",
       "    <tr style=\"text-align: right;\">\n",
       "      <th></th>\n",
       "      <th>0</th>\n",
       "      <th>1</th>\n",
       "      <th>2</th>\n",
       "      <th>3</th>\n",
       "    </tr>\n",
       "  </thead>\n",
       "  <tbody>\n",
       "    <tr>\n",
       "      <th>0</th>\n",
       "      <td>-0.161620</td>\n",
       "      <td>1.667999</td>\n",
       "      <td>0.748894</td>\n",
       "      <td>-0.960222</td>\n",
       "    </tr>\n",
       "    <tr>\n",
       "      <th>1</th>\n",
       "      <td>0.704408</td>\n",
       "      <td>-0.846780</td>\n",
       "      <td>-0.330600</td>\n",
       "      <td>1.147232</td>\n",
       "    </tr>\n",
       "    <tr>\n",
       "      <th>2</th>\n",
       "      <td>-1.151575</td>\n",
       "      <td>0.112365</td>\n",
       "      <td>-2.185499</td>\n",
       "      <td>-3.203635</td>\n",
       "    </tr>\n",
       "    <tr>\n",
       "      <th>3</th>\n",
       "      <td>-0.037103</td>\n",
       "      <td>0.827613</td>\n",
       "      <td>0.900294</td>\n",
       "      <td>0.954812</td>\n",
       "    </tr>\n",
       "    <tr>\n",
       "      <th>4</th>\n",
       "      <td>0.480505</td>\n",
       "      <td>-0.068516</td>\n",
       "      <td>1.728037</td>\n",
       "      <td>-0.113908</td>\n",
       "    </tr>\n",
       "    <tr>\n",
       "      <th>5</th>\n",
       "      <td>0.237232</td>\n",
       "      <td>-0.824001</td>\n",
       "      <td>1.634914</td>\n",
       "      <td>0.700978</td>\n",
       "    </tr>\n",
       "    <tr>\n",
       "      <th>6</th>\n",
       "      <td>0.123230</td>\n",
       "      <td>-1.079276</td>\n",
       "      <td>-0.483521</td>\n",
       "      <td>1.060412</td>\n",
       "    </tr>\n",
       "    <tr>\n",
       "      <th>7</th>\n",
       "      <td>0.055008</td>\n",
       "      <td>1.157487</td>\n",
       "      <td>-1.317641</td>\n",
       "      <td>1.467108</td>\n",
       "    </tr>\n",
       "    <tr>\n",
       "      <th>8</th>\n",
       "      <td>-0.664528</td>\n",
       "      <td>0.890207</td>\n",
       "      <td>-1.585889</td>\n",
       "      <td>1.788315</td>\n",
       "    </tr>\n",
       "    <tr>\n",
       "      <th>9</th>\n",
       "      <td>1.309771</td>\n",
       "      <td>0.216970</td>\n",
       "      <td>-0.227519</td>\n",
       "      <td>-1.279574</td>\n",
       "    </tr>\n",
       "  </tbody>\n",
       "</table>\n",
       "</div>"
      ],
      "text/plain": [
       "          0         1         2         3\n",
       "0 -0.161620  1.667999  0.748894 -0.960222\n",
       "1  0.704408 -0.846780 -0.330600  1.147232\n",
       "2 -1.151575  0.112365 -2.185499 -3.203635\n",
       "3 -0.037103  0.827613  0.900294  0.954812\n",
       "4  0.480505 -0.068516  1.728037 -0.113908\n",
       "5  0.237232 -0.824001  1.634914  0.700978\n",
       "6  0.123230 -1.079276 -0.483521  1.060412\n",
       "7  0.055008  1.157487 -1.317641  1.467108\n",
       "8 -0.664528  0.890207 -1.585889  1.788315\n",
       "9  1.309771  0.216970 -0.227519 -1.279574"
      ]
     },
     "execution_count": 77,
     "metadata": {},
     "output_type": "execute_result"
    }
   ],
   "source": [
    "#Kết hợp dữ liệu\n",
    "df = pd.DataFrame(np.random.randn(10, 4))\n",
    "df"
   ]
  },
  {
   "cell_type": "code",
   "execution_count": 78,
   "id": "3d68b309",
   "metadata": {},
   "outputs": [
    {
     "data": {
      "text/html": [
       "<div>\n",
       "<style scoped>\n",
       "    .dataframe tbody tr th:only-of-type {\n",
       "        vertical-align: middle;\n",
       "    }\n",
       "\n",
       "    .dataframe tbody tr th {\n",
       "        vertical-align: top;\n",
       "    }\n",
       "\n",
       "    .dataframe thead th {\n",
       "        text-align: right;\n",
       "    }\n",
       "</style>\n",
       "<table border=\"1\" class=\"dataframe\">\n",
       "  <thead>\n",
       "    <tr style=\"text-align: right;\">\n",
       "      <th></th>\n",
       "      <th>0</th>\n",
       "      <th>1</th>\n",
       "      <th>2</th>\n",
       "      <th>3</th>\n",
       "    </tr>\n",
       "  </thead>\n",
       "  <tbody>\n",
       "    <tr>\n",
       "      <th>0</th>\n",
       "      <td>-0.161620</td>\n",
       "      <td>1.667999</td>\n",
       "      <td>0.748894</td>\n",
       "      <td>-0.960222</td>\n",
       "    </tr>\n",
       "    <tr>\n",
       "      <th>1</th>\n",
       "      <td>0.704408</td>\n",
       "      <td>-0.846780</td>\n",
       "      <td>-0.330600</td>\n",
       "      <td>1.147232</td>\n",
       "    </tr>\n",
       "    <tr>\n",
       "      <th>2</th>\n",
       "      <td>-1.151575</td>\n",
       "      <td>0.112365</td>\n",
       "      <td>-2.185499</td>\n",
       "      <td>-3.203635</td>\n",
       "    </tr>\n",
       "    <tr>\n",
       "      <th>3</th>\n",
       "      <td>-0.037103</td>\n",
       "      <td>0.827613</td>\n",
       "      <td>0.900294</td>\n",
       "      <td>0.954812</td>\n",
       "    </tr>\n",
       "    <tr>\n",
       "      <th>4</th>\n",
       "      <td>0.480505</td>\n",
       "      <td>-0.068516</td>\n",
       "      <td>1.728037</td>\n",
       "      <td>-0.113908</td>\n",
       "    </tr>\n",
       "    <tr>\n",
       "      <th>5</th>\n",
       "      <td>0.237232</td>\n",
       "      <td>-0.824001</td>\n",
       "      <td>1.634914</td>\n",
       "      <td>0.700978</td>\n",
       "    </tr>\n",
       "    <tr>\n",
       "      <th>6</th>\n",
       "      <td>0.123230</td>\n",
       "      <td>-1.079276</td>\n",
       "      <td>-0.483521</td>\n",
       "      <td>1.060412</td>\n",
       "    </tr>\n",
       "    <tr>\n",
       "      <th>7</th>\n",
       "      <td>0.055008</td>\n",
       "      <td>1.157487</td>\n",
       "      <td>-1.317641</td>\n",
       "      <td>1.467108</td>\n",
       "    </tr>\n",
       "    <tr>\n",
       "      <th>8</th>\n",
       "      <td>-0.664528</td>\n",
       "      <td>0.890207</td>\n",
       "      <td>-1.585889</td>\n",
       "      <td>1.788315</td>\n",
       "    </tr>\n",
       "    <tr>\n",
       "      <th>9</th>\n",
       "      <td>1.309771</td>\n",
       "      <td>0.216970</td>\n",
       "      <td>-0.227519</td>\n",
       "      <td>-1.279574</td>\n",
       "    </tr>\n",
       "  </tbody>\n",
       "</table>\n",
       "</div>"
      ],
      "text/plain": [
       "          0         1         2         3\n",
       "0 -0.161620  1.667999  0.748894 -0.960222\n",
       "1  0.704408 -0.846780 -0.330600  1.147232\n",
       "2 -1.151575  0.112365 -2.185499 -3.203635\n",
       "3 -0.037103  0.827613  0.900294  0.954812\n",
       "4  0.480505 -0.068516  1.728037 -0.113908\n",
       "5  0.237232 -0.824001  1.634914  0.700978\n",
       "6  0.123230 -1.079276 -0.483521  1.060412\n",
       "7  0.055008  1.157487 -1.317641  1.467108\n",
       "8 -0.664528  0.890207 -1.585889  1.788315\n",
       "9  1.309771  0.216970 -0.227519 -1.279574"
      ]
     },
     "execution_count": 78,
     "metadata": {},
     "output_type": "execute_result"
    }
   ],
   "source": [
    "pieces = [df[:3], df[3:7], df[7:]]\n",
    "pd.concat(pieces)\n"
   ]
  },
  {
   "cell_type": "code",
   "execution_count": null,
   "id": "570ce349",
   "metadata": {},
   "outputs": [],
   "source": [
    " "
   ]
  }
 ],
 "metadata": {
  "kernelspec": {
   "display_name": "Python 3 (ipykernel)",
   "language": "python",
   "name": "python3"
  },
  "language_info": {
   "codemirror_mode": {
    "name": "ipython",
    "version": 3
   },
   "file_extension": ".py",
   "mimetype": "text/x-python",
   "name": "python",
   "nbconvert_exporter": "python",
   "pygments_lexer": "ipython3",
   "version": "3.9.7"
  }
 },
 "nbformat": 4,
 "nbformat_minor": 5
}
