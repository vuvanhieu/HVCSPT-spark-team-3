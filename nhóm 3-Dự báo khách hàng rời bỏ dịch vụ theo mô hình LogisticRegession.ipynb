{
 "cells": [
  {
   "cell_type": "markdown",
   "id": "f329f653",
   "metadata": {},
   "source": [
    "# Khởi động thư viện Spark"
   ]
  },
  {
   "cell_type": "code",
   "execution_count": 1,
   "id": "d6c55513",
   "metadata": {},
   "outputs": [],
   "source": [
    "import findspark\n",
    "\n",
    "findspark.init()\n",
    "\n",
    "from pyspark.sql import SparkSession\n",
    "\n",
    "spark = SparkSession.builder.appName('data_processing').getOrCreate()"
   ]
  },
  {
   "cell_type": "markdown",
   "id": "d756f89f",
   "metadata": {},
   "source": [
    "# Đọc dữ liệu"
   ]
  },
  {
   "cell_type": "code",
   "execution_count": 2,
   "id": "47e6cc0f",
   "metadata": {},
   "outputs": [],
   "source": [
    "data=spark.read.csv('C:\\Customer-churn.csv',inferSchema=True,header=True)"
   ]
  },
  {
   "cell_type": "markdown",
   "id": "659357ff",
   "metadata": {},
   "source": [
    "# Xem thông tin bảng dữ liệu"
   ]
  },
  {
   "cell_type": "code",
   "execution_count": 3,
   "id": "e9f08e4d",
   "metadata": {},
   "outputs": [
    {
     "name": "stdout",
     "output_type": "stream",
     "text": [
      "7043 21\n"
     ]
    }
   ],
   "source": [
    "from pyspark.sql.functions import *\n",
    "#xem dữ liệu dòng và cột\n",
    "print(data.count(), len(data.columns))"
   ]
  },
  {
   "cell_type": "code",
   "execution_count": 4,
   "id": "f9bd5786",
   "metadata": {},
   "outputs": [
    {
     "name": "stdout",
     "output_type": "stream",
     "text": [
      "root\n",
      " |-- customerID: string (nullable = true)\n",
      " |-- gender: string (nullable = true)\n",
      " |-- SeniorCitizen: integer (nullable = true)\n",
      " |-- Partner: string (nullable = true)\n",
      " |-- Dependents: string (nullable = true)\n",
      " |-- tenure: integer (nullable = true)\n",
      " |-- PhoneService: string (nullable = true)\n",
      " |-- MultipleLines: string (nullable = true)\n",
      " |-- InternetService: string (nullable = true)\n",
      " |-- OnlineSecurity: string (nullable = true)\n",
      " |-- OnlineBackup: string (nullable = true)\n",
      " |-- DeviceProtection: string (nullable = true)\n",
      " |-- TechSupport: string (nullable = true)\n",
      " |-- StreamingTV: string (nullable = true)\n",
      " |-- StreamingMovies: string (nullable = true)\n",
      " |-- Contract: string (nullable = true)\n",
      " |-- PaperlessBilling: string (nullable = true)\n",
      " |-- PaymentMethod: string (nullable = true)\n",
      " |-- MonthlyCharges: double (nullable = true)\n",
      " |-- TotalCharges: string (nullable = true)\n",
      " |-- Churn: string (nullable = true)\n",
      "\n"
     ]
    }
   ],
   "source": [
    "#thông tin lược đồ dữ liệu\n",
    "data.printSchema()"
   ]
  },
  {
   "cell_type": "code",
   "execution_count": 5,
   "id": "b68c77a1",
   "metadata": {},
   "outputs": [
    {
     "data": {
      "text/plain": [
       "['customerID',\n",
       " 'gender',\n",
       " 'SeniorCitizen',\n",
       " 'Partner',\n",
       " 'Dependents',\n",
       " 'tenure',\n",
       " 'PhoneService',\n",
       " 'MultipleLines',\n",
       " 'InternetService',\n",
       " 'OnlineSecurity',\n",
       " 'OnlineBackup',\n",
       " 'DeviceProtection',\n",
       " 'TechSupport',\n",
       " 'StreamingTV',\n",
       " 'StreamingMovies',\n",
       " 'Contract',\n",
       " 'PaperlessBilling',\n",
       " 'PaymentMethod',\n",
       " 'MonthlyCharges',\n",
       " 'TotalCharges',\n",
       " 'Churn']"
      ]
     },
     "execution_count": 5,
     "metadata": {},
     "output_type": "execute_result"
    }
   ],
   "source": [
    "#xem số cột trong dữ liệu\n",
    "data.columns"
   ]
  },
  {
   "cell_type": "code",
   "execution_count": 6,
   "id": "0ca36f42",
   "metadata": {},
   "outputs": [
    {
     "name": "stdout",
     "output_type": "stream",
     "text": [
      "+----------+------+-------------+-------+----------+------+------------+----------------+---------------+--------------+------------+----------------+-----------+-----------+---------------+--------------+----------------+--------------------+--------------+------------+-----+\n",
      "|customerID|gender|SeniorCitizen|Partner|Dependents|tenure|PhoneService|   MultipleLines|InternetService|OnlineSecurity|OnlineBackup|DeviceProtection|TechSupport|StreamingTV|StreamingMovies|      Contract|PaperlessBilling|       PaymentMethod|MonthlyCharges|TotalCharges|Churn|\n",
      "+----------+------+-------------+-------+----------+------+------------+----------------+---------------+--------------+------------+----------------+-----------+-----------+---------------+--------------+----------------+--------------------+--------------+------------+-----+\n",
      "|7590-VHVEG|Female|            0|    Yes|        No|     1|          No|No phone service|            DSL|            No|         Yes|              No|         No|         No|             No|Month-to-month|             Yes|    Electronic check|         29.85|       29.85|   No|\n",
      "|5575-GNVDE|  Male|            0|     No|        No|    34|         Yes|              No|            DSL|           Yes|          No|             Yes|         No|         No|             No|      One year|              No|        Mailed check|         56.95|      1889.5|   No|\n",
      "|3668-QPYBK|  Male|            0|     No|        No|     2|         Yes|              No|            DSL|           Yes|         Yes|              No|         No|         No|             No|Month-to-month|             Yes|        Mailed check|         53.85|      108.15|  Yes|\n",
      "|7795-CFOCW|  Male|            0|     No|        No|    45|          No|No phone service|            DSL|           Yes|          No|             Yes|        Yes|         No|             No|      One year|              No|Bank transfer (au...|          42.3|     1840.75|   No|\n",
      "|9237-HQITU|Female|            0|     No|        No|     2|         Yes|              No|    Fiber optic|            No|          No|              No|         No|         No|             No|Month-to-month|             Yes|    Electronic check|          70.7|      151.65|  Yes|\n",
      "+----------+------+-------------+-------+----------+------+------------+----------------+---------------+--------------+------------+----------------+-----------+-----------+---------------+--------------+----------------+--------------------+--------------+------------+-----+\n",
      "only showing top 5 rows\n",
      "\n"
     ]
    }
   ],
   "source": [
    "#hiển thị 5 dòng đầu tiên của dữ liệu\n",
    "data.show(5)"
   ]
  },
  {
   "cell_type": "code",
   "execution_count": 7,
   "id": "af337d41",
   "metadata": {},
   "outputs": [
    {
     "name": "stdout",
     "output_type": "stream",
     "text": [
      "+-------+----------+------+------------------+-------+----------+------------------+------------+-------------+---------------+--------------+------------+----------------+-----------+-----------+---------------+--------------+----------------+--------------------+------------------+------------------+-----+\n",
      "|summary|customerID|gender|     SeniorCitizen|Partner|Dependents|            tenure|PhoneService|MultipleLines|InternetService|OnlineSecurity|OnlineBackup|DeviceProtection|TechSupport|StreamingTV|StreamingMovies|      Contract|PaperlessBilling|       PaymentMethod|    MonthlyCharges|      TotalCharges|Churn|\n",
      "+-------+----------+------+------------------+-------+----------+------------------+------------+-------------+---------------+--------------+------------+----------------+-----------+-----------+---------------+--------------+----------------+--------------------+------------------+------------------+-----+\n",
      "|  count|      7043|  7043|              7043|   7043|      7043|              7043|        7043|         7043|           7043|          7043|        7043|            7043|       7043|       7043|           7043|          7043|            7043|                7043|              7043|              7043| 7043|\n",
      "|   mean|      null|  null|0.1621468124378816|   null|      null| 32.37114865824223|        null|         null|           null|          null|        null|            null|       null|       null|           null|          null|            null|                null| 64.76169246059922|2283.3004408418697| null|\n",
      "| stddev|      null|  null|0.3686116056100135|   null|      null|24.559481023094442|        null|         null|           null|          null|        null|            null|       null|       null|           null|          null|            null|                null|30.090047097678482| 2266.771361883145| null|\n",
      "|    min|0002-ORFBO|Female|                 0|     No|        No|                 0|          No|           No|            DSL|            No|          No|              No|         No|         No|             No|Month-to-month|              No|Bank transfer (au...|             18.25|                  |   No|\n",
      "|    max|9995-HOTOH|  Male|                 1|    Yes|       Yes|                72|         Yes|          Yes|             No|           Yes|         Yes|             Yes|        Yes|        Yes|            Yes|      Two year|             Yes|        Mailed check|            118.75|             999.9|  Yes|\n",
      "+-------+----------+------+------------------+-------+----------+------------------+------------+-------------+---------------+--------------+------------+----------------+-----------+-----------+---------------+--------------+----------------+--------------------+------------------+------------------+-----+\n",
      "\n"
     ]
    }
   ],
   "source": [
    "#khai thác thông tin dữ liệu (các miêu tả)\n",
    "data.describe().show()"
   ]
  },
  {
   "cell_type": "markdown",
   "id": "c0bd6264",
   "metadata": {},
   "source": [
    "# Thống kê các giá trị trung bình, giá trị nhỏ nhất, lớn nhất"
   ]
  },
  {
   "cell_type": "code",
   "execution_count": 8,
   "id": "1009d56a",
   "metadata": {},
   "outputs": [
    {
     "name": "stdout",
     "output_type": "stream",
     "text": [
      "+---------------+-----+\n",
      "|InternetService|count|\n",
      "+---------------+-----+\n",
      "|    Fiber optic| 3096|\n",
      "|             No| 1526|\n",
      "|            DSL| 2421|\n",
      "+---------------+-----+\n",
      "\n",
      "+--------------------+-----+\n",
      "|       PaymentMethod|count|\n",
      "+--------------------+-----+\n",
      "|Credit card (auto...| 1522|\n",
      "|        Mailed check| 1612|\n",
      "|Bank transfer (au...| 1544|\n",
      "|    Electronic check| 2365|\n",
      "+--------------------+-----+\n",
      "\n"
     ]
    }
   ],
   "source": [
    "# nhóm dữ liệu theo tiêu chí công cụ tìm kiếm, nước\n",
    "data.groupBy('InternetService').count().show()\n",
    "\n",
    "data.groupBy('PaymentMethod').count().show()"
   ]
  },
  {
   "cell_type": "code",
   "execution_count": 9,
   "id": "655b3b07",
   "metadata": {},
   "outputs": [
    {
     "name": "stdout",
     "output_type": "stream",
     "text": [
      "+---------------+-------------------+-----------------+-------------------+\n",
      "|InternetService| avg(SeniorCitizen)|      avg(tenure)|avg(MonthlyCharges)|\n",
      "+---------------+-------------------+-----------------+-------------------+\n",
      "|    Fiber optic|0.26841085271317827|32.91795865633075|  91.50012919896615|\n",
      "|             No|0.03407601572739188|30.54718217562254| 21.079193971166454|\n",
      "|            DSL|0.10698058653448989|32.82156133828996|  58.10216852540261|\n",
      "+---------------+-------------------+-----------------+-------------------+\n",
      "\n"
     ]
    }
   ],
   "source": [
    "# nhóm nước và tìm giá trị trung bình\n",
    "data.groupBy('InternetService').mean().show()"
   ]
  },
  {
   "cell_type": "markdown",
   "id": "14b1ed82",
   "metadata": {},
   "source": [
    "## sử dụng thư viện StringIndexer"
   ]
  },
  {
   "cell_type": "code",
   "execution_count": 10,
   "id": "c60f4bc3",
   "metadata": {},
   "outputs": [],
   "source": [
    "#Chuyển dữ liệu từ text sang số\n",
    "from pyspark.ml.feature import StringIndexer\n",
    "Platform_indexer = StringIndexer(inputCol='InternetService', outputCol = 'InternetService_Num').fit(data)\n",
    "data = Platform_indexer.transform(data)"
   ]
  },
  {
   "cell_type": "code",
   "execution_count": 11,
   "id": "795416ec",
   "metadata": {},
   "outputs": [
    {
     "name": "stdout",
     "output_type": "stream",
     "text": [
      "+----------+------+-------------+-------+----------+------+------------+----------------+---------------+--------------+------------+----------------+-----------+-----------+---------------+--------------+----------------+----------------+--------------+------------+-----+-------------------+\n",
      "|customerID|gender|SeniorCitizen|Partner|Dependents|tenure|PhoneService|MultipleLines   |InternetService|OnlineSecurity|OnlineBackup|DeviceProtection|TechSupport|StreamingTV|StreamingMovies|Contract      |PaperlessBilling|PaymentMethod   |MonthlyCharges|TotalCharges|Churn|InternetService_Num|\n",
      "+----------+------+-------------+-------+----------+------+------------+----------------+---------------+--------------+------------+----------------+-----------+-----------+---------------+--------------+----------------+----------------+--------------+------------+-----+-------------------+\n",
      "|7590-VHVEG|Female|0            |Yes    |No        |1     |No          |No phone service|DSL            |No            |Yes         |No              |No         |No         |No             |Month-to-month|Yes             |Electronic check|29.85         |29.85       |No   |1.0                |\n",
      "|5575-GNVDE|Male  |0            |No     |No        |34    |Yes         |No              |DSL            |Yes           |No          |Yes             |No         |No         |No             |One year      |No              |Mailed check    |56.95         |1889.5      |No   |1.0                |\n",
      "|3668-QPYBK|Male  |0            |No     |No        |2     |Yes         |No              |DSL            |Yes           |Yes         |No              |No         |No         |No             |Month-to-month|Yes             |Mailed check    |53.85         |108.15      |Yes  |1.0                |\n",
      "+----------+------+-------------+-------+----------+------+------------+----------------+---------------+--------------+------------+----------------+-----------+-----------+---------------+--------------+----------------+----------------+--------------+------------+-----+-------------------+\n",
      "only showing top 3 rows\n",
      "\n"
     ]
    }
   ],
   "source": [
    "#xem dữ liệu\n",
    "data.show(3, False)"
   ]
  },
  {
   "cell_type": "code",
   "execution_count": 12,
   "id": "27cc5c4c",
   "metadata": {},
   "outputs": [],
   "source": [
    "#Chuyển dữ liệu từ text sang số\n",
    "from pyspark.ml.feature import StringIndexer\n",
    "Platform_indexer = StringIndexer(inputCol='PaymentMethod', outputCol = 'PaymentMethod_Num').fit(data)\n",
    "data = Platform_indexer.transform(data)"
   ]
  },
  {
   "cell_type": "code",
   "execution_count": 13,
   "id": "baf6d252",
   "metadata": {},
   "outputs": [
    {
     "name": "stdout",
     "output_type": "stream",
     "text": [
      "+----------+------+-------------+-------+----------+------+------------+----------------+---------------+--------------+------------+----------------+-----------+-----------+---------------+--------------+----------------+----------------+--------------+------------+-----+-------------------+-----------------+\n",
      "|customerID|gender|SeniorCitizen|Partner|Dependents|tenure|PhoneService|MultipleLines   |InternetService|OnlineSecurity|OnlineBackup|DeviceProtection|TechSupport|StreamingTV|StreamingMovies|Contract      |PaperlessBilling|PaymentMethod   |MonthlyCharges|TotalCharges|Churn|InternetService_Num|PaymentMethod_Num|\n",
      "+----------+------+-------------+-------+----------+------+------------+----------------+---------------+--------------+------------+----------------+-----------+-----------+---------------+--------------+----------------+----------------+--------------+------------+-----+-------------------+-----------------+\n",
      "|7590-VHVEG|Female|0            |Yes    |No        |1     |No          |No phone service|DSL            |No            |Yes         |No              |No         |No         |No             |Month-to-month|Yes             |Electronic check|29.85         |29.85       |No   |1.0                |0.0              |\n",
      "|5575-GNVDE|Male  |0            |No     |No        |34    |Yes         |No              |DSL            |Yes           |No          |Yes             |No         |No         |No             |One year      |No              |Mailed check    |56.95         |1889.5      |No   |1.0                |1.0              |\n",
      "|3668-QPYBK|Male  |0            |No     |No        |2     |Yes         |No              |DSL            |Yes           |Yes         |No              |No         |No         |No             |Month-to-month|Yes             |Mailed check    |53.85         |108.15      |Yes  |1.0                |1.0              |\n",
      "+----------+------+-------------+-------+----------+------+------------+----------------+---------------+--------------+------------+----------------+-----------+-----------+---------------+--------------+----------------+----------------+--------------+------------+-----+-------------------+-----------------+\n",
      "only showing top 3 rows\n",
      "\n"
     ]
    }
   ],
   "source": [
    "#xem dữ liệu\n",
    "data.show(3, False)"
   ]
  },
  {
   "cell_type": "code",
   "execution_count": 14,
   "id": "5916d0d3",
   "metadata": {},
   "outputs": [],
   "source": [
    "#Chuyển dữ liệu từ text sang số\n",
    "from pyspark.ml.feature import StringIndexer\n",
    "Platform_indexer = StringIndexer(inputCol='gender', outputCol = 'gender_Num').fit(data)\n",
    "data = Platform_indexer.transform(data)"
   ]
  },
  {
   "cell_type": "code",
   "execution_count": 15,
   "id": "286ea7ee",
   "metadata": {},
   "outputs": [],
   "source": [
    "#Chuyển dữ liệu từ text sang số\n",
    "from pyspark.ml.feature import StringIndexer\n",
    "Platform_indexer = StringIndexer(inputCol='Churn', outputCol = 'Churn_Num').fit(data)\n",
    "data = Platform_indexer.transform(data)"
   ]
  },
  {
   "cell_type": "code",
   "execution_count": 16,
   "id": "cd10ef19",
   "metadata": {},
   "outputs": [],
   "source": [
    "#Chuyển dữ liệu từ text sang số\n",
    "from pyspark.ml.feature import StringIndexer\n",
    "Platform_indexer = StringIndexer(inputCol='Contract', outputCol = 'Contract_Num').fit(data)\n",
    "data = Platform_indexer.transform(data)"
   ]
  },
  {
   "cell_type": "markdown",
   "id": "ba88ff63",
   "metadata": {},
   "source": [
    "## Vector hóa đặc trưng (VectorAssembler), nghĩa là chuyển dữ liệu thành các véc tơ đặc trưng\n",
    "### Chú ý: Lựa chọn các trường đặc trưng đã được số hóa: "
   ]
  },
  {
   "cell_type": "code",
   "execution_count": 17,
   "id": "0f65b346",
   "metadata": {},
   "outputs": [],
   "source": [
    "from pyspark.ml.feature import VectorAssembler\n",
    "data_assembler = VectorAssembler(inputCols=['InternetService_Num', 'PaymentMethod_Num', 'gender_Num', 'Churn_Num', 'Contract_Num', 'MonthlyCharges', 'tenure' ], outputCol='features')\n",
    "\n",
    "#gán lại dữ liệu đã được biến đổi\n",
    "data = data_assembler.transform(data)"
   ]
  },
  {
   "cell_type": "markdown",
   "id": "e9fe8770",
   "metadata": {},
   "source": [
    "## Khai báo bộ học máy phân lớp"
   ]
  },
  {
   "cell_type": "code",
   "execution_count": 18,
   "id": "db7cc374",
   "metadata": {},
   "outputs": [],
   "source": [
    "from pyspark.ml.classification import LogisticRegression"
   ]
  },
  {
   "cell_type": "markdown",
   "id": "c9f24e4b",
   "metadata": {},
   "source": [
    "## chia dữ liệu thành hai tập: huấn luyện và kiểm tra\n",
    "### lựa chọn dữ liệu (đặc trưng và mục tiêu/nhãn)"
   ]
  },
  {
   "cell_type": "code",
   "execution_count": 19,
   "id": "d16da60d",
   "metadata": {},
   "outputs": [
    {
     "name": "stdout",
     "output_type": "stream",
     "text": [
      "+--------------------------------+---------+\n",
      "|features                        |Churn_Num|\n",
      "+--------------------------------+---------+\n",
      "|[1.0,0.0,1.0,0.0,0.0,29.85,1.0] |0.0      |\n",
      "|[1.0,1.0,0.0,0.0,2.0,56.95,34.0]|0.0      |\n",
      "|[1.0,1.0,0.0,1.0,0.0,53.85,2.0] |1.0      |\n",
      "|[1.0,2.0,0.0,0.0,2.0,42.3,45.0] |0.0      |\n",
      "|[0.0,0.0,1.0,1.0,0.0,70.7,2.0]  |1.0      |\n",
      "|[0.0,0.0,1.0,1.0,0.0,99.65,8.0] |1.0      |\n",
      "|(7,[1,5,6],[3.0,89.1,22.0])     |0.0      |\n",
      "|[1.0,1.0,1.0,0.0,0.0,29.75,10.0]|0.0      |\n",
      "|[0.0,0.0,1.0,1.0,0.0,104.8,28.0]|1.0      |\n",
      "|[1.0,2.0,0.0,0.0,2.0,56.15,62.0]|0.0      |\n",
      "+--------------------------------+---------+\n",
      "only showing top 10 rows\n",
      "\n"
     ]
    }
   ],
   "source": [
    "data_model = data.select(['features', 'Churn_Num']).show(10, False)"
   ]
  },
  {
   "cell_type": "markdown",
   "id": "eec2c081",
   "metadata": {},
   "source": [
    "## chia dữ liệu cho mô hình học máy"
   ]
  },
  {
   "cell_type": "code",
   "execution_count": 20,
   "id": "6e5953c0",
   "metadata": {},
   "outputs": [
    {
     "name": "stdout",
     "output_type": "stream",
     "text": [
      "4974\n",
      "+---------+-----+\n",
      "|Churn_Num|count|\n",
      "+---------+-----+\n",
      "|      0.0| 3658|\n",
      "|      1.0| 1316|\n",
      "+---------+-----+\n",
      "\n"
     ]
    },
    {
     "data": {
      "text/plain": [
       "(4974, 2069)"
      ]
     },
     "execution_count": 20,
     "metadata": {},
     "output_type": "execute_result"
    }
   ],
   "source": [
    "# chia dữ liệu học máy\n",
    "model_data = data.select(['features','Churn_Num'])\n",
    "train_data,test_data = model_data.randomSplit([0.7,0.3])\n",
    "print(train_data.count())\n",
    "train_data.groupBy('Churn_Num').count().show()\n",
    "# tỉ lệ chia dữ liệu: tập huấn luyện chiếm 70% và tập kiểm tra chiếm 30%\n",
    "# xem dữ liệu\n",
    "train_data.count(), test_data.count()"
   ]
  },
  {
   "cell_type": "markdown",
   "id": "cd2c9415",
   "metadata": {},
   "source": [
    "## Huấn luyện mô hình"
   ]
  },
  {
   "cell_type": "code",
   "execution_count": 21,
   "id": "f21dcb6a",
   "metadata": {},
   "outputs": [],
   "source": [
    "model = LogisticRegression(labelCol = 'Churn_Num').fit(train_data)"
   ]
  },
  {
   "cell_type": "markdown",
   "id": "8af880de",
   "metadata": {},
   "source": [
    "## Đánh giá mô hình học máy"
   ]
  },
  {
   "cell_type": "code",
   "execution_count": 22,
   "id": "f60be97f",
   "metadata": {},
   "outputs": [
    {
     "name": "stderr",
     "output_type": "stream",
     "text": [
      "C:\\spark\\spark\\spark-3.2.3-bin-hadoop2.7\\python\\pyspark\\sql\\context.py:125: FutureWarning: Deprecated in 3.0.0. Use SparkSession.builder.getOrCreate() instead.\n",
      "  warnings.warn(\n"
     ]
    },
    {
     "name": "stdout",
     "output_type": "stream",
     "text": [
      "+---------+----------+\n",
      "|Churn_Num|prediction|\n",
      "+---------+----------+\n",
      "|0.0      |0.0       |\n",
      "|0.0      |0.0       |\n",
      "|0.0      |0.0       |\n",
      "|0.0      |0.0       |\n",
      "|0.0      |0.0       |\n",
      "|0.0      |0.0       |\n",
      "|0.0      |0.0       |\n",
      "|0.0      |0.0       |\n",
      "|0.0      |0.0       |\n",
      "|0.0      |0.0       |\n",
      "+---------+----------+\n",
      "only showing top 10 rows\n",
      "\n"
     ]
    }
   ],
   "source": [
    "result = model.evaluate(test_data).predictions\n",
    "\n",
    "#xem kết quả 10 dòng đầu tiên của dữ liệu kiểm tra\n",
    "result.select(['Churn_Num', 'prediction']).show(10, False)"
   ]
  },
  {
   "cell_type": "markdown",
   "id": "e30c138f",
   "metadata": {},
   "source": [
    "## Chỉ số đánh giá mô hình (Precision và Recall)"
   ]
  },
  {
   "cell_type": "code",
   "execution_count": 23,
   "id": "3f4f7903",
   "metadata": {},
   "outputs": [
    {
     "name": "stdout",
     "output_type": "stream",
     "text": [
      "1.0\n",
      "1.0\n",
      "1.0\n"
     ]
    }
   ],
   "source": [
    "#true postives - thực đúng\n",
    "TP = result[(result.Churn_Num == 1) & (result.prediction == 1)].count()\n",
    "#true negative - thực sai\n",
    "TN = result[(result.Churn_Num == 0) & (result.prediction == 0)].count()\n",
    "#false postives - sai nhưng dự báo đúng\n",
    "FP = result[(result.Churn_Num == 0) & (result.prediction == 1)].count()\n",
    "#false negative - sai và dự báo là sai\n",
    "FN = result[(result.Churn_Num == 1) & (result.prediction == 0)].count()\n",
    "\n",
    "recall = TP/(TP+FN)\n",
    "precision = TP/(TP+FP)\n",
    "accuracy = (TP+TN)/(TP+TN+FP+FN)\n",
    "\n",
    "print(recall)\n",
    "print(precision)\n",
    "print(accuracy)"
   ]
  },
  {
   "cell_type": "markdown",
   "id": "40e1f0f7",
   "metadata": {},
   "source": []
  }
 ],
 "metadata": {
  "kernelspec": {
   "display_name": "Python 3 (ipykernel)",
   "language": "python",
   "name": "python3"
  },
  "language_info": {
   "codemirror_mode": {
    "name": "ipython",
    "version": 3
   },
   "file_extension": ".py",
   "mimetype": "text/x-python",
   "name": "python",
   "nbconvert_exporter": "python",
   "pygments_lexer": "ipython3",
   "version": "3.9.7"
  }
 },
 "nbformat": 4,
 "nbformat_minor": 5
}
