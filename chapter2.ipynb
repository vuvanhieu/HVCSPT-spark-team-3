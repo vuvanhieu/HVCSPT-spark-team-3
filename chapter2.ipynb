{
 "cells": [
  {
   "cell_type": "code",
   "execution_count": 1,
   "id": "d2c71ce8",
   "metadata": {},
   "outputs": [],
   "source": [
    "#TẢI THƯ VIỆN\n",
    "#import SparkSession\n",
    "import findspark\n",
    "\n",
    "findspark.init()\n",
    "\n",
    "from pyspark.sql import SparkSession"
   ]
  },
  {
   "cell_type": "code",
   "execution_count": 2,
   "id": "c6333af8",
   "metadata": {},
   "outputs": [],
   "source": [
    "#create spar session object\n",
    "spark=SparkSession.builder.appName('data_processing').getOrCreate()"
   ]
  },
  {
   "cell_type": "code",
   "execution_count": 63,
   "id": "da89f4d1",
   "metadata": {},
   "outputs": [],
   "source": [
    "#ĐỌC GIỮ LIỆU\n",
    "# Load csv Dataset \n",
    "df=spark.read.csv('D:\\Churn_Modelling.csv',inferSchema=True,header=True)"
   ]
  },
  {
   "cell_type": "code",
   "execution_count": 64,
   "id": "908cdef6",
   "metadata": {},
   "outputs": [
    {
     "data": {
      "text/plain": [
       "['RowNumber',\n",
       " 'CustomerId',\n",
       " 'Surname',\n",
       " 'CreditScore',\n",
       " 'Geography',\n",
       " 'Gender',\n",
       " 'Age',\n",
       " 'Tenure',\n",
       " 'Balance',\n",
       " 'NumOfProducts',\n",
       " 'HasCrCard',\n",
       " 'IsActiveMember',\n",
       " 'EstimatedSalary',\n",
       " 'Exited']"
      ]
     },
     "execution_count": 64,
     "metadata": {},
     "output_type": "execute_result"
    }
   ],
   "source": [
    "#columns of dataframe\n",
    "df.columns"
   ]
  },
  {
   "cell_type": "code",
   "execution_count": 65,
   "id": "2b1819ba",
   "metadata": {},
   "outputs": [
    {
     "data": {
      "text/plain": [
       "14"
      ]
     },
     "execution_count": 65,
     "metadata": {},
     "output_type": "execute_result"
    }
   ],
   "source": [
    "len(df.columns)"
   ]
  },
  {
   "cell_type": "code",
   "execution_count": 66,
   "id": "009bbaa2",
   "metadata": {},
   "outputs": [
    {
     "data": {
      "text/plain": [
       "10000"
      ]
     },
     "execution_count": 66,
     "metadata": {},
     "output_type": "execute_result"
    }
   ],
   "source": [
    "df.count()"
   ]
  },
  {
   "cell_type": "code",
   "execution_count": 67,
   "id": "85740c03",
   "metadata": {},
   "outputs": [
    {
     "name": "stdout",
     "output_type": "stream",
     "text": [
      "(10000, 14)\n"
     ]
    }
   ],
   "source": [
    "#shape of dataset\n",
    "print((df.count(),len(df.columns)))"
   ]
  },
  {
   "cell_type": "code",
   "execution_count": 68,
   "id": "bfb36595",
   "metadata": {},
   "outputs": [
    {
     "name": "stdout",
     "output_type": "stream",
     "text": [
      "root\n",
      " |-- RowNumber: integer (nullable = true)\n",
      " |-- CustomerId: integer (nullable = true)\n",
      " |-- Surname: string (nullable = true)\n",
      " |-- CreditScore: integer (nullable = true)\n",
      " |-- Geography: string (nullable = true)\n",
      " |-- Gender: string (nullable = true)\n",
      " |-- Age: integer (nullable = true)\n",
      " |-- Tenure: integer (nullable = true)\n",
      " |-- Balance: double (nullable = true)\n",
      " |-- NumOfProducts: integer (nullable = true)\n",
      " |-- HasCrCard: integer (nullable = true)\n",
      " |-- IsActiveMember: integer (nullable = true)\n",
      " |-- EstimatedSalary: double (nullable = true)\n",
      " |-- Exited: integer (nullable = true)\n",
      "\n"
     ]
    }
   ],
   "source": [
    "df.printSchema()"
   ]
  },
  {
   "cell_type": "code",
   "execution_count": 69,
   "id": "0c349ab8",
   "metadata": {},
   "outputs": [
    {
     "name": "stdout",
     "output_type": "stream",
     "text": [
      "+---------+----------+--------+-----------+---------+------+---+------+---------+-------------+---------+--------------+---------------+------+\n",
      "|RowNumber|CustomerId| Surname|CreditScore|Geography|Gender|Age|Tenure|  Balance|NumOfProducts|HasCrCard|IsActiveMember|EstimatedSalary|Exited|\n",
      "+---------+----------+--------+-----------+---------+------+---+------+---------+-------------+---------+--------------+---------------+------+\n",
      "|        1|  15634602|Hargrave|        619|   France|Female| 42|     2|      0.0|            1|        1|             1|      101348.88|     1|\n",
      "|        2|  15647311|    Hill|        608|    Spain|Female| 41|     1| 83807.86|            1|        0|             1|      112542.58|     0|\n",
      "|        3|  15619304|    Onio|        502|   France|Female| 42|     8| 159660.8|            3|        1|             0|      113931.57|     1|\n",
      "|        4|  15701354|    Boni|        699|   France|Female| 39|     1|      0.0|            2|        0|             0|       93826.63|     0|\n",
      "|        5|  15737888|Mitchell|        850|    Spain|Female| 43|     2|125510.82|            1|        1|             1|        79084.1|     0|\n",
      "+---------+----------+--------+-----------+---------+------+---+------+---------+-------------+---------+--------------+---------------+------+\n",
      "only showing top 5 rows\n",
      "\n"
     ]
    }
   ],
   "source": [
    "df.show(5)"
   ]
  },
  {
   "cell_type": "code",
   "execution_count": 85,
   "id": "f87238dd",
   "metadata": {},
   "outputs": [
    {
     "name": "stdout",
     "output_type": "stream",
     "text": [
      "+--------+------+\n",
      "| Surname|Gender|\n",
      "+--------+------+\n",
      "|Hargrave|Female|\n",
      "|    Hill|Female|\n",
      "|    Onio|Female|\n",
      "|    Boni|Female|\n",
      "|Mitchell|Female|\n",
      "+--------+------+\n",
      "only showing top 5 rows\n",
      "\n"
     ]
    }
   ],
   "source": [
    "df.select('Surname','Gender').show(5)"
   ]
  },
  {
   "cell_type": "code",
   "execution_count": 86,
   "id": "1b19bf87",
   "metadata": {
    "scrolled": true
   },
   "outputs": [
    {
     "name": "stdout",
     "output_type": "stream",
     "text": [
      "+-------+------------------+-----------------+-------+-----------------+---------+------+------------------+------------------+-----------------+------------------+-------------------+-------------------+-----------------+-------------------+------------------+\n",
      "|summary|         RowNumber|       CustomerId|Surname|      CreditScore|Geography|Gender|               Age|            Tenure|          Balance|     NumOfProducts|          HasCrCard|     IsActiveMember|  EstimatedSalary|             Exited|  age_after_10_yrs|\n",
      "+-------+------------------+-----------------+-------+-----------------+---------+------+------------------+------------------+-----------------+------------------+-------------------+-------------------+-----------------+-------------------+------------------+\n",
      "|  count|             10000|            10000|  10000|            10000|    10000| 10000|             10000|             10000|            10000|             10000|              10000|              10000|            10000|              10000|             10000|\n",
      "|   mean|            5000.5|  1.56909405694E7|   null|         650.5288|     null|  null|           38.9218|            5.0128|76485.88928799961|            1.5302|             0.7055|             0.5151|100090.2398809998|             0.2037|           48.9218|\n",
      "| stddev|2886.8956799071675|71936.18612274907|   null|96.65329873613035|     null|  null|10.487806451704587|2.8921743770496837|62397.40520238599|0.5816543579989917|0.45584046447513327|0.49979692845891815|57510.49281769821|0.40276858399486065|10.487806451704587|\n",
      "|    min|                 1|         15565701|  Abazu|              350|   France|Female|                18|                 0|              0.0|                 1|                  0|                  0|            11.58|                  0|                28|\n",
      "|    max|             10000|         15815690| Zuyeva|              850|    Spain|  Male|                92|                10|        250898.09|                 4|                  1|                  1|        199992.48|                  1|               102|\n",
      "+-------+------------------+-----------------+-------+-----------------+---------+------+------------------+------------------+-----------------+------------------+-------------------+-------------------+-----------------+-------------------+------------------+\n",
      "\n"
     ]
    }
   ],
   "source": [
    "df.describe().show()\n"
   ]
  },
  {
   "cell_type": "code",
   "execution_count": 87,
   "id": "a2a7316b",
   "metadata": {},
   "outputs": [
    {
     "name": "stdout",
     "output_type": "stream",
     "text": [
      "+---------+----------+--------+-----------+---------+------+---+------+---------+-------------+---------+--------------+---------------+------+----------------+\n",
      "|RowNumber|CustomerId|Surname |CreditScore|Geography|Gender|Age|Tenure|Balance  |NumOfProducts|HasCrCard|IsActiveMember|EstimatedSalary|Exited|age_after_10_yrs|\n",
      "+---------+----------+--------+-----------+---------+------+---+------+---------+-------------+---------+--------------+---------------+------+----------------+\n",
      "|1        |15634602  |Hargrave|619        |France   |Female|42 |2     |0.0      |1            |1        |1             |101348.88      |1     |52              |\n",
      "|2        |15647311  |Hill    |608        |Spain    |Female|41 |1     |83807.86 |1            |0        |1             |112542.58      |0     |51              |\n",
      "|3        |15619304  |Onio    |502        |France   |Female|42 |8     |159660.8 |3            |1        |0             |113931.57      |1     |52              |\n",
      "|4        |15701354  |Boni    |699        |France   |Female|39 |1     |0.0      |2            |0        |0             |93826.63       |0     |49              |\n",
      "|5        |15737888  |Mitchell|850        |Spain    |Female|43 |2     |125510.82|1            |1        |1             |79084.1        |0     |53              |\n",
      "|6        |15574012  |Chu     |645        |Spain    |Male  |44 |8     |113755.78|2            |1        |0             |149756.71      |1     |54              |\n",
      "|7        |15592531  |Bartlett|822        |France   |Male  |50 |7     |0.0      |2            |1        |1             |10062.8        |0     |60              |\n",
      "|8        |15656148  |Obinna  |376        |Germany  |Female|29 |4     |115046.74|4            |1        |0             |119346.88      |1     |39              |\n",
      "|9        |15792365  |He      |501        |France   |Male  |44 |4     |142051.07|2            |0        |1             |74940.5        |0     |54              |\n",
      "|10       |15592389  |H?      |684        |France   |Male  |27 |2     |134603.88|1            |1        |1             |71725.73       |0     |37              |\n",
      "+---------+----------+--------+-----------+---------+------+---+------+---------+-------------+---------+--------------+---------------+------+----------------+\n",
      "only showing top 10 rows\n",
      "\n"
     ]
    }
   ],
   "source": [
    "#thêm cột mới\n",
    "#with column\n",
    "df.withColumn(\"age_after_10_yrs\",(df[\"age\"]+10)).show(10,False)"
   ]
  },
  {
   "cell_type": "code",
   "execution_count": 88,
   "id": "ad5caa23",
   "metadata": {},
   "outputs": [],
   "source": [
    "df= df.withColumn(\"age_after_10_yrs\",(df[\"age\"]+10))"
   ]
  },
  {
   "cell_type": "code",
   "execution_count": 89,
   "id": "2c2e1786",
   "metadata": {},
   "outputs": [
    {
     "name": "stdout",
     "output_type": "stream",
     "text": [
      "+---------+----------+--------+-----------+---------+------+---+------+---------+-------------+---------+--------------+---------------+------+----------------+----------+\n",
      "|RowNumber|CustomerId|Surname |CreditScore|Geography|Gender|Age|Tenure|Balance  |NumOfProducts|HasCrCard|IsActiveMember|EstimatedSalary|Exited|age_after_10_yrs|age_double|\n",
      "+---------+----------+--------+-----------+---------+------+---+------+---------+-------------+---------+--------------+---------------+------+----------------+----------+\n",
      "|1        |15634602  |Hargrave|619        |France   |Female|42 |2     |0.0      |1            |1        |1             |101348.88      |1     |52              |42.0      |\n",
      "|2        |15647311  |Hill    |608        |Spain    |Female|41 |1     |83807.86 |1            |0        |1             |112542.58      |0     |51              |41.0      |\n",
      "|3        |15619304  |Onio    |502        |France   |Female|42 |8     |159660.8 |3            |1        |0             |113931.57      |1     |52              |42.0      |\n",
      "|4        |15701354  |Boni    |699        |France   |Female|39 |1     |0.0      |2            |0        |0             |93826.63       |0     |49              |39.0      |\n",
      "|5        |15737888  |Mitchell|850        |Spain    |Female|43 |2     |125510.82|1            |1        |1             |79084.1        |0     |53              |43.0      |\n",
      "|6        |15574012  |Chu     |645        |Spain    |Male  |44 |8     |113755.78|2            |1        |0             |149756.71      |1     |54              |44.0      |\n",
      "|7        |15592531  |Bartlett|822        |France   |Male  |50 |7     |0.0      |2            |1        |1             |10062.8        |0     |60              |50.0      |\n",
      "|8        |15656148  |Obinna  |376        |Germany  |Female|29 |4     |115046.74|4            |1        |0             |119346.88      |1     |39              |29.0      |\n",
      "|9        |15792365  |He      |501        |France   |Male  |44 |4     |142051.07|2            |0        |1             |74940.5        |0     |54              |44.0      |\n",
      "|10       |15592389  |H?      |684        |France   |Male  |27 |2     |134603.88|1            |1        |1             |71725.73       |0     |37              |27.0      |\n",
      "+---------+----------+--------+-----------+---------+------+---+------+---------+-------------+---------+--------------+---------------+------+----------------+----------+\n",
      "only showing top 10 rows\n",
      "\n"
     ]
    }
   ],
   "source": [
    "from pyspark.sql.types import StringType,DoubleType\n",
    "\n",
    "df.withColumn('age_double',df['age'].cast(DoubleType())).show(10,False)"
   ]
  },
  {
   "cell_type": "markdown",
   "id": "690792b0",
   "metadata": {},
   "source": [
    "##2.7. lọc dữ liệu theo điều kiện\n"
   ]
  },
  {
   "cell_type": "code",
   "execution_count": null,
   "id": "01c6f435",
   "metadata": {},
   "outputs": [],
   "source": [
    "# lọc theo 1 điều kiện\n",
    "#filter the records \n",
    "df.filter(df['Balance']=='Age').show()"
   ]
  },
  {
   "cell_type": "code",
   "execution_count": 90,
   "id": "3c4a5dfe",
   "metadata": {},
   "outputs": [
    {
     "name": "stdout",
     "output_type": "stream",
     "text": [
      "+---+------+-----------+\n",
      "|Age|Gender|CreditScore|\n",
      "+---+------+-----------+\n",
      "| 42|Female|        619|\n",
      "| 42|Female|        502|\n",
      "| 39|Female|        699|\n",
      "| 50|  Male|        822|\n",
      "| 44|  Male|        501|\n",
      "| 27|  Male|        684|\n",
      "| 31|  Male|        528|\n",
      "| 34|Female|        476|\n",
      "| 25|Female|        549|\n",
      "| 24|Female|        726|\n",
      "| 41|  Male|        732|\n",
      "| 46|  Male|        669|\n",
      "| 38|Female|        846|\n",
      "| 25|  Male|        577|\n",
      "| 44|  Male|        571|\n",
      "| 29|  Male|        411|\n",
      "| 36|  Male|        533|\n",
      "| 45|Female|        475|\n",
      "| 36|  Male|        850|\n",
      "| 51|Female|        465|\n",
      "+---+------+-----------+\n",
      "only showing top 20 rows\n",
      "\n"
     ]
    }
   ],
   "source": [
    "#lọc theo điều kiện\n",
    "#filter the records \n",
    "df.filter(df[]=='France').select('Age','Gender','CreditScore').show()"
   ]
  },
  {
   "cell_type": "code",
   "execution_count": 91,
   "id": "01574c7f",
   "metadata": {},
   "outputs": [
    {
     "name": "stdout",
     "output_type": "stream",
     "text": [
      "+---------+----------+--------------+-----------+---------+------+---+------+---------+-------------+---------+--------------+---------------+------+----------------+\n",
      "|RowNumber|CustomerId|       Surname|CreditScore|Geography|Gender|Age|Tenure|  Balance|NumOfProducts|HasCrCard|IsActiveMember|EstimatedSalary|Exited|age_after_10_yrs|\n",
      "+---------+----------+--------------+-----------+---------+------+---+------+---------+-------------+---------+--------------+---------------+------+----------------+\n",
      "|        3|  15619304|          Onio|        502|   France|Female| 42|     8| 159660.8|            3|        1|             0|      113931.57|     1|              52|\n",
      "|       13|  15632264|           Kay|        476|   France|Female| 34|    10|      0.0|            2|        1|             0|       26260.98|     0|              44|\n",
      "|       21|  15577657|      McDonald|        732|   France|  Male| 41|     8|      0.0|            2|        1|             1|      170886.17|     0|              51|\n",
      "|       28|  15700772|       Nebechi|        571|   France|  Male| 44|     9|      0.0|            2|        0|             0|       38433.35|     0|              54|\n",
      "|       42|  15738148|        Clarke|        465|   France|Female| 51|     8|122522.32|            1|        0|             0|      181297.65|     1|              61|\n",
      "|       70|  15755648|        Pisano|        675|   France|Female| 21|     8| 98373.26|            1|        1|             0|        18203.0|     0|              31|\n",
      "|       75|  15770811|       Wallace|        519|   France|  Male| 36|     9|      0.0|            2|        0|             1|       145562.4|     0|              46|\n",
      "|       77|  15614049|            Hu|        664|   France|  Male| 55|     8|      0.0|            2|        1|             1|      139161.64|     0|              65|\n",
      "|       78|  15662085|          Read|        678|   France|Female| 32|     9|      0.0|            1|        1|             1|      148210.64|     0|              42|\n",
      "|       88|  15625759|        Rowley|        729|   France|  Male| 30|     9|      0.0|            2|        1|             0|      151869.35|     0|              40|\n",
      "|       93|  15809248|          Cole|        524|   France|Female| 36|    10|      0.0|            2|        1|             0|      109614.57|     0|              46|\n",
      "|       94|  15640635|         Capon|        769|   France|  Male| 29|     8|      0.0|            2|        1|             1|      172290.61|     0|              39|\n",
      "|      100|  15633059|       Fanucci|        413|   France|  Male| 34|     9|      0.0|            2|        0|             0|        6534.18|     0|              44|\n",
      "|      103|  15580146|          Hung|        738|   France|  Male| 31|     9| 82674.15|            1|        1|             0|       41970.72|     0|              41|\n",
      "|      121|  15682472|      Culbreth|        828|   France|  Male| 34|     8|129433.34|            2|        0|             0|       38131.77|     0|              44|\n",
      "|      126|  15627360|        Fuller|        432|   France|  Male| 42|     9|152603.45|            1|        1|             0|      110265.24|     1|              52|\n",
      "|      130|  15591607|        Fernie|        770|   France|  Male| 24|     9|101827.07|            1|        1|             0|      167256.35|     0|              34|\n",
      "|      133|  15677871|         Cocci|        687|   France|  Male| 38|     9|122570.87|            1|        1|             1|       35608.88|     0|              48|\n",
      "|      149|  15703264|Chukwufumnanya|        735|   France|  Male| 44|     9|120681.63|            1|        1|             0|       74836.34|     0|              54|\n",
      "|      152|  15759618|      Alexeeva|        535|   France|Female| 48|     9|      0.0|            1|        1|             0|      149892.79|     1|              58|\n",
      "+---------+----------+--------------+-----------+---------+------+---+------+---------+-------------+---------+--------------+---------------+------+----------------+\n",
      "only showing top 20 rows\n",
      "\n"
     ]
    }
   ],
   "source": [
    "#lọc nhiều điều kiện\n",
    "#filter the multiple conditions\n",
    "df.filter(df['Geography']=='France').filter(df['Tenure'] >7).show()"
   ]
  },
  {
   "cell_type": "code",
   "execution_count": 92,
   "id": "e433c302",
   "metadata": {},
   "outputs": [
    {
     "name": "stdout",
     "output_type": "stream",
     "text": [
      "+---------+----------+-------+-----------+---------+------+---+------+-------+-------------+---------+--------------+---------------+------+----------------+\n",
      "|RowNumber|CustomerId|Surname|CreditScore|Geography|Gender|Age|Tenure|Balance|NumOfProducts|HasCrCard|IsActiveMember|EstimatedSalary|Exited|age_after_10_yrs|\n",
      "+---------+----------+-------+-----------+---------+------+---+------+-------+-------------+---------+--------------+---------------+------+----------------+\n",
      "+---------+----------+-------+-----------+---------+------+---+------+-------+-------------+---------+--------------+---------------+------+----------------+\n",
      "\n"
     ]
    }
   ],
   "source": [
    "# sử dụng và để kết hợp lọc\n",
    "#filter the multiple conditions\n",
    "df.filter((df['Geography']=='Gender')&(df['Tenure'] >7)).show()"
   ]
  },
  {
   "cell_type": "code",
   "execution_count": 93,
   "id": "f46a9c26",
   "metadata": {},
   "outputs": [
    {
     "name": "stdout",
     "output_type": "stream",
     "text": [
      "+---------+\n",
      "|Geography|\n",
      "+---------+\n",
      "|  Germany|\n",
      "|   France|\n",
      "|    Spain|\n",
      "+---------+\n",
      "\n"
     ]
    }
   ],
   "source": [
    "#Giá trị phân biệt trong cột\n",
    "#Distinct Values in a column\n",
    "df.select('Geography').distinct().show()"
   ]
  },
  {
   "cell_type": "code",
   "execution_count": 94,
   "id": "e47e9914",
   "metadata": {},
   "outputs": [
    {
     "data": {
      "text/plain": [
       "3"
      ]
     },
     "execution_count": 94,
     "metadata": {},
     "output_type": "execute_result"
    }
   ],
   "source": [
    "#distinct value count\n",
    "df.select('Geography').distinct().count()"
   ]
  },
  {
   "cell_type": "markdown",
   "id": "0d0025f3",
   "metadata": {},
   "source": [
    "2.8 nhóm giữ liệu"
   ]
  },
  {
   "cell_type": "code",
   "execution_count": 95,
   "id": "5cbe3e41",
   "metadata": {},
   "outputs": [
    {
     "name": "stdout",
     "output_type": "stream",
     "text": [
      "+---------+-----+\n",
      "|Geography|count|\n",
      "+---------+-----+\n",
      "|Germany  |2509 |\n",
      "|France   |5014 |\n",
      "|Spain    |2477 |\n",
      "+---------+-----+\n",
      "\n"
     ]
    }
   ],
   "source": [
    "#Nhóm giữ liệu\n",
    "# sử dụng grouBy\n",
    "df.groupBy('Geography').count().show(5,False)"
   ]
  },
  {
   "cell_type": "code",
   "execution_count": 96,
   "id": "0d41fd66",
   "metadata": {},
   "outputs": [
    {
     "name": "stdout",
     "output_type": "stream",
     "text": [
      "+---------+-----+\n",
      "|Geography|count|\n",
      "+---------+-----+\n",
      "|France   |5014 |\n",
      "|Germany  |2509 |\n",
      "|Spain    |2477 |\n",
      "+---------+-----+\n",
      "\n"
     ]
    }
   ],
   "source": [
    "#Sử dụng groupBy và sắp xếp với orderBy\n",
    "# Value counts\n",
    "df.groupBy('Geography').count().orderBy('count',ascending=False).show(5,False)"
   ]
  },
  {
   "cell_type": "code",
   "execution_count": 97,
   "id": "0297dd90",
   "metadata": {},
   "outputs": [
    {
     "name": "stdout",
     "output_type": "stream",
     "text": [
      "+---------+-----------------+--------------------+-----------------+------------------+-----------------+------------------+------------------+------------------+-------------------+--------------------+-------------------+---------------------+\n",
      "|Geography|avg(RowNumber)   |avg(CustomerId)     |avg(CreditScore) |avg(Age)          |avg(Tenure)      |avg(Balance)      |avg(NumOfProducts)|avg(HasCrCard)    |avg(IsActiveMember)|avg(EstimatedSalary)|avg(Exited)        |avg(age_after_10_yrs)|\n",
      "+---------+-----------------+--------------------+-----------------+------------------+-----------------+------------------+------------------+------------------+-------------------+--------------------+-------------------+---------------------+\n",
      "|Germany  |5000.278995615783|1.5690555652849741E7|651.4535671582304|39.771622160223195|5.009964129135113|119730.11613391782|1.519728975687525 |0.7138302112395377|0.49740932642487046|101113.4351016342   |0.32443204463929853|49.771622160223195   |\n",
      "|France   |5025.228560031911|1.569065011368169E7 |649.6683286796969|38.51176705225369 |5.004587155963303|62092.6365157559  |1.5309134423613882|0.7066214599122457|0.5167530913442362 |99899.18081372172   |0.16154766653370561|48.51176705225369    |\n",
      "|Spain    |4950.667743237787|1.5691918405732742E7|651.3338716188938|38.89099717400081 |5.03229713362939 |61818.14776342349 |1.5393621316108195|0.6947920872022608|0.5296729915220024 |99440.57228098497   |0.1667339523617279 |48.89099717400081    |\n",
      "+---------+-----------------+--------------------+-----------------+------------------+-----------------+------------------+------------------+------------------+-------------------+--------------------+-------------------+---------------------+\n",
      "\n"
     ]
    }
   ],
   "source": [
    "# Value counts\n",
    "df.groupBy('Geography').mean().show(5,False)"
   ]
  },
  {
   "cell_type": "code",
   "execution_count": 98,
   "id": "282c5150",
   "metadata": {},
   "outputs": [
    {
     "name": "stdout",
     "output_type": "stream",
     "text": [
      "+---------+--------------+---------------+----------------+--------+-----------+--------------------+------------------+--------------+-------------------+--------------------+-----------+---------------------+\n",
      "|Geography|sum(RowNumber)|sum(CustomerId)|sum(CreditScore)|sum(Age)|sum(Tenure)|sum(Balance)        |sum(NumOfProducts)|sum(HasCrCard)|sum(IsActiveMember)|sum(EstimatedSalary)|sum(Exited)|sum(age_after_10_yrs)|\n",
      "+---------+--------------+---------------+----------------+--------+-----------+--------------------+------------------+--------------+-------------------+--------------------+-----------+---------------------+\n",
      "|Germany  |12545700      |39367604133    |1634497         |99787   |12570      |3.004028613799998E8 |3813              |1791          |1248               |2.536936086700002E8 |814        |124877               |\n",
      "|France   |25196496      |78672919670    |3257437         |193098  |25093      |3.1133247949000007E8|7676              |3543          |2591               |5.008944926000007E8 |810        |243238               |\n",
      "|Spain    |12262804      |38868881891    |1613354         |96333   |12465      |1.5312355201E8      |3813              |1721          |1312               |2.4631429753999978E8|413        |121103               |\n",
      "+---------+--------------+---------------+----------------+--------+-----------+--------------------+------------------+--------------+-------------------+--------------------+-----------+---------------------+\n",
      "\n"
     ]
    }
   ],
   "source": [
    "#Nhóm sử dụng groupBy và áp dụng tính tổng cho danh mục đặc trả về\n",
    "df.groupBy('Geography').sum().show(5,False)"
   ]
  },
  {
   "cell_type": "code",
   "execution_count": 99,
   "id": "da50f661",
   "metadata": {},
   "outputs": [
    {
     "name": "stdout",
     "output_type": "stream",
     "text": [
      "+---------+--------------+---------------+----------------+--------+-----------+------------+------------------+--------------+-------------------+--------------------+-----------+---------------------+\n",
      "|Geography|max(RowNumber)|max(CustomerId)|max(CreditScore)|max(Age)|max(Tenure)|max(Balance)|max(NumOfProducts)|max(HasCrCard)|max(IsActiveMember)|max(EstimatedSalary)|max(Exited)|max(age_after_10_yrs)|\n",
      "+---------+--------------+---------------+----------------+--------+-----------+------------+------------------+--------------+-------------------+--------------------+-----------+---------------------+\n",
      "|Germany  |9999          |15815656       |850             |84      |10         |214346.96   |4                 |1             |1                  |199970.74           |1          |94                   |\n",
      "|France   |10000         |15815660       |850             |92      |10         |238387.56   |4                 |1             |1                  |199929.17           |1          |102                  |\n",
      "|Spain    |9993          |15815690       |850             |88      |10         |250898.09   |4                 |1             |1                  |199992.48           |1          |98                   |\n",
      "+---------+--------------+---------------+----------------+--------+-----------+------------+------------------+--------------+-------------------+--------------------+-----------+---------------------+\n",
      "\n"
     ]
    }
   ],
   "source": [
    "#Nhóm sử dụng groupBy và áp dụng xem giá trị nhỏ nhất và lớn nhất\n",
    "# Value counts\n",
    "df.groupBy('Geography').max().show(5,False)"
   ]
  },
  {
   "cell_type": "code",
   "execution_count": 100,
   "id": "4a9cbe9f",
   "metadata": {},
   "outputs": [
    {
     "name": "stdout",
     "output_type": "stream",
     "text": [
      "+---------+--------------+---------------+----------------+--------+-----------+------------+------------------+--------------+-------------------+--------------------+-----------+---------------------+\n",
      "|Geography|min(RowNumber)|min(CustomerId)|min(CreditScore)|min(Age)|min(Tenure)|min(Balance)|min(NumOfProducts)|min(HasCrCard)|min(IsActiveMember)|min(EstimatedSalary)|min(Exited)|min(age_after_10_yrs)|\n",
      "+---------+--------------+---------------+----------------+--------+-----------+------------+------------------+--------------+-------------------+--------------------+-----------+---------------------+\n",
      "|Germany  |8             |15565779       |350             |18      |0          |27288.43    |1                 |0             |0                  |11.58               |0          |28                   |\n",
      "|France   |1             |15565714       |350             |18      |0          |0.0         |1                 |0             |0                  |90.07               |0          |28                   |\n",
      "|Spain    |2             |15565701       |350             |18      |0          |0.0         |1                 |0             |0                  |417.41              |0          |28                   |\n",
      "+---------+--------------+---------------+----------------+--------+-----------+------------+------------------+--------------+-------------------+--------------------+-----------+---------------------+\n",
      "\n"
     ]
    }
   ],
   "source": [
    "# Value counts\n",
    "df.groupBy('Geography').min().show(5,False)"
   ]
  },
  {
   "cell_type": "code",
   "execution_count": 102,
   "id": "ef927ef5",
   "metadata": {},
   "outputs": [
    {
     "name": "stdout",
     "output_type": "stream",
     "text": [
      "+---------+-----------+\n",
      "|Geography|sum(Tenure)|\n",
      "+---------+-----------+\n",
      "|Germany  |12570      |\n",
      "|France   |25093      |\n",
      "|Spain    |12465      |\n",
      "+---------+-----------+\n",
      "\n"
     ]
    }
   ],
   "source": [
    "#Kết nhập dữ liệu\n",
    "#Aggregation\n",
    "df.groupBy('Geography').agg({'Tenure':'sum'}).show(5,False)"
   ]
  },
  {
   "cell_type": "code",
   "execution_count": 34,
   "id": "31257832",
   "metadata": {},
   "outputs": [],
   "source": [
    "#Hàm do người dùng xác định (UDF)\n",
    "# UDF\n",
    "from pyspark.sql.functions import udf"
   ]
  },
  {
   "cell_type": "code",
   "execution_count": 107,
   "id": "4f11cbc9",
   "metadata": {},
   "outputs": [],
   "source": [
    "#Hàm python thông thường\n",
    "#normal function \n",
    "def price_range(country):\n",
    "    if country in ['Samsung','Apple']:\n",
    "        return 'High Price'\n",
    "    elif brand =='Germany':\n",
    "        return 'Mid Price'\n",
    "    else:\n",
    "        return 'Low Price'"
   ]
  },
  {
   "cell_type": "code",
   "execution_count": 104,
   "id": "d391400b",
   "metadata": {},
   "outputs": [
    {
     "name": "stdout",
     "output_type": "stream",
     "text": [
      "+---------+----------+--------+-----------+---------+------+---+------+---------+-------------+---------+--------------+---------------+------+----------------+-----------+\n",
      "|RowNumber|CustomerId|Surname |CreditScore|Geography|Gender|Age|Tenure|Balance  |NumOfProducts|HasCrCard|IsActiveMember|EstimatedSalary|Exited|age_after_10_yrs|price_range|\n",
      "+---------+----------+--------+-----------+---------+------+---+------+---------+-------------+---------+--------------+---------------+------+----------------+-----------+\n",
      "|1        |15634602  |Hargrave|619        |France   |Female|42 |2     |0.0      |1            |1        |1             |101348.88      |1     |52              |Low Price  |\n",
      "|2        |15647311  |Hill    |608        |Spain    |Female|41 |1     |83807.86 |1            |0        |1             |112542.58      |0     |51              |Low Price  |\n",
      "|3        |15619304  |Onio    |502        |France   |Female|42 |8     |159660.8 |3            |1        |0             |113931.57      |1     |52              |Low Price  |\n",
      "|4        |15701354  |Boni    |699        |France   |Female|39 |1     |0.0      |2            |0        |0             |93826.63       |0     |49              |Low Price  |\n",
      "|5        |15737888  |Mitchell|850        |Spain    |Female|43 |2     |125510.82|1            |1        |1             |79084.1        |0     |53              |Low Price  |\n",
      "|6        |15574012  |Chu     |645        |Spain    |Male  |44 |8     |113755.78|2            |1        |0             |149756.71      |1     |54              |Low Price  |\n",
      "|7        |15592531  |Bartlett|822        |France   |Male  |50 |7     |0.0      |2            |1        |1             |10062.8        |0     |60              |Low Price  |\n",
      "|8        |15656148  |Obinna  |376        |Germany  |Female|29 |4     |115046.74|4            |1        |0             |119346.88      |1     |39              |Mid Price  |\n",
      "|9        |15792365  |He      |501        |France   |Male  |44 |4     |142051.07|2            |0        |1             |74940.5        |0     |54              |Low Price  |\n",
      "|10       |15592389  |H?      |684        |France   |Male  |27 |2     |134603.88|1            |1        |1             |71725.73       |0     |37              |Low Price  |\n",
      "+---------+----------+--------+-----------+---------+------+---+------+---------+-------------+---------+--------------+---------------+------+----------------+-----------+\n",
      "only showing top 10 rows\n",
      "\n"
     ]
    }
   ],
   "source": [
    "#create udf using python function\n",
    "brand_udf=udf(price_range,StringType())\n",
    "#apply udf on dataframe\n",
    "df.withColumn('price_range',brand_udf(df['Geography'])).show(10,False)"
   ]
  },
  {
   "cell_type": "code",
   "execution_count": 38,
   "id": "4c0f96dc",
   "metadata": {},
   "outputs": [],
   "source": [
    "#Pandas UDF (Véc tơ hóa UDF)\n",
    "#pandas udf\n",
    "from pyspark.sql.functions import pandas_udf, PandasUDFType"
   ]
  },
  {
   "cell_type": "code",
   "execution_count": 39,
   "id": "86b65f81",
   "metadata": {},
   "outputs": [],
   "source": [
    "#create python function\n",
    "def remaining_yrs(age):\n",
    "    yrs_left=100-age\n",
    "\n",
    "    return yrs_left"
   ]
  },
  {
   "cell_type": "code",
   "execution_count": 40,
   "id": "9839ea26",
   "metadata": {},
   "outputs": [],
   "source": [
    "from pyspark.sql.types import IntegerType\n",
    "#create udf using python function\n",
    "length_udf = pandas_udf(remaining_yrs, IntegerType())"
   ]
  },
  {
   "cell_type": "code",
   "execution_count": 41,
   "id": "aa135a4e",
   "metadata": {},
   "outputs": [
    {
     "name": "stdout",
     "output_type": "stream",
     "text": [
      "+-------+---+----------+------+-------+----------------+--------+\n",
      "|ratings|age|experience|family|mobile |age_after_10_yrs|yrs_left|\n",
      "+-------+---+----------+------+-------+----------------+--------+\n",
      "|3      |32 |9.0       |3     |Vivo   |42              |68      |\n",
      "|3      |27 |13.0      |3     |Apple  |37              |73      |\n",
      "|4      |22 |2.5       |0     |Samsung|32              |78      |\n",
      "|4      |37 |16.5      |4     |Apple  |47              |63      |\n",
      "|5      |27 |9.0       |1     |MI     |37              |73      |\n",
      "|4      |27 |9.0       |0     |Oppo   |37              |73      |\n",
      "|5      |37 |23.0      |5     |Vivo   |47              |63      |\n",
      "|5      |37 |23.0      |5     |Samsung|47              |63      |\n",
      "|3      |22 |2.5       |0     |Apple  |32              |78      |\n",
      "|3      |27 |6.0       |0     |MI     |37              |73      |\n",
      "+-------+---+----------+------+-------+----------------+--------+\n",
      "only showing top 10 rows\n",
      "\n"
     ]
    }
   ],
   "source": [
    "#apply pandas udf on dataframe\n",
    "df.withColumn(\"yrs_left\", length_udf(df['age'])).show(10,False)"
   ]
  },
  {
   "cell_type": "code",
   "execution_count": 42,
   "id": "fc98dfc0",
   "metadata": {},
   "outputs": [],
   "source": [
    "#Pandas UDF (Nhiều cột)\n",
    "#udf using two columns \n",
    "def prod(rating,exp):\n",
    "    x=rating*exp\n",
    "    return x"
   ]
  },
  {
   "cell_type": "code",
   "execution_count": 108,
   "id": "ea2b551e",
   "metadata": {},
   "outputs": [
    {
     "name": "stdout",
     "output_type": "stream",
     "text": [
      "+---------+----------+--------+-----------+---------+------+---+------+---------+-------------+---------+--------------+---------------+------+----------------+-------+\n",
      "|RowNumber|CustomerId|Surname |CreditScore|Geography|Gender|Age|Tenure|Balance  |NumOfProducts|HasCrCard|IsActiveMember|EstimatedSalary|Exited|age_after_10_yrs|product|\n",
      "+---------+----------+--------+-----------+---------+------+---+------+---------+-------------+---------+--------------+---------------+------+----------------+-------+\n",
      "|1        |15634602  |Hargrave|619        |France   |Female|42 |2     |0.0      |1            |1        |1             |101348.88      |1     |52              |1238.0 |\n",
      "|2        |15647311  |Hill    |608        |Spain    |Female|41 |1     |83807.86 |1            |0        |1             |112542.58      |0     |51              |608.0  |\n",
      "|3        |15619304  |Onio    |502        |France   |Female|42 |8     |159660.8 |3            |1        |0             |113931.57      |1     |52              |4016.0 |\n",
      "|4        |15701354  |Boni    |699        |France   |Female|39 |1     |0.0      |2            |0        |0             |93826.63       |0     |49              |699.0  |\n",
      "|5        |15737888  |Mitchell|850        |Spain    |Female|43 |2     |125510.82|1            |1        |1             |79084.1        |0     |53              |1700.0 |\n",
      "|6        |15574012  |Chu     |645        |Spain    |Male  |44 |8     |113755.78|2            |1        |0             |149756.71      |1     |54              |5160.0 |\n",
      "|7        |15592531  |Bartlett|822        |France   |Male  |50 |7     |0.0      |2            |1        |1             |10062.8        |0     |60              |5754.0 |\n",
      "+---------+----------+--------+-----------+---------+------+---+------+---------+-------------+---------+--------------+---------------+------+----------------+-------+\n",
      "only showing top 7 rows\n",
      "\n"
     ]
    }
   ],
   "source": [
    "#create udf using python function\n",
    "prod_udf = pandas_udf(prod, DoubleType())\n",
    "#apply pandas udf on multiple columns of dataframe\n",
    "df.withColumn(\"product\", prod_udf(df['CreditScore'],df['Tenure'])).show(7,False)"
   ]
  },
  {
   "cell_type": "code",
   "execution_count": 44,
   "id": "7cd5e4d2",
   "metadata": {},
   "outputs": [
    {
     "data": {
      "text/plain": [
       "33"
      ]
     },
     "execution_count": 44,
     "metadata": {},
     "output_type": "execute_result"
    }
   ],
   "source": [
    "#Bỏ các giá trị trùng lặp\n",
    "#duplicate values\n",
    "df.count()\n"
   ]
  },
  {
   "cell_type": "code",
   "execution_count": 45,
   "id": "d81eebcc",
   "metadata": {},
   "outputs": [],
   "source": [
    "#drop duplicate values\n",
    "df=df.dropDuplicates()"
   ]
  },
  {
   "cell_type": "code",
   "execution_count": 46,
   "id": "d3bebd72",
   "metadata": {},
   "outputs": [
    {
     "data": {
      "text/plain": [
       "26"
      ]
     },
     "execution_count": 46,
     "metadata": {},
     "output_type": "execute_result"
    }
   ],
   "source": [
    "#validate new count\n",
    "df.count()"
   ]
  },
  {
   "cell_type": "code",
   "execution_count": 109,
   "id": "acacf454",
   "metadata": {},
   "outputs": [],
   "source": [
    "#xóa cột\n",
    "#drop column of dataframe\n",
    "df_new=df.drop('Geography')"
   ]
  },
  {
   "cell_type": "code",
   "execution_count": 48,
   "id": "1c355e27",
   "metadata": {},
   "outputs": [
    {
     "name": "stdout",
     "output_type": "stream",
     "text": [
      "+-------+---+----------+------+----------------+\n",
      "|ratings|age|experience|family|age_after_10_yrs|\n",
      "+-------+---+----------+------+----------------+\n",
      "|      4| 37|      16.5|     4|              47|\n",
      "|      3| 42|      23.0|     5|              52|\n",
      "|      4| 37|       6.0|     0|              47|\n",
      "|      5| 37|      23.0|     5|              47|\n",
      "|      2| 27|       9.0|     2|              37|\n",
      "|      4| 22|       2.5|     0|              32|\n",
      "|      5| 27|       6.0|     0|              37|\n",
      "|      4| 27|       9.0|     0|              37|\n",
      "|      3| 22|       2.5|     0|              32|\n",
      "|      2| 27|       6.0|     2|              37|\n",
      "+-------+---+----------+------+----------------+\n",
      "only showing top 10 rows\n",
      "\n"
     ]
    }
   ],
   "source": [
    "df_new.show(10)"
   ]
  },
  {
   "cell_type": "code",
   "execution_count": 49,
   "id": "bff6b28b",
   "metadata": {},
   "outputs": [
    {
     "data": {
      "text/plain": [
       "'C:\\\\Users\\\\Do Hai Nhi'"
      ]
     },
     "execution_count": 49,
     "metadata": {},
     "output_type": "execute_result"
    }
   ],
   "source": [
    "#ghi tệp CSV \n",
    "#current working directory\n",
    "import os\n",
    "# pwd\n",
    "os.getcwd()"
   ]
  },
  {
   "cell_type": "code",
   "execution_count": 110,
   "id": "6361edce",
   "metadata": {},
   "outputs": [],
   "source": [
    "#target directory \n",
    "write_uri='/works1/df_csv'"
   ]
  },
  {
   "cell_type": "code",
   "execution_count": 111,
   "id": "754b1f85",
   "metadata": {},
   "outputs": [],
   "source": [
    "#save the dataframe as single csv \n",
    "df.coalesce(1).write.format(\"csv\").option(\"header\",\"true\").save(write_uri)"
   ]
  },
  {
   "cell_type": "code",
   "execution_count": 112,
   "id": "d5f64a03",
   "metadata": {},
   "outputs": [],
   "source": [
    "#ghi tệp Parquet\n",
    "#target location\n",
    "parquet_uri='/works1/df_parquet'"
   ]
  },
  {
   "cell_type": "code",
   "execution_count": 113,
   "id": "8a118348",
   "metadata": {},
   "outputs": [],
   "source": [
    "#save the data into parquet format \n",
    "df.write.format('parquet').save(parquet_uri)"
   ]
  },
  {
   "cell_type": "code",
   "execution_count": null,
   "id": "8da54d30",
   "metadata": {},
   "outputs": [],
   "source": []
  }
 ],
 "metadata": {
  "kernelspec": {
   "display_name": "Python 3 (ipykernel)",
   "language": "python",
   "name": "python3"
  },
  "language_info": {
   "codemirror_mode": {
    "name": "ipython",
    "version": 3
   },
   "file_extension": ".py",
   "mimetype": "text/x-python",
   "name": "python",
   "nbconvert_exporter": "python",
   "pygments_lexer": "ipython3",
   "version": "3.9.7"
  }
 },
 "nbformat": 4,
 "nbformat_minor": 5
}
